{
 "cells": [
  {
   "cell_type": "markdown",
   "metadata": {},
   "source": [
    "# Exemple d'utilisation d'algorithme de régression"
   ]
  },
  {
   "cell_type": "markdown",
   "metadata": {},
   "source": [
    "## Création du dataframe boston_house"
   ]
  },
  {
   "cell_type": "code",
   "execution_count": 4,
   "metadata": {},
   "outputs": [
    {
     "data": {
      "text/html": [
       "<div>\n",
       "<style>\n",
       "    .dataframe thead tr:only-child th {\n",
       "        text-align: right;\n",
       "    }\n",
       "\n",
       "    .dataframe thead th {\n",
       "        text-align: left;\n",
       "    }\n",
       "\n",
       "    .dataframe tbody tr th {\n",
       "        vertical-align: top;\n",
       "    }\n",
       "</style>\n",
       "<table border=\"1\" class=\"dataframe\">\n",
       "  <thead>\n",
       "    <tr style=\"text-align: right;\">\n",
       "      <th></th>\n",
       "      <th>CRIM</th>\n",
       "      <th>ZN</th>\n",
       "      <th>INDUS</th>\n",
       "      <th>CHAS</th>\n",
       "      <th>NOX</th>\n",
       "      <th>RM</th>\n",
       "      <th>AGE</th>\n",
       "      <th>DIS</th>\n",
       "      <th>RAD</th>\n",
       "      <th>TAX</th>\n",
       "      <th>PTRATIO</th>\n",
       "      <th>B</th>\n",
       "      <th>LSTAT</th>\n",
       "      <th>target_price</th>\n",
       "    </tr>\n",
       "  </thead>\n",
       "  <tbody>\n",
       "    <tr>\n",
       "      <th>0</th>\n",
       "      <td>0.00632</td>\n",
       "      <td>18.0</td>\n",
       "      <td>2.31</td>\n",
       "      <td>0.0</td>\n",
       "      <td>0.538</td>\n",
       "      <td>6.575</td>\n",
       "      <td>65.2</td>\n",
       "      <td>4.0900</td>\n",
       "      <td>1.0</td>\n",
       "      <td>296.0</td>\n",
       "      <td>15.3</td>\n",
       "      <td>396.90</td>\n",
       "      <td>4.98</td>\n",
       "      <td>24.0</td>\n",
       "    </tr>\n",
       "    <tr>\n",
       "      <th>1</th>\n",
       "      <td>0.02731</td>\n",
       "      <td>0.0</td>\n",
       "      <td>7.07</td>\n",
       "      <td>0.0</td>\n",
       "      <td>0.469</td>\n",
       "      <td>6.421</td>\n",
       "      <td>78.9</td>\n",
       "      <td>4.9671</td>\n",
       "      <td>2.0</td>\n",
       "      <td>242.0</td>\n",
       "      <td>17.8</td>\n",
       "      <td>396.90</td>\n",
       "      <td>9.14</td>\n",
       "      <td>21.6</td>\n",
       "    </tr>\n",
       "    <tr>\n",
       "      <th>2</th>\n",
       "      <td>0.02729</td>\n",
       "      <td>0.0</td>\n",
       "      <td>7.07</td>\n",
       "      <td>0.0</td>\n",
       "      <td>0.469</td>\n",
       "      <td>7.185</td>\n",
       "      <td>61.1</td>\n",
       "      <td>4.9671</td>\n",
       "      <td>2.0</td>\n",
       "      <td>242.0</td>\n",
       "      <td>17.8</td>\n",
       "      <td>392.83</td>\n",
       "      <td>4.03</td>\n",
       "      <td>34.7</td>\n",
       "    </tr>\n",
       "  </tbody>\n",
       "</table>\n",
       "</div>"
      ],
      "text/plain": [
       "      CRIM    ZN  INDUS  CHAS    NOX     RM   AGE     DIS  RAD    TAX  \\\n",
       "0  0.00632  18.0   2.31   0.0  0.538  6.575  65.2  4.0900  1.0  296.0   \n",
       "1  0.02731   0.0   7.07   0.0  0.469  6.421  78.9  4.9671  2.0  242.0   \n",
       "2  0.02729   0.0   7.07   0.0  0.469  7.185  61.1  4.9671  2.0  242.0   \n",
       "\n",
       "   PTRATIO       B  LSTAT  target_price  \n",
       "0     15.3  396.90   4.98          24.0  \n",
       "1     17.8  396.90   9.14          21.6  \n",
       "2     17.8  392.83   4.03          34.7  "
      ]
     },
     "execution_count": 4,
     "metadata": {},
     "output_type": "execute_result"
    }
   ],
   "source": [
    "import numpy as np\n",
    "import pandas as pd\n",
    "\n",
    "from sklearn.datasets import load_boston\n",
    "boston = load_boston()\n",
    "dir(boston)\n",
    "\n",
    "YV = boston.target.reshape(len(boston.target),1)\n",
    "datav = np.concatenate((boston.data,YV),axis=1)\n",
    "feature_name = list(boston.feature_names)+['target_price']\n",
    "\n",
    "boston_house = pd.DataFrame(datav,columns=feature_name)\n",
    "boston_house .head(3)"
   ]
  },
  {
   "cell_type": "markdown",
   "metadata": {},
   "source": [
    "Le but des exemples suivant est de prédire la variable target_price en fonction des features CRIM, ZN ,INDUS ,CHAS ,NOX,RM, AGE, DIS, RAD, TAX, PTRATIO, B, LSTAT. On décrit les features:<br>\n",
    "\n",
    "   * CRIM     per capita crime rate by town\n",
    "   * ZN       proportion of residential land zoned for lots over 25,000 sq.ft.\n",
    "   * INDUS    proportion of non-retail business acres per town\n",
    "   * CHAS     Charles River dummy variable (= 1 if tract bounds river; 0 otherwise)\n",
    "   * NOX      nitric oxides concentration (parts per 10 million)\n",
    "   * RM       average number of rooms per dwelling\n",
    "   * AGE      proportion of owner-occupied units built prior to 1940\n",
    "   * DIS      weighted distances to five Boston employment centres\n",
    "   * RAD      index of accessibility to radial highways\n",
    "   * TAX      full-value property-tax rate per \\$10,000\n",
    "   * PTRATIO  pupil-teacher ratio by town\n",
    "   * B        $1000(Bk - 0.63)^2$ where Bk is the proportion of blacks by town\n",
    "   * LSTAT     lower status of the population\n",
    "   * MEDV     Median value of owner-occupied homes in $1000's"
   ]
  },
  {
   "cell_type": "markdown",
   "metadata": {},
   "source": [
    "## Exemple : RandomForestRegressor sur le dataframe boston_house"
   ]
  },
  {
   "cell_type": "markdown",
   "metadata": {},
   "source": [
    "1) On divise en échantillon d'apprentissage et de test'"
   ]
  },
  {
   "cell_type": "code",
   "execution_count": 3,
   "metadata": {
    "collapsed": true
   },
   "outputs": [],
   "source": [
    "from sklearn.model_selection import train_test_split\n",
    "\n",
    "var_expl = [o for o in boston_house.columns if o!='target_price']\n",
    "X = boston_house[var_expl]\n",
    "Y = boston_house['target_price']\n",
    "X_train, X_test, Y_train, Y_test = train_test_split(X,Y,test_size=0.25,\\\n",
    "                                                    random_state=1998)"
   ]
  },
  {
   "cell_type": "markdown",
   "metadata": {},
   "source": [
    "2) On appelle un model de random forest regressor"
   ]
  },
  {
   "cell_type": "code",
   "execution_count": 12,
   "metadata": {},
   "outputs": [
    {
     "data": {
      "text/plain": [
       "RandomForestRegressor(bootstrap=True, criterion='mse', max_depth=13,\n",
       "           max_features=10, max_leaf_nodes=None, min_impurity_split=1e-07,\n",
       "           min_samples_leaf=1, min_samples_split=2,\n",
       "           min_weight_fraction_leaf=0.0, n_estimators=15, n_jobs=1,\n",
       "           oob_score=False, random_state=2018, verbose=0, warm_start=False)"
      ]
     },
     "execution_count": 12,
     "metadata": {},
     "output_type": "execute_result"
    }
   ],
   "source": [
    "from sklearn.ensemble import RandomForestRegressor\n",
    "#mae\n",
    "rfr = RandomForestRegressor(n_estimators=15,max_features=10,max_depth=13,\\\n",
    "                            random_state=2018,criterion='mse')\n",
    "rfr.fit(X_train,Y_train)"
   ]
  },
  {
   "cell_type": "markdown",
   "metadata": {},
   "source": [
    "3) On calcule le mean_squared_error"
   ]
  },
  {
   "cell_type": "code",
   "execution_count": 13,
   "metadata": {},
   "outputs": [
    {
     "data": {
      "text/plain": [
       "8.2182917856857305"
      ]
     },
     "execution_count": 13,
     "metadata": {},
     "output_type": "execute_result"
    }
   ],
   "source": [
    "from sklearn.metrics import mean_squared_error\n",
    "mean_squared_error(Y_test,rfr.predict(X_test))"
   ]
  },
  {
   "cell_type": "markdown",
   "metadata": {},
   "source": [
    "4) On calcule le mean_absolute_error"
   ]
  },
  {
   "cell_type": "code",
   "execution_count": 10,
   "metadata": {},
   "outputs": [
    {
     "data": {
      "text/plain": [
       "2.1095275590551181"
      ]
     },
     "execution_count": 10,
     "metadata": {},
     "output_type": "execute_result"
    }
   ],
   "source": [
    "from sklearn.metrics import mean_absolute_error\n",
    "mean_absolute_error(Y_test,rfr.predict(X_test))"
   ]
  },
  {
   "cell_type": "markdown",
   "metadata": {},
   "source": [
    "5) On calcule median_absolute_error"
   ]
  },
  {
   "cell_type": "code",
   "execution_count": 7,
   "metadata": {},
   "outputs": [
    {
     "data": {
      "text/plain": [
       "1.7700000000000031"
      ]
     },
     "execution_count": 7,
     "metadata": {},
     "output_type": "execute_result"
    }
   ],
   "source": [
    "from sklearn.metrics import median_absolute_error\n",
    "median_absolute_error(Y_test,rfr.predict(X_test))"
   ]
  },
  {
   "cell_type": "markdown",
   "metadata": {},
   "source": [
    "6) On appelle GridSearchCV avec le model RandomForestRegressor. Le nombre d'arbre varie de 10 à 20, le nombre maximum de features varie de 8 à 13, la profondeur maximum va de 9 à 16. On fera une validation croisé à 4 parties (4-fold cross validation). Random_state sera egale à 2018."
   ]
  },
  {
   "cell_type": "code",
   "execution_count": 26,
   "metadata": {},
   "outputs": [
    {
     "data": {
      "text/plain": [
       "GridSearchCV(cv=None, error_score='raise',\n",
       "       estimator=RandomForestRegressor(bootstrap=True, criterion='mse', max_depth=None,\n",
       "           max_features='auto', max_leaf_nodes=None,\n",
       "           min_impurity_split=1e-07, min_samples_leaf=1,\n",
       "           min_samples_split=2, min_weight_fraction_leaf=0.0,\n",
       "           n_estimators=10, n_jobs=1, oob_score=False, random_state=2018,\n",
       "           verbose=0, warm_start=False),\n",
       "       fit_params={}, iid=True, n_jobs=1,\n",
       "       param_grid={'n_estimators': [10, 11, 12, 13, 14, 15, 16, 17, 18, 19, 20], 'max_features': [8, 9, 10, 11, 12, 13], 'max_depth': [9, 10, 11, 12, 13, 14, 15, 16]},\n",
       "       pre_dispatch='2*n_jobs', refit=True, return_train_score=True,\n",
       "       scoring='neg_mean_squared_error', verbose=0)"
      ]
     },
     "execution_count": 26,
     "metadata": {},
     "output_type": "execute_result"
    }
   ],
   "source": [
    "from sklearn.model_selection import GridSearchCV\n",
    "from sklearn.ensemble import RandomForestRegressor\n",
    "rdfr = RandomForestRegressor(random_state=2018)\n",
    "\n",
    "parameters = {'n_estimators':list(range(10,21)),'max_features':list(range(8,14)),\\\n",
    "              'max_depth':list(range(9,17))}\n",
    "\n",
    "clf = GridSearchCV(estimator=rdfr,param_grid=parameters,\\\n",
    "                   scoring='neg_mean_squared_error')\n",
    "clf.fit(X_train,Y_train)"
   ]
  },
  {
   "cell_type": "code",
   "execution_count": 27,
   "metadata": {},
   "outputs": [
    {
     "data": {
      "text/plain": [
       "{'max_depth': 13, 'max_features': 8, 'n_estimators': 19}"
      ]
     },
     "execution_count": 27,
     "metadata": {},
     "output_type": "execute_result"
    }
   ],
   "source": [
    "clf.best_params_"
   ]
  },
  {
   "cell_type": "markdown",
   "metadata": {},
   "source": [
    "7) On fait un modele RandomForestRegressor avec les clf.best_params_"
   ]
  },
  {
   "cell_type": "code",
   "execution_count": 28,
   "metadata": {},
   "outputs": [
    {
     "data": {
      "text/plain": [
       "RandomForestRegressor(bootstrap=True, criterion='mse', max_depth=13,\n",
       "           max_features=8, max_leaf_nodes=None, min_impurity_split=1e-07,\n",
       "           min_samples_leaf=1, min_samples_split=2,\n",
       "           min_weight_fraction_leaf=0.0, n_estimators=19, n_jobs=1,\n",
       "           oob_score=False, random_state=2018, verbose=0, warm_start=False)"
      ]
     },
     "execution_count": 28,
     "metadata": {},
     "output_type": "execute_result"
    }
   ],
   "source": [
    "from sklearn.ensemble import RandomForestRegressor\n",
    "rdfbest = RandomForestRegressor(n_estimators=19,max_features=8,max_depth= 13,\\\n",
    "                                random_state=2018,criterion='mse')\n",
    "rdfbest.fit(X_train,Y_train)"
   ]
  },
  {
   "cell_type": "code",
   "execution_count": 29,
   "metadata": {},
   "outputs": [
    {
     "data": {
      "text/plain": [
       "9.1140756016540063"
      ]
     },
     "execution_count": 29,
     "metadata": {},
     "output_type": "execute_result"
    }
   ],
   "source": [
    "from sklearn.metrics import mean_squared_error\n",
    "mean_squared_error(Y_test,rdfbest.predict(X_test))"
   ]
  },
  {
   "cell_type": "markdown",
   "metadata": {},
   "source": [
    "Les résultats de GridSearchCV sont décevants. On va donc faire une boucle pour trouver "
   ]
  },
  {
   "cell_type": "code",
   "execution_count": 35,
   "metadata": {
    "collapsed": true
   },
   "outputs": [],
   "source": [
    "RESULTA = []\n",
    "for nes in range(10,21):\n",
    "    for feat in range(8,14):\n",
    "        for depth in range(9,17):\n",
    "            rdf= RandomForestRegressor(n_estimators=nes,max_features=feat,\\\n",
    "                                       max_depth= depth,random_state=2018,criterion='mse')\n",
    "            rdf.fit(X_train,Y_train)\n",
    "            msetest = mean_squared_error(Y_test,rdf.predict(X_test))\n",
    "            msetrain= mean_squared_error(Y_train,rdf.predict(X_train))\n",
    "            RESULTA.append([nes,feat,depth,msetrain,msetest])"
   ]
  },
  {
   "cell_type": "markdown",
   "metadata": {},
   "source": [
    "## Exemple :  réseau de neurone de régression sur le dataframe boston_house"
   ]
  },
  {
   "cell_type": "markdown",
   "metadata": {},
   "source": [
    "1) On divise en échantillon d'apprentissage et de test"
   ]
  },
  {
   "cell_type": "code",
   "execution_count": 10,
   "metadata": {
    "collapsed": true
   },
   "outputs": [],
   "source": [
    "from sklearn.model_selection import train_test_split\n",
    "\n",
    "var_expl = [o for o in boston_house.columns if o!='target_price']\n",
    "X = boston_house[var_expl]\n",
    "Y = boston_house['target_price']\n",
    "X_train, X_test, Y_train, Y_test = train_test_split(X,Y,test_size=0.25,random_state=1998)"
   ]
  },
  {
   "cell_type": "markdown",
   "metadata": {},
   "source": [
    "2) On appelle un model de réseaux de neurone avec 2 couches cachées de respectivement de 8 perceptrons et 7 perceptrons, avec la fonction d'activation relu et méthode de descente de type newtown avec random_state=2018, une contrainte de pénalisation L2 de 0.01."
   ]
  },
  {
   "cell_type": "code",
   "execution_count": 11,
   "metadata": {},
   "outputs": [
    {
     "data": {
      "text/plain": [
       "MLPRegressor(activation='relu', alpha=0.01, batch_size='auto', beta_1=0.9,\n",
       "       beta_2=0.999, early_stopping=False, epsilon=1e-08,\n",
       "       hidden_layer_sizes=(8, 7), learning_rate='constant',\n",
       "       learning_rate_init=0.001, max_iter=500, momentum=0.9,\n",
       "       nesterovs_momentum=True, power_t=0.5, random_state=2018,\n",
       "       shuffle=True, solver='lbfgs', tol=0.0001, validation_fraction=0.1,\n",
       "       verbose=False, warm_start=False)"
      ]
     },
     "execution_count": 11,
     "metadata": {},
     "output_type": "execute_result"
    }
   ],
   "source": [
    "from sklearn.neural_network import MLPRegressor\n",
    "clf = MLPRegressor(hidden_layer_sizes=(8,7), activation='relu',\\\n",
    "                   solver='lbfgs',alpha=0.01,max_iter=500,random_state=2018)\n",
    "clf.fit(X_train,Y_train)"
   ]
  },
  {
   "cell_type": "markdown",
   "metadata": {},
   "source": [
    "3) Calculer l'erreur quadratique moyenne et l'erreur absolue moyenne du modele l'ensemble de test"
   ]
  },
  {
   "cell_type": "code",
   "execution_count": 12,
   "metadata": {},
   "outputs": [
    {
     "data": {
      "text/plain": [
       "42.749443206205569"
      ]
     },
     "execution_count": 12,
     "metadata": {},
     "output_type": "execute_result"
    }
   ],
   "source": [
    "from sklearn.metrics import mean_squared_error, mean_absolute_error\n",
    "mean_squared_error(Y_test,clf.predict(X_test))"
   ]
  },
  {
   "cell_type": "code",
   "execution_count": 13,
   "metadata": {},
   "outputs": [
    {
     "data": {
      "text/plain": [
       "4.6050417592175847"
      ]
     },
     "execution_count": 13,
     "metadata": {},
     "output_type": "execute_result"
    }
   ],
   "source": [
    "mean_absolute_error(Y_test,clf.predict(X_test))"
   ]
  },
  {
   "cell_type": "markdown",
   "metadata": {},
   "source": [
    "4) Les scores ne sont pas bon, on va faire un réseau de neurone à une seule couche caché de 5 perceptrons une fonction d'activation relu."
   ]
  },
  {
   "cell_type": "code",
   "execution_count": 48,
   "metadata": {},
   "outputs": [
    {
     "data": {
      "text/plain": [
       "MLPRegressor(activation='relu', alpha=0.0001, batch_size='auto', beta_1=0.9,\n",
       "       beta_2=0.999, early_stopping=False, epsilon=1e-08,\n",
       "       hidden_layer_sizes=(14,), learning_rate='constant',\n",
       "       learning_rate_init=0.001, max_iter=800, momentum=0.9,\n",
       "       nesterovs_momentum=True, power_t=0.5, random_state=2018,\n",
       "       shuffle=True, solver='lbfgs', tol=0.0001, validation_fraction=0.1,\n",
       "       verbose=False, warm_start=False)"
      ]
     },
     "execution_count": 48,
     "metadata": {},
     "output_type": "execute_result"
    }
   ],
   "source": [
    "from sklearn.neural_network import MLPRegressor\n",
    "reg2 = MLPRegressor(hidden_layer_sizes=(14,),activation='relu',\\\n",
    "                    solver='lbfgs',max_iter=800,random_state=2018)\n",
    "\n",
    "reg2.fit(X_train,Y_train)"
   ]
  },
  {
   "cell_type": "code",
   "execution_count": 49,
   "metadata": {},
   "outputs": [
    {
     "data": {
      "text/plain": [
       "21.106325567289062"
      ]
     },
     "execution_count": 49,
     "metadata": {},
     "output_type": "execute_result"
    }
   ],
   "source": [
    "from sklearn.metrics import mean_squared_error, mean_absolute_error\n",
    "mean_squared_error(Y_test,reg2.predict(X_test))"
   ]
  },
  {
   "cell_type": "code",
   "execution_count": 50,
   "metadata": {},
   "outputs": [
    {
     "data": {
      "text/plain": [
       "3.2164597820191552"
      ]
     },
     "execution_count": 50,
     "metadata": {},
     "output_type": "execute_result"
    }
   ],
   "source": [
    "mean_absolute_error(Y_test,reg2.predict(X_test))"
   ]
  },
  {
   "cell_type": "markdown",
   "metadata": {},
   "source": [
    "## Exemple : Epsilon-Support Vector Regression sur le dataframe boston_house"
   ]
  },
  {
   "cell_type": "markdown",
   "metadata": {},
   "source": [
    "1) On divise en échantillon d'apprentissage et de test"
   ]
  },
  {
   "cell_type": "code",
   "execution_count": 5,
   "metadata": {
    "collapsed": true
   },
   "outputs": [],
   "source": [
    "from sklearn.model_selection import train_test_split\n",
    "\n",
    "var_expl = [o for o in boston_house.columns if o!='target_price']\n",
    "X = boston_house[var_expl]\n",
    "Y = boston_house['target_price']\n",
    "\n",
    "X_train,X_test,Y_train,Y_test = train_test_split(X,Y,test_size=0.25,random_state=1998)"
   ]
  },
  {
   "cell_type": "markdown",
   "metadata": {},
   "source": [
    "2) On scale X_train et X_test"
   ]
  },
  {
   "cell_type": "code",
   "execution_count": 6,
   "metadata": {
    "collapsed": true
   },
   "outputs": [],
   "source": [
    "from sklearn.preprocessing import StandardScaler\n",
    "scale = StandardScaler()\n",
    "scale.fit(X_train)\n",
    "X_train_scal = scale.transform(X_train)\n",
    "X_test_scal = scale.transform(X_test)"
   ]
  },
  {
   "cell_type": "markdown",
   "metadata": {},
   "source": [
    "2) On va utiliser un modele Epsilon-Support Vector Regression avec le kernel rbf"
   ]
  },
  {
   "cell_type": "code",
   "execution_count": 7,
   "metadata": {},
   "outputs": [
    {
     "data": {
      "text/plain": [
       "SVR(C=40, cache_size=200, coef0=0.0, degree=3, epsilon=4, gamma=0.04,\n",
       "  kernel='rbf', max_iter=-1, shrinking=True, tol=0.001, verbose=False)"
      ]
     },
     "execution_count": 7,
     "metadata": {},
     "output_type": "execute_result"
    }
   ],
   "source": [
    "from sklearn.svm import SVR\n",
    "SVMR = SVR(kernel='rbf', degree=3, tol=0.001, C=40,gamma=0.04, epsilon=4)\n",
    "SVMR.fit(X_train_scal,Y_train)"
   ]
  },
  {
   "cell_type": "markdown",
   "metadata": {},
   "source": [
    "2) On calcule l'erreur quadratique moyenne"
   ]
  },
  {
   "cell_type": "code",
   "execution_count": 8,
   "metadata": {},
   "outputs": [
    {
     "data": {
      "text/plain": [
       "9.8437804645633307"
      ]
     },
     "execution_count": 8,
     "metadata": {},
     "output_type": "execute_result"
    }
   ],
   "source": [
    "from sklearn.metrics import mean_squared_error\n",
    "mean_squared_error(Y_test,SVMR.predict(X_test_scal))"
   ]
  },
  {
   "cell_type": "markdown",
   "metadata": {},
   "source": [
    "3) On appelle la fonctionnalité gridsearchcv sur des Epsilon-Support Vector Regression avec le kernel rbf"
   ]
  },
  {
   "cell_type": "code",
   "execution_count": 9,
   "metadata": {},
   "outputs": [
    {
     "data": {
      "text/plain": [
       "GridSearchCV(cv=None, error_score='raise',\n",
       "       estimator=SVR(C=1.0, cache_size=200, coef0=0.0, degree=3, epsilon=0.1, gamma='auto',\n",
       "  kernel='rbf', max_iter=-1, shrinking=True, tol=0.001, verbose=False),\n",
       "       fit_params={}, iid=True, n_jobs=1,\n",
       "       param_grid={'kernel': ['rbf'], 'C': [1, 2, 3, 4, 5, 6, 7, 8, 9, 10, 11, 12, 13, 14, 15, 16, 17, 18, 19, 20, 21, 22, 23, 24, 25, 26, 27, 28, 29, 30, 31, 32, 33, 34, 35, 36, 37, 38, 39, 40, 41, 42, 43, 44, 45, 46, 47, 48, 49], 'gamma': array([ 0.01,  0.02,  0.03,  0.04,  0.05,  0.06,  0.07,  0.08,  0....62,  15.41379,  16.06897,\n",
       "        16.72414,  17.37931,  18.03448,  18.68966,  19.34483,  20.     ])},\n",
       "       pre_dispatch='2*n_jobs', refit=True, return_train_score=True,\n",
       "       scoring='r2', verbose=0)"
      ]
     },
     "execution_count": 9,
     "metadata": {},
     "output_type": "execute_result"
    }
   ],
   "source": [
    "import numpy as np\n",
    "from sklearn.model_selection import GridSearchCV\n",
    "parameters = {'kernel':['rbf'],'C':list(range(1,50)),\\\n",
    "              'gamma':np.arange(0.01,0.2,0.01),'epsilon':np.linspace(1,20,30)}\n",
    "\n",
    "from sklearn.svm import SVR\n",
    "SVRG =  SVR(kernel='rbf')\n",
    "\n",
    "clf = GridSearchCV(estimator=SVRG,param_grid=parameters,scoring='r2')\n",
    "clf.fit(X_train_scal,Y_train)"
   ]
  },
  {
   "cell_type": "markdown",
   "metadata": {},
   "source": [
    "4) On regarde quels sont les meilleurs parametres et le meilleur score"
   ]
  },
  {
   "cell_type": "code",
   "execution_count": 10,
   "metadata": {},
   "outputs": [
    {
     "name": "stdout",
     "output_type": "stream",
     "text": [
      "{'C': 49, 'epsilon': 1.0, 'gamma': 0.050000000000000003, 'kernel': 'rbf'}\n",
      "0.818351707863\n"
     ]
    }
   ],
   "source": [
    "print(str(clf.best_params_))\n",
    "print(str(clf.best_score_))"
   ]
  },
  {
   "cell_type": "markdown",
   "metadata": {},
   "source": [
    "5) On appelle le modele avec clf.best_params et on regarde les scores sur l'ensemble de test"
   ]
  },
  {
   "cell_type": "code",
   "execution_count": 11,
   "metadata": {},
   "outputs": [
    {
     "data": {
      "text/plain": [
       "SVR(C=49, cache_size=200, coef0=0.0, degree=3, epsilon=1.0,\n",
       "  gamma=0.050000000000000003, kernel='rbf', max_iter=-1, shrinking=True,\n",
       "  tol=0.001, verbose=False)"
      ]
     },
     "execution_count": 11,
     "metadata": {},
     "output_type": "execute_result"
    }
   ],
   "source": [
    "from sklearn.svm import SVR\n",
    "best_para = clf.best_params_\n",
    "SVRNEW = SVR(**clf.best_params_)\n",
    "SVRNEW.fit(X_train_scal,Y_train)"
   ]
  },
  {
   "cell_type": "code",
   "execution_count": 12,
   "metadata": {},
   "outputs": [
    {
     "name": "stdout",
     "output_type": "stream",
     "text": [
      "MSE :7.95405664538\n",
      "R2 score :0.921480058423\n"
     ]
    }
   ],
   "source": [
    "from sklearn.metrics import mean_squared_error, r2_score\n",
    "print(\"MSE :\"+str(mean_squared_error(Y_test,SVRNEW.predict(X_test_scal))))\n",
    "print(\"R2 score :\"+str(r2_score(Y_test,SVRNEW.predict(X_test_scal))))"
   ]
  },
  {
   "cell_type": "markdown",
   "metadata": {},
   "source": [
    "## Exemple : GradientBoostingRegressor sur le dataframe boston_house"
   ]
  },
  {
   "cell_type": "markdown",
   "metadata": {},
   "source": [
    "1) On divise en échantillon d'apprentissage et de test"
   ]
  },
  {
   "cell_type": "code",
   "execution_count": 3,
   "metadata": {
    "collapsed": true
   },
   "outputs": [],
   "source": [
    "from sklearn.model_selection import train_test_split\n",
    "\n",
    "from sklearn.model_selection import train_test_split\n",
    "\n",
    "var_expl = [o for o in boston_house.columns if o!='target_price']\n",
    "X = boston_house[var_expl]\n",
    "Y = boston_house['target_price']\n",
    "\n",
    "X_train,X_test,Y_train,Y_test = train_test_split(X,Y,test_size=0.25,random_state=1998)"
   ]
  },
  {
   "cell_type": "markdown",
   "metadata": {},
   "source": [
    "2) On appelle un algorithme de Gradient Boosting regression avec un nombre d'arbre de 1000. Chaque arbre a pour profondeur 4. La fonction de perte est la fonction least squares 'ls'. Le parammetre learning_rate=0.01. On prend random_sate=2018."
   ]
  },
  {
   "cell_type": "code",
   "execution_count": 113,
   "metadata": {},
   "outputs": [
    {
     "data": {
      "text/plain": [
       "GradientBoostingRegressor(alpha=0.9, criterion='friedman_mse', init=None,\n",
       "             learning_rate=0.01, loss='ls', max_depth=4, max_features=None,\n",
       "             max_leaf_nodes=None, min_impurity_split=1e-07,\n",
       "             min_samples_leaf=1, min_samples_split=2,\n",
       "             min_weight_fraction_leaf=0.0, n_estimators=1000,\n",
       "             presort='auto', random_state=2018, subsample=1.0, verbose=0,\n",
       "             warm_start=False)"
      ]
     },
     "execution_count": 113,
     "metadata": {},
     "output_type": "execute_result"
    }
   ],
   "source": [
    "from sklearn.ensemble import GradientBoostingRegressor\n",
    "GBR = GradientBoostingRegressor(n_estimators=1000,max_depth=4,\\\n",
    "                                learning_rate=0.01,random_state=2018)\n",
    "GBR.fit(X_train,Y_train)"
   ]
  },
  {
   "cell_type": "markdown",
   "metadata": {},
   "source": [
    "3) On affiche l'écart quadratique moyen, l'écart absolue moyen et le score r2."
   ]
  },
  {
   "cell_type": "code",
   "execution_count": 112,
   "metadata": {},
   "outputs": [
    {
     "name": "stdout",
     "output_type": "stream",
     "text": [
      "MSE :7.05418284309\n",
      "MAE :2.02317032215\n",
      "R2 :0.930363329128\n"
     ]
    }
   ],
   "source": [
    "from sklearn.metrics import mean_squared_error,mean_absolute_error,r2_score\n",
    "print('MSE :'+str(mean_squared_error(Y_test,GBR.predict(X_test))))\n",
    "print('MAE :'+str(mean_absolute_error(Y_test,GBR.predict(X_test))))\n",
    "print('R2 :'+str(r2_score(Y_test,GBR.predict(X_test))))"
   ]
  },
  {
   "cell_type": "code",
   "execution_count": 120,
   "metadata": {},
   "outputs": [
    {
     "name": "stdout",
     "output_type": "stream",
     "text": [
      "R2 :0.928073189501\n"
     ]
    }
   ],
   "source": [
    "from sklearn.ensemble import GradientBoostingRegressor\n",
    "GBR = GradientBoostingRegressor(n_estimators=1000,max_depth=4,\\\n",
    "                                learning_rate=0.01,random_state=2018)\n",
    "GBR.fit(X_train,Y_train)\n",
    "print('R2 :'+str(r2_score(Y_test,GBR.predict(X_test))))"
   ]
  },
  {
   "cell_type": "markdown",
   "metadata": {},
   "source": [
    "4) On va tracer sur un même graphique:\n",
    "* le score r2 de l'ensemble d'apprentissage en fonction de max_depth, la profondeur de l'arbre\n",
    "* le score r2 de l'ensemble de test en fonction de max_depth, la profondeur de l'arbre\n",
    "\n",
    "Les autres paramêtres sont constants: n_estimators=1000, learning_rate=0.01,random_state=2018 "
   ]
  },
  {
   "cell_type": "code",
   "execution_count": 4,
   "metadata": {},
   "outputs": [
    {
     "data": {
      "image/png": "[encoded data removed]",
      "text/plain": [
       "<matplotlib.figure.Figure at 0x7fe5fc32ff28>"
      ]
     },
     "metadata": {},
     "output_type": "display_data"
    }
   ],
   "source": [
    "import numpy as np\n",
    "from sklearn.metrics import r2_score\n",
    "from sklearn.ensemble import GradientBoostingRegressor\n",
    "res = []\n",
    "for i in range(1,11):\n",
    "    clf = GradientBoostingRegressor(loss='ls',learning_rate=0.01,\\\n",
    "                                    n_estimators=1000,max_depth=i,\\\n",
    "                                    max_features=X_train.shape[1],random_state=2018)\n",
    "    clf.fit(X_train,Y_train)\n",
    "    resultat = [i,r2_score(Y_train,clf.predict(X_train)),r2_score(Y_test,clf.predict(X_test))]\n",
    "    res.append(resultat)\n",
    "    \n",
    "r2_train = [o[1] for o in res]\n",
    "r2_test = [o[2] for o in res]\n",
    "axix = [o[0] for o in res]\n",
    "import matplotlib.pyplot as plt\n",
    "plt.plot(axix,r2_train,label=\"R2 score train_data\")\n",
    "plt.plot(axix,r2_test,label=\"R2 score test_data\")\n",
    "plt.legend(loc=4)\n",
    "plt.show()"
   ]
  },
  {
   "cell_type": "markdown",
   "metadata": {},
   "source": [
    "Pour max_depth entre 1 et 3, on est dans le cas de l'underfitting.<br>\n",
    "On atteint le plus haut score R2 pour l'ensemble de test pour max_depth=4. <br>\n",
    "Pour max_depth supérieur à 4, le score R2 diminue pour l'ensemble de test, masi augmente pour l'ensemble d'entrainement.<br>\n",
    "Pour max_depht=10, on est typiquement dans un cas d'overfitting. Le score R2 de l'ensemble d'entrainement est 1 alors que celui de l'ensemble de test se situe entre 0.88 et 0.90."
   ]
  },
  {
   "cell_type": "markdown",
   "metadata": {},
   "source": [
    "# Exercice à rendre\n",
    "Dans les exercices suivants, on va appliquer des modêles/algorithme de machine learning sur les données assurances.<br>\n",
    "Le lien vers les données : https://www.dropbox.com/s/vatqpotujw0ibnd/insurance.csv?dl=0.<br><br>\n",
    "Les colonnes de ce fichiers sont: age,\tsex, bmi, children,\tsmoker,\tregion,\tcharges.<br>\n",
    "Le butes des exercice est de prédire la variable charge en fonction des autres. Charges est donc la variable cible. Age,\tsex, bmi, children,\tsmoker,\tregion constituent l'ensembles des features.<br> \n",
    "L'exercice 1 à pour but de créer un dataframe pandas à partire du fichier csv assurance. Dans les autres exercices, on utilisera le fichier  assurance.pkl:<br>\n",
    "https://www.dropbox.com/s/54dqzm5wsa7b0z2/insurance.pkl?dl=0"
   ]
  },
  {
   "cell_type": "markdown",
   "metadata": {},
   "source": [
    "## Exercice 1 (création du Dataframe assurance)\n",
    "* Importer le fichier assurance.csv.\n",
    "* Dumifier les variables qui doivent l'être\n",
    "* afficher les premiere lignes du dataframe crée\n",
    "* Exporter le dataframe pandas dans un pickle"
   ]
  },
  {
   "cell_type": "markdown",
   "metadata": {},
   "source": [
    "## Exercice 2 (Gradient Boosting Regressor sur assurance)"
   ]
  },
  {
   "cell_type": "markdown",
   "metadata": {},
   "source": [
    "1) Diviser le dataframe assurance en échantillon d'apprentissage et de test. La taille de l'échantillon de test représente 33% de la taille du dataframe assurance. On prendra pour paramêtre random_state=1998<br>\n",
    "X_train,Y_train représentent l'échantillon d'apprentissage. X_test,Y_test représentent l'échantillon de test."
   ]
  },
  {
   "cell_type": "code",
   "execution_count": 121,
   "metadata": {
    "collapsed": true
   },
   "outputs": [],
   "source": [
    "#votre code ici\n",
    "import pandas as pd\n",
    "rep = \"/home/fabien/Bureau/Python Dauphine/DATABASE/insurance.pkl\"\n",
    "assurance = pd.read_pickle(rep)"
   ]
  },
  {
   "cell_type": "markdown",
   "metadata": {},
   "source": [
    "2) \n",
    "* Appeller un modele du Gradient Boosting Regressor avec les parametres suivants: n_estimators=390, max_depth=4, learning_rate=0.01, random_state=2018)\n",
    "* Entrainer le modêle sur X_train, et Y_train"
   ]
  },
  {
   "cell_type": "markdown",
   "metadata": {},
   "source": [
    "3) Afficher le score R2, l'écart absolue moyen du modele crée précedement. Ces scores portent sur l'ensemble de test."
   ]
  },
  {
   "cell_type": "markdown",
   "metadata": {},
   "source": [
    "4) On va tracer sur un même graphique:\n",
    "* le score r2 de l'ensemble d'apprentissage en fonction de max_depth, la profondeur de l'arbre\n",
    "* le score r2 de l'ensemble de test en fonction de max_depth, la profondeur de l'arbre\n",
    "\n",
    "Les autres paramêtres sont constants: n_estimators=400, learning_rate=0.01,random_state=2018"
   ]
  },
  {
   "cell_type": "code",
   "execution_count": 150,
   "metadata": {
    "collapsed": true
   },
   "outputs": [],
   "source": [
    "#votre code ici\n",
    "from sklearn.ensemble import GradientBoostingRegressor\n",
    "from sklearn.metrics import r2_score\n"
   ]
  },
  {
   "cell_type": "markdown",
   "metadata": {
    "collapsed": true
   },
   "source": [
    "## Exercice 2 (Neural network Regressor sur assurance)\n",
    "1) Diviser le dataframe assurnace en échantillon d'apprentissage et de test les donnée assurance. La taille de l'échantillon de test représente 20% de la taille du dataframe assurance. On prendra pour paramêtre random_state=2003<br>\n",
    "X_train,Y_train représentent l'échantillon d'apprentissage. X_test,Y_test représentent l'échantillon de test."
   ]
  },
  {
   "cell_type": "code",
   "execution_count": 3,
   "metadata": {
    "collapsed": true
   },
   "outputs": [],
   "source": [
    "import pandas as pd\n",
    "rep = \"/home/fabien/Bureau/Python Dauphine/DATABASE/insurance.pkl\"\n",
    "assurance = pd.read_pickle(rep)"
   ]
  },
  {
   "cell_type": "markdown",
   "metadata": {},
   "source": [
    "2) Créer un modele de réseau de neurone de regression avec 2 couches caché ayant respectivement 10 perceptrons dans la première couche et 10 perceptrons dans la deuxième couche.\n",
    "* L'algorithme minimisant la perte sera de type newtonien. \n",
    "* Le nombre d'itération maximum est 1000\n",
    "* La fonction d'activation sera relu\n",
    "* La contraint L2 alpha sera la valeur par défault\n",
    "* random_state=2000\n",
    "\n",
    "Ce modele s'appelle NN1. Lancer l'apprentissage du modele (NN1.fit) sur l'ensemble d'aprentissage."
   ]
  },
  {
   "cell_type": "markdown",
   "metadata": {},
   "source": [
    "3) Calculer l'erreur moyenne absolue et le score r2 du modele NN1 sur l'ensemble de test."
   ]
  },
  {
   "cell_type": "markdown",
   "metadata": {},
   "source": [
    "4) a ) Déterminer les poids du réseau de neurone NN1 allant du neurone 3 de la couche caché 1 à l'ensemble des neurones de la couche caché 2. (En python on commence en 0)"
   ]
  },
  {
   "cell_type": "markdown",
   "metadata": {},
   "source": [
    "b) Déterminer le poids allant du neurone 3 de la couche cachée 1 au neurone 5 de la couche cachée 2."
   ]
  },
  {
   "cell_type": "markdown",
   "metadata": {},
   "source": [
    "c) Déterminer les biais de la couche caché 2. On utilisera la fonction intercepts_. On a des biais uniquement dans les couches cachées"
   ]
  },
  {
   "cell_type": "markdown",
   "metadata": {},
   "source": [
    "d) Déterminer le biais du perceptron 3 de la couche caché 1."
   ]
  },
  {
   "cell_type": "markdown",
   "metadata": {},
   "source": [
    "5) On pose:<br>\n",
    "$\\begin{eqnarray*}\n",
    "N_{i} &=& \\mbox{number of input neurons}\\\\\n",
    "N_{o} &=& \\mbox{number of output neurons}\\\\\n",
    "N_{s} &=& \\mbox{number of samples in training data}\\\\\n",
    "\\alpha &=& \\mbox{an arbitrary scaling factor usually 2-10.}\\\\\n",
    "N_{h} &=& \\frac{N_{s}}{(\\alpha (N_{i}+N_{o}))} \\mbox{upper bound on the number of hidden neurons that won't result in over-fitting}.\n",
    "\\end{eqnarray*}$<br><br>\n",
    "<b>Calculer $N_{h}$ pour $\\alpha = 5$. Afficher $N_{h}$ <b>"
   ]
  },
  {
   "cell_type": "markdown",
   "metadata": {},
   "source": [
    "6) Utiliser gridsearch cv pour faire une validation croisé de type 5 fold cross validation dans le bute d'optimiser le score r2.<br>\n",
    "Cette validation croisé sera faites sur des réseaux de neurones à 2 couches cachées.<br>\n",
    "Le nombre de perceptron de chaque couche va de 11 à 19.<br>\n",
    "On prendra random_state=2000, activation='relu' et solver='lbfgs', max_iter = 800.<br>\n",
    "Afficher ensuite dans une autre cellule le meilleur score de votre gridsearchcv.<br>\n",
    "Affiche dans une autre cellule les meilleurs paramêtres."
   ]
  },
  {
   "cell_type": "markdown",
   "metadata": {},
   "source": [
    "7) Faire un algorithme de réseaux de neurone NN_best avec les meilleurs parametres determinés à la question 6. Lancer l'apprentissage sur X_train et Y_train."
   ]
  },
  {
   "cell_type": "markdown",
   "metadata": {},
   "source": [
    "8) Calculer les score r2 de NN_best sur les données de test et afficher ce dernier."
   ]
  },
  {
   "cell_type": "markdown",
   "metadata": {},
   "source": [
    "## Exercice 3 (Epsilon-Support Vector Regression sur le dataframe assurance)\n",
    "1) Diviser le dataframe assurance en échantillon d'apprentissage et de test les donnée assurance. La taille de l'échantillon de test représente 20% de la taille du dataframe assurance. On prendra pour paramêtre random_state=2003<br>\n",
    "X_train,Y_train représentent l'échantillon d'apprentissage. X_test,Y_test représentent l'échantillon de test."
   ]
  },
  {
   "cell_type": "markdown",
   "metadata": {},
   "source": [
    "2) Scaler les donner X_train et X_test. Les résultats serons stocker dans X_train_scal et Y_train_scal."
   ]
  },
  {
   "cell_type": "markdown",
   "metadata": {},
   "source": [
    "3) Utiliser un Epsilon-Support Vector Regression avec comme parametre kernel='linear',C=200, epsilon=1, gamma=0.08. On appelera ce modele SVMR. Entrainez SVRM sur X_train et Y_train."
   ]
  },
  {
   "cell_type": "markdown",
   "metadata": {},
   "source": [
    "4) Calculer le score r2 des données de test scalées et afficher ce dernier."
   ]
  },
  {
   "cell_type": "markdown",
   "metadata": {},
   "source": [
    "5) Utiliser un Epsilon-Support Vector Regression avec comme paramêtre kernel='poly',C=800, epsilon=1, degree=3. On appelera ce modêle SVMRPOLY."
   ]
  },
  {
   "cell_type": "markdown",
   "metadata": {
    "collapsed": true
   },
   "source": [
    "4) On va tracer sur un même graphique:\n",
    "* le score r2 d'un SVR sur l'ensemble d'apprentissage en fonction du degree du polynome \n",
    "* le score r2 du même SVR l'ensemble de test en fonction du degree du polynome \n",
    "\n",
    "Les autres paramêtres sont constants: kernel='poly', C=800, epsilon=1."
   ]
  },
  {
   "cell_type": "markdown",
   "metadata": {},
   "source": [
    "## Exercice 4 (RandomForestRegressor)\n",
    "Utilisez la fonctionalité gridsearchcv sur des RandomForestRegressor pour prédire au mieux la variable charge.<br>\n",
    "Vous devrez donc trouver le meilleur algorithme possible de random forest au sens du score r2.<br>\n",
    "Indication sur la grille des parametre:<br>\n",
    "parameters = {'n_estimators':list(range(20,80)),'max_depth':list(range(3,15)),\n",
    "              'max_features':list(range(5,12))}"
   ]
  }
 ],
 "metadata": {
  "kernelspec": {
   "display_name": "Python 3",
   "language": "python",
   "name": "python3"
  },
  "language_info": {
   "codemirror_mode": {
    "name": "ipython",
    "version": 3
   },
   "file_extension": ".py",
   "mimetype": "text/x-python",
   "name": "python",
   "nbconvert_exporter": "python",
   "pygments_lexer": "ipython3",
   "version": "3.6.1"
  }
 },
 "nbformat": 4,
 "nbformat_minor": 2
}
