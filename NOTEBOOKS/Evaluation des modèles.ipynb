{
 "cells": [
  {
   "cell_type": "markdown",
   "metadata": {},
   "source": [
    "# Classification"
   ]
  },
  {
   "cell_type": "markdown",
   "metadata": {},
   "source": [
    "* matrice de confusion,precision, recall, f1-score\n",
    "* accuracy score\n",
    "* courbe roc, auc-score\n",
    "* entropie croisé"
   ]
  },
  {
   "cell_type": "markdown",
   "metadata": {},
   "source": [
    "## Precision, recall, F_mesure\n",
    "En classification binaire, les termes positifs (P) et négatifs (N) font référance à la classe prédite d'une observation fournit par le classifier.<br>\n",
    "En classification binaire, les termes true et false signifie que la classe predite coresponde à la vrais classe de l'observation.<br>\n",
    "$$\\begin{array}{lll}\n",
    "      & Vrais classe P & Vrais classe N\\\\\n",
    "classe predites P & TP (true positif) & FP (false positive)\\\\\n",
    "classe predites N & FN (false negative) & TN (true negative)\n",
    "      \\end{array}$$\n",
    "      \n",
    "On définit alors la précision, le rappel (recall), et la F_mesure:<br>\n",
    "   * precision = $\\frac{TP}{TP+FP} $\n",
    "   * recall = $\\frac{TP}{TP+FN}$\n",
    "   * $F_{\\beta}=(1+\\beta^{2})\\frac{precision\\times recall}{\\beta^{2}precision+recall}$\n",
    "   * $F_{1} = 2\\frac{precision\\times recall}{precision+recall}$ est le score F mesure"
   ]
  },
  {
   "cell_type": "markdown",
   "metadata": {},
   "source": [
    "Dans les exemples qui suivent, y_true représente les vrais classes et y_pred représente les classes prédites."
   ]
  },
  {
   "cell_type": "code",
   "execution_count": 20,
   "metadata": {
    "collapsed": true
   },
   "outputs": [],
   "source": [
    "y_true = np.array([0,1,0,0,1,1,1,1])\n",
    "y_pred = np.array([0,1,1,0,0,1,0,1])"
   ]
  },
  {
   "cell_type": "markdown",
   "metadata": {},
   "source": [
    "Ici on calcule la précision avec la precision_score:"
   ]
  },
  {
   "cell_type": "code",
   "execution_count": 24,
   "metadata": {},
   "outputs": [
    {
     "data": {
      "text/plain": [
       "0.75"
      ]
     },
     "execution_count": 24,
     "metadata": {},
     "output_type": "execute_result"
    }
   ],
   "source": [
    "from sklearn.metrics import precision_score\n",
    "\n",
    "precision = precision_score(y_true,y_pred)\n",
    "precision"
   ]
  },
  {
   "cell_type": "markdown",
   "metadata": {},
   "source": [
    "Ici on calcule le rappel (recall) avec recall_score:"
   ]
  },
  {
   "cell_type": "code",
   "execution_count": 27,
   "metadata": {
    "collapsed": true
   },
   "outputs": [],
   "source": [
    "from sklearn.metrics import recall_score\n",
    "\n",
    "recall = recall_score(y_true,y_pred)"
   ]
  },
  {
   "cell_type": "markdown",
   "metadata": {},
   "source": [
    "Dans la cellule qui suit, on détermine le F-mesure dans le cas beta=2 avec fbeta_score:"
   ]
  },
  {
   "cell_type": "code",
   "execution_count": 30,
   "metadata": {},
   "outputs": [
    {
     "data": {
      "text/plain": [
       "0.625"
      ]
     },
     "execution_count": 30,
     "metadata": {},
     "output_type": "execute_result"
    }
   ],
   "source": [
    "from sklearn.metrics import fbeta_score\n",
    "\n",
    "fbeta_score = fbeta_score(y_true,y_pred,beta=2)\n",
    "fbeta_score"
   ]
  },
  {
   "cell_type": "markdown",
   "metadata": {},
   "source": [
    "Enfin, on calcule la F_mesure avec f1_score:"
   ]
  },
  {
   "cell_type": "code",
   "execution_count": 33,
   "metadata": {
    "collapsed": true
   },
   "outputs": [],
   "source": [
    "from sklearn.metrics import f1_score\n",
    "\n",
    "f1 = f1_score(y_true,y_pred)"
   ]
  },
  {
   "cell_type": "markdown",
   "metadata": {},
   "source": [
    "## Matrice de confusion\n"
   ]
  },
  {
   "cell_type": "markdown",
   "metadata": {},
   "source": [
    "Une matrice de confusion est tableau dont  chaque ligne représente le nombre d'occurrences d'une classe réelle et chaque colonne de la matrice représente le nombre d'occurrences d'une classe estimée. Le nombre d'occurences bien classées correspond à la somme de la diagonale principale de la matrice."
   ]
  },
  {
   "cell_type": "markdown",
   "metadata": {},
   "source": [
    "### Exemple"
   ]
  },
  {
   "cell_type": "markdown",
   "metadata": {},
   "source": [
    "Ci-dessous nous allons calculer la matrice de confusion lié à une classification binaire. y_true représente les vrais classes alors que y_pred représente les classes prédites. On utilise la fonction confusion_matrix."
   ]
  },
  {
   "cell_type": "code",
   "execution_count": 43,
   "metadata": {},
   "outputs": [
    {
     "data": {
      "text/plain": [
       "array([[2, 2],\n",
       "       [1, 2]])"
      ]
     },
     "execution_count": 43,
     "metadata": {},
     "output_type": "execute_result"
    }
   ],
   "source": [
    "import numpy as np\n",
    "y_true = np.array([0,0,1,1,0,1,0])\n",
    "y_pred = np.array([0,1,0,1,0,1,1])\n",
    "\n",
    "from sklearn.metrics import confusion_matrix\n",
    "\n",
    "MAT_CONFUSION = confusion_matrix(y_true,y_pred)\n",
    "MAT_CONFUSION"
   ]
  },
  {
   "cell_type": "markdown",
   "metadata": {},
   "source": [
    "Le nombre d'observation de vrais classe 1 étant prédite en 1 est 2."
   ]
  },
  {
   "cell_type": "code",
   "execution_count": 48,
   "metadata": {},
   "outputs": [
    {
     "name": "stdout",
     "output_type": "stream",
     "text": [
      "TP:2\n",
      "FP:1\n",
      "FN:2\n",
      "TN:2\n",
      "BIEN CLASSES:4\n"
     ]
    }
   ],
   "source": [
    "print(\"TP:\"+ str(MAT_CONFUSION[0,0]))\n",
    "print(\"FP:\"+str(MAT_CONFUSION[1,0]))\n",
    "print(\"FN:\"+str(MAT_CONFUSION[0,1]))\n",
    "print(\"TN:\"+str(MAT_CONFUSION[1,1]))\n",
    "print(\"BIEN CLASSES:\"+str(np.diag(MAT_CONFUSION).sum()))"
   ]
  },
  {
   "cell_type": "markdown",
   "metadata": {},
   "source": [
    "### Exemple matrice de confusion à 3 classes\n",
    "Dans l'exemple ci-dessous on a 3 classes 0,1 et 2."
   ]
  },
  {
   "cell_type": "code",
   "execution_count": 59,
   "metadata": {},
   "outputs": [
    {
     "data": {
      "text/plain": [
       "array([[6, 0, 0],\n",
       "       [0, 5, 5],\n",
       "       [0, 0, 4]])"
      ]
     },
     "execution_count": 59,
     "metadata": {},
     "output_type": "execute_result"
    }
   ],
   "source": [
    "import matplotlib.pyplot as plt\n",
    "\n",
    "from sklearn.metrics import confusion_matrix\n",
    "\n",
    "y_pred = np.array([2, 1, 0, 2, 0, 2, 0, 2, 2, 1, 2, 2, 1, 2, 2, 0, 1, 1, 0, 0])\n",
    "Y_true = np.array([2, 1, 0, 2, 0, 2, 0, 1, 1, 1, 2, 1, 1, 1, 1, 0, 1, 1, 0, 0])\n",
    "\n",
    "confusion_matrix(Y_true,y_pred)"
   ]
  },
  {
   "cell_type": "markdown",
   "metadata": {},
   "source": [
    "### Exemple matrice de confusion d'un SVM sur le dataset iris"
   ]
  },
  {
   "cell_type": "code",
   "execution_count": 51,
   "metadata": {
    "scrolled": true
   },
   "outputs": [
    {
     "name": "stdout",
     "output_type": "stream",
     "text": [
      "Automatically created module for IPython interactive environment\n",
      "Confusion matrix, without normalization\n",
      "[[13  0  0]\n",
      " [ 0 10  6]\n",
      " [ 0  0  9]]\n"
     ]
    },
    {
     "data": {
      "image/png": "[encoded data removed]",
      "text/plain": [
       "<matplotlib.figure.Figure at 0x7f1a45234ba8>"
      ]
     },
     "metadata": {},
     "output_type": "display_data"
    }
   ],
   "source": [
    "### Exemple \n",
    "print(__doc__)\n",
    "\n",
    "import itertools\n",
    "import numpy as np\n",
    "import matplotlib.pyplot as plt\n",
    "\n",
    "from sklearn import svm, datasets\n",
    "from sklearn.model_selection import train_test_split\n",
    "from sklearn.metrics import confusion_matrix\n",
    "\n",
    "# import some data to play with\n",
    "iris = datasets.load_iris()\n",
    "X = iris.data\n",
    "y = iris.target\n",
    "class_names = iris.target_names\n",
    "\n",
    "# Split the data into a training set and a test set\n",
    "X_train, X_test, y_train, y_test = train_test_split(X, y, random_state=0)\n",
    "\n",
    "# Run classifier, using a model that is too regularized (C too low) to see\n",
    "# the impact on the results\n",
    "classifier = svm.SVC(kernel='linear', C=0.01)\n",
    "y_pred = classifier.fit(X_train, y_train).predict(X_test)\n",
    "\n",
    "\n",
    "def plot_confusion_matrix(cm, classes,\n",
    "                          normalize=False,\n",
    "                          title='Confusion matrix',\n",
    "                          cmap=plt.cm.Blues):\n",
    "    \"\"\"\n",
    "    This function prints and plots the confusion matrix.\n",
    "    Normalization can be applied by setting `normalize=True`.\n",
    "    \"\"\"\n",
    "    if normalize:\n",
    "        cm = cm.astype('float') / cm.sum(axis=1)[:, np.newaxis]\n",
    "        print(\"Normalized confusion matrix\")\n",
    "    else:\n",
    "        print('Confusion matrix, without normalization')\n",
    "\n",
    "    print(cm)\n",
    "\n",
    "    plt.imshow(cm, interpolation='nearest', cmap=cmap)\n",
    "    plt.title(title)\n",
    "    plt.colorbar()\n",
    "    tick_marks = np.arange(len(classes))\n",
    "    plt.xticks(tick_marks, classes, rotation=45)\n",
    "    plt.yticks(tick_marks, classes)\n",
    "\n",
    "    fmt = '.2f' if normalize else 'd'\n",
    "    thresh = cm.max() / 2.\n",
    "    for i, j in itertools.product(range(cm.shape[0]), range(cm.shape[1])):\n",
    "        plt.text(j, i, format(cm[i, j], fmt),\n",
    "                 horizontalalignment=\"center\",\n",
    "                 color=\"white\" if cm[i, j] > thresh else \"black\")\n",
    "\n",
    "    plt.ylabel('True label')\n",
    "    plt.xlabel('Predicted label')\n",
    "    plt.tight_layout()\n",
    "\n",
    "\n",
    "# Compute confusion matrix\n",
    "cnf_matrix = confusion_matrix(y_test, y_pred)\n",
    "np.set_printoptions(precision=2)\n",
    "\n",
    "# Plot non-normalized confusion matrix\n",
    "plt.figure()\n",
    "plot_confusion_matrix(cnf_matrix, classes=class_names,\n",
    "                      title='Confusion matrix, without normalization')\n",
    "\n",
    "# Plot normalized confusion matrix\n",
    "#plt.figure()\n",
    "#plot_confusion_matrix(cnf_matrix, classes=class_names, normalize=True,\n",
    "                      #title='Normalized confusion matrix')\n",
    "\n",
    "plt.show()"
   ]
  },
  {
   "cell_type": "markdown",
   "metadata": {},
   "source": [
    "## Courbe ROC, score AUC\n",
    "* On définie le taux de vrais positif par : TPR = $\\frac{TP}{TP+FN}$, \n",
    "* On définie le taux de faux positif par ; FPR = $\\frac{FP}{FP+TN}$\n",
    "\n",
    "Une courbe ROC (receiver operating characteristic) est un graphique représentant les performances d'un modèle de classification pour tous les seuils de classification. Cette courbe trace le taux de vrais positifs en fonction du taux de faux positifs.<br>\n",
    "Le score AUC est l'aire sous la courbe ROC. Le score AUC est compris entre 0 et 1. Un algorithme dont le score AUC vaut 1 sera parfait."
   ]
  },
  {
   "cell_type": "markdown",
   "metadata": {},
   "source": [
    "### Exemple\n",
    "Dans l'exemple suivant, y_true représente les vrais valeurs. L'algorithme utilisé renvois pour chaque observation, la probabilité qu'il appartienne à la classe 2. La classe 2 joue le role de la classe positive."
   ]
  },
  {
   "cell_type": "code",
   "execution_count": 21,
   "metadata": {
    "collapsed": true
   },
   "outputs": [],
   "source": [
    "import numpy as np\n",
    "\n",
    "y_true = np.array([1, 1, 2, 2,1,2,2])\n",
    "scores = np.array([0.1, 0.4, 0.35, 0.8,0.3,0.5,0.25])"
   ]
  },
  {
   "cell_type": "markdown",
   "metadata": {},
   "source": [
    "On utilise la fonctionnalité roc_curve pour déterminer le taux de vrais positif et le taux de faux positif:"
   ]
  },
  {
   "cell_type": "code",
   "execution_count": 22,
   "metadata": {
    "collapsed": true
   },
   "outputs": [],
   "source": [
    "from sklearn.metrics import roc_curve\n",
    "fpr, tpr, thresholds = roc_curve(y_true,scores,pos_label=2)"
   ]
  },
  {
   "cell_type": "markdown",
   "metadata": {},
   "source": [
    "On affiche les résultats:"
   ]
  },
  {
   "cell_type": "code",
   "execution_count": 23,
   "metadata": {},
   "outputs": [
    {
     "name": "stdout",
     "output_type": "stream",
     "text": [
      "false positive rate :[ 0.          0.          0.33333333  0.33333333  0.66666667  0.66666667\n",
      "  1.        ]\n",
      "true positive rate :[ 0.25  0.5   0.5   0.75  0.75  1.    1.  ]\n",
      "thresholds:[ 0.8   0.5   0.4   0.35  0.3   0.25  0.1 ]\n"
     ]
    }
   ],
   "source": [
    "print(\"false positive rate :\"+str(fpr))\n",
    "print(\"true positive rate :\"+str(tpr))\n",
    "print(\"thresholds:\"+str(thresholds))"
   ]
  },
  {
   "cell_type": "markdown",
   "metadata": {},
   "source": [
    "Quand le seuil se situe à 0.4, le fpr s'établit à 0.33 et le tpr vaut 0.5. On trace la courbe ROC:"
   ]
  },
  {
   "cell_type": "code",
   "execution_count": 27,
   "metadata": {},
   "outputs": [
    {
     "data": {
      "image/png": "[encoded data removed]",
      "text/plain": [
       "<matplotlib.figure.Figure at 0x7f36e49674a8>"
      ]
     },
     "metadata": {},
     "output_type": "display_data"
    }
   ],
   "source": [
    "from sklearn.metrics import roc_auc_score, auc\n",
    "\n",
    "import matplotlib.pyplot as plt\n",
    "plt.figure()\n",
    "plt.plot(fpr,tpr,color='orange',label='AUC='+str(auc(fpr,tpr)))\n",
    "plt.fill_between(fpr,tpr,color='b',alpha=0.2)\n",
    "plt.plot([0,1],[0,1],color='navy',linestyle='--')\n",
    "plt.title(\"Courbe ROC\")\n",
    "plt.xlabel(\"fpr\")\n",
    "plt.ylabel(\"tpr\")\n",
    "plt.legend(loc=\"upper left\")\n",
    "plt.show()"
   ]
  },
  {
   "cell_type": "markdown",
   "metadata": {},
   "source": [
    "Le score AUC correspond à l'aire sous le courbe orange."
   ]
  },
  {
   "cell_type": "markdown",
   "metadata": {},
   "source": [
    "On utilise les fpr tpr calculer avant et on utilise la fonction auc."
   ]
  },
  {
   "cell_type": "code",
   "execution_count": 30,
   "metadata": {},
   "outputs": [
    {
     "data": {
      "text/plain": [
       "0.75"
      ]
     },
     "execution_count": 30,
     "metadata": {},
     "output_type": "execute_result"
    }
   ],
   "source": [
    "from sklearn.metrics import auc\n",
    "score_auc = auc(fpr,tpr)\n",
    "score_auc"
   ]
  },
  {
   "cell_type": "markdown",
   "metadata": {},
   "source": [
    "On utilise la fonction roc_auc_score."
   ]
  },
  {
   "cell_type": "code",
   "execution_count": 31,
   "metadata": {},
   "outputs": [
    {
     "data": {
      "text/plain": [
       "0.75"
      ]
     },
     "execution_count": 31,
     "metadata": {},
     "output_type": "execute_result"
    }
   ],
   "source": [
    "from sklearn.metrics import roc_auc_score\n",
    "import numpy as np\n",
    "\n",
    "y_true_bis = np.where(y_true==2,1,0)\n",
    "score_auc_bis = roc_auc_score(y_true_bis,scores)\n",
    "score_auc_bis"
   ]
  },
  {
   "cell_type": "markdown",
   "metadata": {},
   "source": [
    "## Metrique log loss\n",
    "$$log loss=\\frac{-1}{N}\\sum_{i=1}^{N}\\sum_{j=1}^{M}y_{ij}\\ln(p_{ij})$$\n",
    "* N est le nombre d'observation, \n",
    "* $y_{ij}=1$ si l'observation i est de classe j, 0 sinon\n",
    "* M est le nombre de classe\n",
    "* $p_{ij}$ est la probabilité que l'observation i appartienne à la classe j"
   ]
  },
  {
   "cell_type": "markdown",
   "metadata": {},
   "source": [
    "La métrique log loss prend en entré les vrais classes des observations ainsi que les probabilités prédites de chaques obsevations."
   ]
  },
  {
   "cell_type": "code",
   "execution_count": 60,
   "metadata": {},
   "outputs": [
    {
     "data": {
      "text/plain": [
       "0.17380733669106749"
      ]
     },
     "execution_count": 60,
     "metadata": {},
     "output_type": "execute_result"
    }
   ],
   "source": [
    "from sklearn.metrics import log_loss\n",
    "\n",
    "y_true = [0, 0, 1, 1]\n",
    "y_pred_prob = [[.9, .1], [.8, .2], [.3, .7], [.01, .99]]\n",
    "log_loss(y_true, y_pred_prob) \n",
    "#-np.log(np.array([0.9,0.8,0.7,0.99])).sum()/4"
   ]
  },
  {
   "cell_type": "markdown",
   "metadata": {},
   "source": [
    "### Exemple log loss pour 3 classe"
   ]
  },
  {
   "cell_type": "markdown",
   "metadata": {},
   "source": [
    "Dans y_pred_prob est une matrice dont chaque ligne représente un vecteur de probabilité."
   ]
  },
  {
   "cell_type": "code",
   "execution_count": 88,
   "metadata": {},
   "outputs": [
    {
     "data": {
      "text/plain": [
       "0.2515829622812415"
      ]
     },
     "execution_count": 88,
     "metadata": {},
     "output_type": "execute_result"
    }
   ],
   "source": [
    "import numpy as np\n",
    "\n",
    "y_true = np.array([1, 2, 0, 1, 2, 2, 1, 1, 0, 2])\n",
    "y_pred_prob = np.array([[  1.84461770e-01,   8.03423995e-01,   1.21142355e-02],\\\n",
    "                        [  3.42437100e-05,   2.29659668e-01,   7.70306088e-01],\\\n",
    "                        [  9.41826937e-01,   5.81729864e-02,   7.65478395e-08],\\\n",
    "                        [  7.10347371e-03,   9.58746873e-01,   3.41496532e-02],\\\n",
    "                        [  4.50387023e-04,   1.66787438e-01,   8.32762175e-01],\\\n",
    "                        [  4.47277007e-04,   5.16437710e-01,   4.83115013e-01],\\\n",
    "                        [  1.56700601e-02,   9.41278215e-01,   4.30517252e-02],\\\n",
    "                        [  4.86986912e-03,   6.59807897e-01,   3.35322234e-01],\\\n",
    "                        [  8.26003668e-01,   1.73996025e-01,   3.06895915e-07],\\\n",
    "                        [  3.81963886e-05,   2.99447731e-01,   7.00514073e-01]])\n",
    "\n",
    "from sklearn.metrics import log_loss\n",
    "log_loss(y_true,y_pred_prob)"
   ]
  },
  {
   "cell_type": "markdown",
   "metadata": {},
   "source": [
    "## Métrique de la précision\n",
    "Soit un échantillon de n observations. On supose que $y_{i}$ est la vrais classe de l'observation i et que $\\hat{y_{i}}$. Alors\n",
    "$$accuracy=\\frac{1}{n}\\sum_{i=1}^{n}I(y_{i}=\\hat{y_{i}}) $$"
   ]
  },
  {
   "cell_type": "markdown",
   "metadata": {},
   "source": [
    "Dans l'exemple ci_dessous, nous montrons le calcule de la précision avec sklearn:"
   ]
  },
  {
   "cell_type": "code",
   "execution_count": 89,
   "metadata": {},
   "outputs": [
    {
     "data": {
      "text/plain": [
       "0.69999999999999996"
      ]
     },
     "execution_count": 89,
     "metadata": {},
     "output_type": "execute_result"
    }
   ],
   "source": [
    "from sklearn.metrics import accuracy_score\n",
    "y_true = np.array([1, 2, 0, 1, 2, 2, 1, 1, 0, 2])\n",
    "y_pred = np.array([0, 2, 0, 1, 2, 0, 1, 1, 0, 1])\n",
    "accuracy_score(y_true,y_pred)"
   ]
  },
  {
   "cell_type": "markdown",
   "metadata": {
    "collapsed": true
   },
   "source": [
    "# Métrique de régression"
   ]
  },
  {
   "cell_type": "markdown",
   "metadata": {},
   "source": [
    "## Le score de la variance expliqué"
   ]
  },
  {
   "cell_type": "markdown",
   "metadata": {},
   "source": [
    "$\\hat{y}$ est la valeur cible predite et $y$ est la vrais valeur cible. On suppose que l'échantillon est de taille n. Alors la variance expliqué est:\n",
    "$$explened variance(y,\\hat{y})=1-\\frac{var(y-\\hat{y})}{var(y} $$"
   ]
  },
  {
   "cell_type": "markdown",
   "metadata": {},
   "source": [
    "Voici un exemple de calcule de la variance explique avec sklearn:"
   ]
  },
  {
   "cell_type": "code",
   "execution_count": 93,
   "metadata": {},
   "outputs": [
    {
     "data": {
      "text/plain": [
       "0.95717344753747324"
      ]
     },
     "execution_count": 93,
     "metadata": {},
     "output_type": "execute_result"
    }
   ],
   "source": [
    "from sklearn.metrics import explained_variance_score\n",
    "import numpy as np\n",
    "y_true = np.array([3, -0.5, 2, 7])\n",
    "y_pred = np.array([2.5, 0.0, 2, 8])\n",
    "explained_variance_score(y_true,y_pred)"
   ]
  },
  {
   "cell_type": "markdown",
   "metadata": {},
   "source": [
    "## Le score de l'erreur absolue moyenne"
   ]
  },
  {
   "cell_type": "markdown",
   "metadata": {},
   "source": [
    "On suppose $\\hat{y_{i}}$ est la valeur prédite de l'observation i et que $y_{i}$ est la vrais valeur correspondante.\n",
    "Alors \n",
    "$$ MAE=\\frac{1}{n}\\sum_{i=0}^{n-1}|y_{i}-\\hat{y_{i}}| $$"
   ]
  },
  {
   "cell_type": "markdown",
   "metadata": {},
   "source": [
    "Dans la cellule ci-dessous on cherche l'erreur absolue moyenne:"
   ]
  },
  {
   "cell_type": "code",
   "execution_count": 96,
   "metadata": {},
   "outputs": [
    {
     "data": {
      "text/plain": [
       "0.5"
      ]
     },
     "execution_count": 96,
     "metadata": {},
     "output_type": "execute_result"
    }
   ],
   "source": [
    "import numpy as np\n",
    "from sklearn.metrics import mean_absolute_error\n",
    "y_true = np.array([3, -0.5, 2, 7])\n",
    "y_pred = np.array([2.5, 0.0, 2, 8])\n",
    "mean_absolute_error(y_true, y_pred)"
   ]
  },
  {
   "cell_type": "markdown",
   "metadata": {},
   "source": [
    "## Le score de l'erreure quadratique moyenne:"
   ]
  },
  {
   "cell_type": "markdown",
   "metadata": {},
   "source": [
    "On suppose $\\hat{y_{i}}$ est la valeur prédite de l'observation i et que $y_{i}$ est la vrais valeur correspondante.\n",
    "Alors \n",
    "$$ MSE=\\frac{1}{n}\\sum_{i=0}^{n-1}(y_{i}-\\hat{y_{i}})^{2} $$"
   ]
  },
  {
   "cell_type": "markdown",
   "metadata": {},
   "source": [
    "Dans la cellule ci-dessous on cherche l'erreur quadratique moyenne:"
   ]
  },
  {
   "cell_type": "code",
   "execution_count": 97,
   "metadata": {},
   "outputs": [
    {
     "data": {
      "text/plain": [
       "0.375"
      ]
     },
     "execution_count": 97,
     "metadata": {},
     "output_type": "execute_result"
    }
   ],
   "source": [
    "import numpy as np\n",
    "from sklearn.metrics import mean_squared_error\n",
    "y_true = np.array([3, -0.5, 2, 7])\n",
    "y_pred = np.array([2.5, 0.0, 2, 8])\n",
    "mean_squared_error(y_true, y_pred)"
   ]
  },
  {
   "cell_type": "markdown",
   "metadata": {
    "collapsed": true
   },
   "source": [
    "## Le score $R^{2}$, coéfficient de détermination"
   ]
  },
  {
   "cell_type": "markdown",
   "metadata": {
    "collapsed": true
   },
   "source": [
    "La fonction r2_score calcule le coéficiant de détermination $R^{2}$. On suppose que $\\hat{y_{i}}$ est la valeur prédite de l'observation i et $y_{i}$ sa vrais valeur correspondante. la taille de l'échantillon est n. Alors \n",
    "$$R^{2}=1-\\frac{\\sum_{i=0}^{n-1}(y_{i}-\\hat{y_{i}})^{2}}{\\sum_{i=0}^{n-1}(y_{i}-\\overline{y})^{2}} $$\n",
    "ou l'on a $\\overline{y}=\\frac{1}{n}\\sum_{i=0}^{n-1}y_{i}$. Le meilleur score possible est 1."
   ]
  },
  {
   "cell_type": "markdown",
   "metadata": {},
   "source": [
    "Ici, on cherche le coéfificient $R^{2}$:"
   ]
  },
  {
   "cell_type": "code",
   "execution_count": 2,
   "metadata": {},
   "outputs": [
    {
     "data": {
      "text/plain": [
       "0.94860813704496794"
      ]
     },
     "execution_count": 2,
     "metadata": {},
     "output_type": "execute_result"
    }
   ],
   "source": [
    "import numpy as np\n",
    "from sklearn.metrics import r2_score\n",
    "y_true = np.array([3, -0.5, 2, 7])\n",
    "y_pred = np.array([2.5, 0.0, 2, 8])\n",
    "r2_score(y_true, y_pred)  "
   ]
  },
  {
   "cell_type": "markdown",
   "metadata": {},
   "source": [
    "# Validation croisé, paramétrage optimale d'algorithme"
   ]
  },
  {
   "cell_type": "markdown",
   "metadata": {},
   "source": [
    "## Principe de la validation croisé"
   ]
  },
  {
   "cell_type": "markdown",
   "metadata": {},
   "source": [
    "Le but de la validation croisé est de validé les performances d'un algorithme. \n",
    "On découpe un échantillon en K partie. \n",
    "Ensuite on séléctionne un des K partie comme échantillon de validation et l'union des K-1 autres parties comme échantillon d'apprentissage. On répète cette opération K-fois et on obtient ainsi un jeux de K scores (métrique de performance) que l'on combine pour mesurer l'éfficacité de l'algorithme. La combinaison de ces K scores peut être vue comme un méta-score."
   ]
  },
  {
   "cell_type": "markdown",
   "metadata": {},
   "source": [
    "## Fonction GridSearchCV"
   ]
  },
  {
   "cell_type": "markdown",
   "metadata": {},
   "source": [
    "Les algorithmes de machine learning sont parmétrables. Par exemple, lorsque l'on fait une régression logistic on peut choisire :\n",
    "* une pénalité L1 ou L2 sur les coéficients\n",
    "* une méthode d'optimisation : newton-cg, lbfgs, liblinear, sag, saga\n",
    "* un parmétre de régularisation des coéficients C\n",
    "\n",
    "L'ensemble des paramêtre précédants peuvent être stocké dans une grille modélisé par un dictionnaire python:"
   ]
  },
  {
   "cell_type": "code",
   "execution_count": 31,
   "metadata": {
    "collapsed": true
   },
   "outputs": [],
   "source": [
    "import numpy as np\n",
    "param_grid = {'penalty':['l2'],'C':np.linspace(0.1,10,100),\\\n",
    "              'solver':['newton-cg', 'lbfgs', 'liblinear']}"
   ]
  },
  {
   "cell_type": "markdown",
   "metadata": {},
   "source": [
    "La fonction GridsearchCV cherche le paramétrage optimale ayant le meilleur meta-score que produit une validation croisé. En effet la fonction GridsearchCV calcule le meta score de chaque combinaison de paramêtre de la grille param_grid. Ensuite, on peut incorporer ce paramétrage dans une régréssion logistique."
   ]
  },
  {
   "cell_type": "markdown",
   "metadata": {},
   "source": [
    "### Exemple d'utilisation de GridsearchCV pour la classification\n",
    "Notre but est de trouver la meilleur régression logistique possible sur les donée iris. Il s'agit d'une classification à 3 classes.\n",
    "On va utiliser la fonctionalité GridsearchCv avec une validation croisé en 5 parties (5 folds) dans le but de trouver la meilleur précision (accuracy_score). "
   ]
  },
  {
   "cell_type": "code",
   "execution_count": 43,
   "metadata": {},
   "outputs": [
    {
     "data": {
      "text/plain": [
       "GridSearchCV(cv=5, error_score='raise',\n",
       "       estimator=LogisticRegression(C=1.0, class_weight=None, dual=False, fit_intercept=True,\n",
       "          intercept_scaling=1, max_iter=100, multi_class='ovr', n_jobs=1,\n",
       "          penalty='l2', random_state=None, solver='liblinear', tol=0.0001,\n",
       "          verbose=0, warm_start=False),\n",
       "       fit_params={}, iid=True, n_jobs=1,\n",
       "       param_grid={'penalty': ['l2'], 'C': array([  0.1,   0.2, ...,   9.9,  10. ]), 'solver': ['newton-cg', 'lbfgs', 'liblinear']},\n",
       "       pre_dispatch='2*n_jobs', refit=True, return_train_score=True,\n",
       "       scoring='accuracy', verbose=0)"
      ]
     },
     "execution_count": 43,
     "metadata": {},
     "output_type": "execute_result"
    }
   ],
   "source": [
    "#on import les données iris\n",
    "\n",
    "from sklearn.datasets import load_iris\n",
    "iris = load_iris()\n",
    "\n",
    "from sklearn.model_selection import train_test_split\n",
    "\n",
    "#On divise en échantillon d'apprentissage et de test\n",
    "#X_train, X_test, Y_train, Y_test = train_test_split(iris['data'],iris['target'], test_size=0.2,random_state=1998)\n",
    "\n",
    "#logistique\n",
    "from sklearn.linear_model import LogisticRegression\n",
    "logit_clf = LogisticRegression()\n",
    "\n",
    "#On fait la grille de paramêtre \n",
    "\n",
    "param_grid = {'penalty':['l2'],'C':np.linspace(0.1,10,100),\\\n",
    "              'solver':['newton-cg','lbfgs', 'liblinear']}\n",
    "\n",
    "#On appelle la fonctionnalité GridsearchCv\n",
    "from sklearn.model_selection import GridSearchCV\n",
    "\n",
    "clf = GridSearchCV(estimator=logit_clf,param_grid=param_grid,scoring='accuracy',cv=5)\n",
    "\n",
    "clf.fit(iris['data'],iris['target'])"
   ]
  },
  {
   "cell_type": "markdown",
   "metadata": {},
   "source": [
    "On détermine ainsi les paramêtre permettant d'obtenir le meilleur méta-score:"
   ]
  },
  {
   "cell_type": "code",
   "execution_count": 44,
   "metadata": {},
   "outputs": [
    {
     "data": {
      "text/plain": [
       "{'C': 3.9000000000000004, 'penalty': 'l2', 'solver': 'liblinear'}"
      ]
     },
     "execution_count": 44,
     "metadata": {},
     "output_type": "execute_result"
    }
   ],
   "source": [
    "clf.best_params_"
   ]
  },
  {
   "cell_type": "markdown",
   "metadata": {},
   "source": [
    "On peut obtenir le méta_score:"
   ]
  },
  {
   "cell_type": "code",
   "execution_count": 45,
   "metadata": {},
   "outputs": [
    {
     "data": {
      "text/plain": [
       "0.96666666666666667"
      ]
     },
     "execution_count": 45,
     "metadata": {},
     "output_type": "execute_result"
    }
   ],
   "source": [
    "clf.best_score_"
   ]
  },
  {
   "cell_type": "markdown",
   "metadata": {},
   "source": [
    "### Exemple d'utilisation GridSearchCV pour la régression \n",
    "Nous disposons ici des donnée mpg (miles per galon).\n",
    "1. mpg: continuous\n",
    "2. cylinders: multi-valued discrete\n",
    "3. displacement: continuous\n",
    "4. horsepower: continuous\n",
    "5. weight: continuous\n",
    "6. acceleration: continuous\n",
    "7. model year: multi-valued discrete\n",
    "8. origin: multi-valued discrete\n",
    "9. car name: string (unique for each instance)\n",
    "\n",
    "Le but ici c'et de prédire la variable mpg (mpg) en fonction des autres.\n",
    "Dans cet exemple, on va parmétrer au mieux un arbre de régression pour prédire . On va jouer sur la profondeur maximal de l'arbre (max_depth), le nombre minimal d'observations pour diviser un neu interneThe minimum number of samples required to split an internal node(min_samples_split), The minimum number of samples required to be at a leaf node (min_samples_leaf). "
   ]
  },
  {
   "cell_type": "code",
   "execution_count": 85,
   "metadata": {
    "collapsed": true
   },
   "outputs": [],
   "source": [
    "import pandas as pd\n",
    "nom_var = ['mpg','cylinders','displacement','horsepower',\\\n",
    "           'weight','acceleration','model year','origin','car name']\n",
    "MPG = pd.read_csv(\"/home/fabien/Bureau/mpg.txt\", header=None,sep='\\s+',names=nom_var)\n",
    "\n",
    "MPG = MPG.loc[MPG['horsepower']!='?']\n",
    "\n",
    "MPG = MPG.drop(['car name'],axis=1)\n",
    "MPG['origin'] = MPG['origin'].astype(str)\n",
    "MPG['cylinders'] = MPG['cylinders'].astype(str)"
   ]
  },
  {
   "cell_type": "code",
   "execution_count": 86,
   "metadata": {
    "collapsed": true
   },
   "outputs": [],
   "source": [
    "ADUM = pd.get_dummies(MPG[['origin','cylinders']])\n",
    "MPG = MPG.drop(['origin','cylinders'],axis=1)\n",
    "MGPBIS = pd.concat([MPG,ADUM],axis=1)"
   ]
  },
  {
   "cell_type": "code",
   "execution_count": 93,
   "metadata": {
    "collapsed": true
   },
   "outputs": [],
   "source": [
    "from sklearn.model_selection import train_test_split\n",
    "\n",
    "Y = MGPBIS['mpg']\n",
    "LISTV = list(MGPBIS)\n",
    "LISTV = [o for o in LISTV if o!='mpg']\n",
    "X = MGPBIS[LISTV] \n",
    "\n",
    "\n",
    "X_train,X_test,Y_train,Y_test = train_test_split(X,Y,test_size=0.25)"
   ]
  },
  {
   "cell_type": "markdown",
   "metadata": {},
   "source": [
    "On va faire une validation croisé à 5 partie pour chaque combinaison de la grille de paramêre suivante {'max_depth':range(1,10),'min_samples_split':range(2,10),'min_samples_leaf':range(1,10)}. On utilise GridSearchCV."
   ]
  },
  {
   "cell_type": "code",
   "execution_count": 97,
   "metadata": {},
   "outputs": [
    {
     "data": {
      "text/plain": [
       "GridSearchCV(cv=5, error_score='raise',\n",
       "       estimator=DecisionTreeRegressor(criterion='mse', max_depth=None, max_features=None,\n",
       "           max_leaf_nodes=None, min_impurity_split=1e-07,\n",
       "           min_samples_leaf=1, min_samples_split=2,\n",
       "           min_weight_fraction_leaf=0.0, presort=False, random_state=None,\n",
       "           splitter='best'),\n",
       "       fit_params={}, iid=True, n_jobs=1,\n",
       "       param_grid={'max_depth': range(1, 10), 'min_samples_split': range(2, 10), 'min_samples_leaf': range(1, 10)},\n",
       "       pre_dispatch='2*n_jobs', refit=True, return_train_score=True,\n",
       "       scoring='r2', verbose=0)"
      ]
     },
     "execution_count": 97,
     "metadata": {},
     "output_type": "execute_result"
    }
   ],
   "source": [
    "from sklearn.tree import DecisionTreeRegressor\n",
    "dt = DecisionTreeRegressor()\n",
    "\n",
    "param_grid = {'max_depth':range(1,10),'min_samples_split':range(2,10),'min_samples_leaf':range(1,10)}\n",
    "\n",
    "from sklearn.model_selection import GridSearchCV\n",
    "\n",
    "clf = GridSearchCV(estimator=dt,param_grid=param_grid,cv=5,scoring='r2')\n",
    "\n",
    "clf.fit(X_train,Y_train)"
   ]
  },
  {
   "cell_type": "markdown",
   "metadata": {},
   "source": [
    "On affiche le meilleur score r2:"
   ]
  },
  {
   "cell_type": "code",
   "execution_count": 102,
   "metadata": {},
   "outputs": [
    {
     "data": {
      "text/plain": [
       "0.81760448084742987"
      ]
     },
     "execution_count": 102,
     "metadata": {},
     "output_type": "execute_result"
    }
   ],
   "source": [
    "clf.best_score_"
   ]
  },
  {
   "cell_type": "markdown",
   "metadata": {},
   "source": [
    "On affiche les meilleurs paramêtre:"
   ]
  },
  {
   "cell_type": "code",
   "execution_count": 103,
   "metadata": {},
   "outputs": [
    {
     "data": {
      "text/plain": [
       "{'max_depth': 6, 'min_samples_leaf': 3, 'min_samples_split': 8}"
      ]
     },
     "execution_count": 103,
     "metadata": {},
     "output_type": "execute_result"
    }
   ],
   "source": [
    "clf.best_params_"
   ]
  },
  {
   "cell_type": "markdown",
   "metadata": {},
   "source": [
    "On calcule ensuite le score r2 sur l'ensemble de test:"
   ]
  },
  {
   "cell_type": "code",
   "execution_count": 104,
   "metadata": {},
   "outputs": [
    {
     "data": {
      "text/plain": [
       "0.84830248174764555"
      ]
     },
     "execution_count": 104,
     "metadata": {},
     "output_type": "execute_result"
    }
   ],
   "source": [
    "from sklearn.metrics import r2_score\n",
    "y_pred =  clf.predict(X_test)\n",
    "r2_score(Y_test,y_pred)"
   ]
  },
  {
   "cell_type": "markdown",
   "metadata": {},
   "source": [
    "Cette fois, on cherche le meilleur modele pour la métrique de l'écart quadratique moyen (scoring='neg_mean_squared_error')"
   ]
  },
  {
   "cell_type": "code",
   "execution_count": 105,
   "metadata": {},
   "outputs": [
    {
     "data": {
      "text/plain": [
       "GridSearchCV(cv=5, error_score='raise',\n",
       "       estimator=DecisionTreeRegressor(criterion='mse', max_depth=None, max_features=None,\n",
       "           max_leaf_nodes=None, min_impurity_split=1e-07,\n",
       "           min_samples_leaf=1, min_samples_split=2,\n",
       "           min_weight_fraction_leaf=0.0, presort=False, random_state=None,\n",
       "           splitter='best'),\n",
       "       fit_params={}, iid=True, n_jobs=1,\n",
       "       param_grid={'max_depth': range(1, 10), 'min_samples_split': range(2, 10), 'min_samples_leaf': range(1, 10)},\n",
       "       pre_dispatch='2*n_jobs', refit=True, return_train_score=True,\n",
       "       scoring='neg_mean_squared_error', verbose=0)"
      ]
     },
     "execution_count": 105,
     "metadata": {},
     "output_type": "execute_result"
    }
   ],
   "source": [
    "from sklearn.tree import DecisionTreeRegressor\n",
    "dt = DecisionTreeRegressor()\n",
    "\n",
    "param_grid = {'max_depth':range(1,10),'min_samples_split':range(2,10),'min_samples_leaf':range(1,10)}\n",
    "\n",
    "from sklearn.model_selection import GridSearchCV\n",
    "\n",
    "clf = GridSearchCV(estimator=dt,param_grid=param_grid,cv=5,scoring='neg_mean_squared_error')\n",
    "\n",
    "clf.fit(X_train,Y_train)"
   ]
  },
  {
   "cell_type": "markdown",
   "metadata": {},
   "source": [
    "On cherche le meilleur score:"
   ]
  },
  {
   "cell_type": "code",
   "execution_count": 106,
   "metadata": {},
   "outputs": [
    {
     "data": {
      "text/plain": [
       "-11.340291146312708"
      ]
     },
     "execution_count": 106,
     "metadata": {},
     "output_type": "execute_result"
    }
   ],
   "source": [
    "clf.best_score_"
   ]
  },
  {
   "cell_type": "markdown",
   "metadata": {},
   "source": [
    "On calcule l'écart quadratique moyen que donne clf sur l'ensemble de test:"
   ]
  },
  {
   "cell_type": "code",
   "execution_count": 107,
   "metadata": {},
   "outputs": [
    {
     "data": {
      "text/plain": [
       "7.877492459835941"
      ]
     },
     "execution_count": 107,
     "metadata": {},
     "output_type": "execute_result"
    }
   ],
   "source": [
    "from sklearn.metrics import mean_squared_error\n",
    "\n",
    "y_pred = clf.predict(X_test)\n",
    "mean_squared_error(Y_test,y_pred)"
   ]
  }
 ],
 "metadata": {
  "kernelspec": {
   "display_name": "Python 3",
   "language": "python",
   "name": "python3"
  },
  "language_info": {
   "codemirror_mode": {
    "name": "ipython",
    "version": 3
   },
   "file_extension": ".py",
   "mimetype": "text/x-python",
   "name": "python",
   "nbconvert_exporter": "python",
   "pygments_lexer": "ipython3",
   "version": "3.6.1"
  }
 },
 "nbformat": 4,
 "nbformat_minor": 2
}
