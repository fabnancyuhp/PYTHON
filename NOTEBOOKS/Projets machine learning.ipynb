{
 "cells": [
  {
   "cell_type": "markdown",
   "metadata": {},
   "source": [
    "# Projet 1: IMDB Review Dataset"
   ]
  },
  {
   "cell_type": "markdown",
   "metadata": {},
   "source": [
    "IMDB Review Dataset, IMDB movie reviews for Sentiment Analysis.(IMDB=internet movies database)\n",
    "Ce projet est un exemple d’analyse des sentiments. L’analyse des sentiments se traite à l’aide des techniques\n",
    "de text-mining. L’analyse des sentiments s’appelle également opinion-mining."
   ]
  },
  {
   "cell_type": "markdown",
   "metadata": {},
   "source": [
    "### Site internet\n",
    "Vous pouvez consulter le lien suivant pour plus d’information: https://www.kaggle.com/utathya/imdb-review-dataset"
   ]
  },
  {
   "cell_type": "markdown",
   "metadata": {},
   "source": [
    "### Données du projet\n",
    "* Pour télécharger les données du projet suivre le lien suivant: https://www.kaggle.com/utathya/imdb-review-dataset\n",
    "* Pour télécharger les données du projet suivre le lien suivant:https://1drv.ms/u/s!Am09h0q2OIX0fyHuE6VJwYHR_aw?e=fc0ciX"
   ]
  },
  {
   "cell_type": "markdown",
   "metadata": {},
   "source": [
    "# Projet 2: Credit card dataset"
   ]
  },
  {
   "cell_type": "markdown",
   "metadata": {},
   "source": [
    "It is important that credit card companies are able to recognize fraudulent credit card transactions so that\n",
    "customers are not charged for items that they did not purchase."
   ]
  },
  {
   "cell_type": "markdown",
   "metadata": {},
   "source": [
    "### Site internet\n",
    "Vous pouvez consulter le lien suivant pour plus d’information: https://www.kaggle.com/mlg-ulb/creditcardfraud"
   ]
  },
  {
   "cell_type": "markdown",
   "metadata": {},
   "source": [
    "### Données du projet\n",
    "* Pour télécharger les données du projet suivre le lien suivant: https://www.kaggle.com/mlg-ulb/creditcardfraud\n",
    "* Pour télécharger les données du projet suivre le lien suivant: https://1drv.ms/u/s!Am09h0q2OIX0gQD4vBpqTcQIwD5H?e=qDZOiu"
   ]
  },
  {
   "cell_type": "markdown",
   "metadata": {},
   "source": [
    "### Remarque \n",
    "Il faudra utiliser différents algorithmes"
   ]
  },
  {
   "cell_type": "markdown",
   "metadata": {},
   "source": [
    "# Projet 3: Bank Marketing Data Set : Predict the Success of Bank Telemarketing"
   ]
  },
  {
   "cell_type": "markdown",
   "metadata": {},
   "source": [
    "The data is related with direct marketing campaigns of a Portuguese banking institution. The marketing\n",
    "campaigns were based on phone calls. Often, more than one contact to the same client was required, in\n",
    "order to access if the product (bank term deposit) would be (’yes’) or not (’no’) subscribed.\n",
    "The classification goal is to predict if the client will subscribe a term deposit."
   ]
  },
  {
   "cell_type": "markdown",
   "metadata": {},
   "source": [
    "### Site internet\n",
    "Vous pouvez consulter le lien suivant pour plus d’information: https://archive.ics.uci.edu/ml/datasets/bank+marketing"
   ]
  },
  {
   "cell_type": "markdown",
   "metadata": {},
   "source": [
    "### Données du projet\n",
    "* Pour télécharger les données du projet suivre le lien suivant: https://archive.ics.uci.edu/ml/machine-learning-databases/00222/\n",
    "* Pour télécharger les données du projet suivre le lien suivant : https://1drv.ms/u/s!Am09h0q2OIX0gQEFgFZP7AbDiMXk?e=2ZTare"
   ]
  },
  {
   "cell_type": "markdown",
   "metadata": {},
   "source": [
    "# Projet 4: Prudential Life Insurance Assessment"
   ]
  },
  {
   "cell_type": "markdown",
   "metadata": {},
   "source": [
    "Prudential Life Insurance Assessment. In this dataset, you are provided over a hundred variables describing\n",
    "attributes of life insurance applicants. The task is to predict the \"Response\" variable for each Id in the\n",
    "test set. \"Response\" is an ordinal measure of risk that has 8 levels."
   ]
  },
  {
   "cell_type": "markdown",
   "metadata": {},
   "source": [
    "### Site internet\n",
    "Vous pouvez consulter le lien suivant pour plus d’information: https://www.kaggle.com/c/prudential-life-insurance-assessment/data "
   ]
  },
  {
   "cell_type": "markdown",
   "metadata": {},
   "source": [
    "### Données du projet\n",
    "* Pour télécharger les données du projet suivre le lien suivant: https://www.kaggle.com/c/prudential-life-insurance-assessment/data?select=train.csv.zip\n",
    "* Pour télécharger les données du projet suivre le lien suivant : https://1drv.ms/u/s!Am09h0q2OIX0gQLo5n6gU8qL78NM?e=Wq62iF"
   ]
  },
  {
   "cell_type": "markdown",
   "metadata": {},
   "source": [
    "# Projet 5: Collection of SMS messages"
   ]
  },
  {
   "cell_type": "markdown",
   "metadata": {},
   "source": [
    "Collection of SMS messages tagged as spam or legitimate. The SMS Spam Collection is a set of SMS tagged\n",
    "messages that have been collected for SMS Spam research. It contains one set of SMS messages in English\n",
    "of 5,574 messages, tagged acording being ham (legitimate) or spam. The files contain one message per line.\n",
    "Each line is composed by two columns: v1 contains the label (ham or spam) and v2 contains the raw text."
   ]
  },
  {
   "cell_type": "markdown",
   "metadata": {},
   "source": [
    "### Site internet\n",
    "Vous pouvez consulter le lien suivant pour plus d’information: https://www.kaggle.com/uciml/sms-spam-collection-dataset/home"
   ]
  },
  {
   "cell_type": "markdown",
   "metadata": {},
   "source": [
    "### Données du projet\n",
    "* Pour télécharger les données du projet suivre le lien suivant: https://www.kaggle.com/uciml/sms-spam-collection-dataset/home\n",
    "* Pour télécharger les données du projet suivre le lien suivant : https://1drv.ms/u/s!Am09h0q2OIX0gQMvG4Hc_Q1sbara?e=WBrHib"
   ]
  },
  {
   "cell_type": "markdown",
   "metadata": {},
   "source": [
    "# Projet 6: Amazon Fine Food Reviews"
   ]
  },
  {
   "cell_type": "markdown",
   "metadata": {},
   "source": [
    "This dataset consists of reviews of fine foods from amazon. The data span a period of more than 10 years,\n",
    "including all ~500,000 reviews up to October 2012. Reviews include product and user information, ratings,\n",
    "and a plain text review. It also includes reviews from all other Amazon categories. Score Rating between 1\n",
    "and 5"
   ]
  },
  {
   "cell_type": "markdown",
   "metadata": {},
   "source": [
    "### Site internet\n",
    "Vous pouvez consulter le lien suivant pour plus d'information: https://www.kaggle.com/snap/amazon-fine-food-reviews"
   ]
  },
  {
   "cell_type": "markdown",
   "metadata": {},
   "source": [
    "### Données du projet\n",
    "* Les données de ce projet sont volumineuses: https://www.kaggle.com/snap/amazon-fine-food-reviews\n",
    "* Vous pouvez télécharger les données : https://1drv.ms/u/s!Am09h0q2OIX0dNqI2LkOgl7ok9c?e=xUrbwK      "
   ]
  },
  {
   "cell_type": "markdown",
   "metadata": {},
   "source": [
    "# Projet 7: Women’s E-Commerce Clothing Reviews"
   ]
  },
  {
   "cell_type": "markdown",
   "metadata": {},
   "source": [
    "Welcome. This is a Women’s Clothing E-Commerce dataset revolving around the reviews written by customers. Its nine supportive features offer a great environment to parse out the text through its multiple dimensions. Because this is real commercial data, it has been anonymized, and references to the company in the review text and body have been replaced with “retailer”."
   ]
  },
  {
   "cell_type": "markdown",
   "metadata": {},
   "source": [
    "### Site internet\n",
    "Vous pouvez consulter le lien suivant pour plus d'information: https://www.kaggle.com/nicapotato/womens-ecommerce-clothing-reviews"
   ]
  },
  {
   "cell_type": "markdown",
   "metadata": {},
   "source": [
    "### Données du projet\n",
    "* les données sont téléchargeables: https://www.kaggle.com/nicapotato/womens-ecommerce-clothing-reviews \n",
    "* Vous pouvez télécharger les données : https://1drv.ms/u/s!Am09h0q2OIX0bmcknrBAVKfCWKk?e=LCkIMG  "
   ]
  },
  {
   "cell_type": "markdown",
   "metadata": {},
   "source": [
    "# Projet 8: Communities and Crime Unnormalized Data Set"
   ]
  },
  {
   "cell_type": "markdown",
   "metadata": {},
   "source": [
    "The source datasets needed to be combined via programming. Many variables are included so that algorithms\n",
    "that select or learn weights for attributes could be tested. However, clearly unrelated attributes\n",
    "were not included; attributes were picked if there was any plausible connection to crime (N=125), plus the\n",
    "crime variables which are potential dependent variables. The variables included in the dataset involve the\n",
    "community, such as the percent of the population considered urban, and the median family income, and\n",
    "involving law enforcement, such as per capita number of police officers, and percent of officers assigned to\n",
    "drug units. The crime attributes (N=18) that could be predicted are the 8 crimes considered ’Index Crimes’\n",
    "by the FBI)(Murders, Rape, Robbery, .... ), per capita (actually per 100,000 population) versions of each, and\n",
    "Per Capita Violent Crimes and Per Capita Nonviolent Crimes)."
   ]
  },
  {
   "cell_type": "markdown",
   "metadata": {},
   "source": [
    "### Site internet\n",
    "Vous pouvez consulter le lien suivant pour plus d'information: https://archive.ics.uci.edu/ml/datasets/Communities+and+Crime+Unnormalized "
   ]
  },
  {
   "cell_type": "markdown",
   "metadata": {},
   "source": [
    "### Données du projet\n",
    "* Pour télécharger les données du projet suivre le lien suivant: https://archive.ics.uci.edu/ml/machine-learning-databases/00211/\n",
    "* Pour télécharger les données du projet suivre le lien suivant: https://1drv.ms/t/s!Am09h0q2OIX0gQQdAdLhSGSS1mei"
   ]
  },
  {
   "cell_type": "markdown",
   "metadata": {},
   "source": [
    "# Projet 9: Combined Cycle Power Plant Data Set"
   ]
  },
  {
   "cell_type": "markdown",
   "metadata": {},
   "source": [
    "The dataset contains 9568 data points collected from a Combined Cycle Power Plant over 6 years (2006-\n",
    "2011), when the power plant was set to work with full load. Features consist of hourly average ambient\n",
    "variables Temperature (T), Ambient Pressure (AP), Relative Humidity (RH) and Exhaust Vacuum (V) to\n",
    "predict the net hourly electrical energy output (EP) of the plant. A combined cycle power plant (CCPP) is\n",
    "composed of gas turbines (GT), steam turbines (ST) and heat recovery steam generators. In a CCPP, the\n",
    "electricity is generated by gas and steam turbines, which are combined in one cycle, and is transferred from\n",
    "one turbine to another. While the Vacuum is colected from and has effect on the Steam Turbine, he other\n",
    "three of the ambient variables effect the GT performance."
   ]
  },
  {
   "cell_type": "markdown",
   "metadata": {},
   "source": [
    "### Site internet\n",
    "Vous pouvez consulter le lien suivant pour plus d'information:https://archive.ics.uci.edu/ml/datasets/Combined+Cycle+Power+Plant  "
   ]
  },
  {
   "cell_type": "markdown",
   "metadata": {},
   "source": [
    "### Données du projet\n",
    "* Pour télécharger les données du projet suivre le lien suivant: https://archive.ics.uci.edu/ml/machine-learning-databases/00294/ \n",
    "* Pour télécharger les données du projet suivre le lien suivant:https://1drv.ms/u/s!Am09h0q2OIX0gQU3gm3qKXGnNplG?e=33SXCS  "
   ]
  },
  {
   "cell_type": "markdown",
   "metadata": {},
   "source": [
    "# Projet 10: Financial Distress Prediction, Bankruptcy Prediction"
   ]
  },
  {
   "cell_type": "markdown",
   "metadata": {},
   "source": [
    "This data set deals with the financial distress prediction for a sample of companies. The target variable is\n",
    "denoted by \"Financial Distress\" if it will be greater than -0.50 the company should be considered as healthy\n",
    "(0). Otherwise, it would be regarded as financially distressed (1). Feature x80 is categorical variable."
   ]
  },
  {
   "cell_type": "markdown",
   "metadata": {},
   "source": [
    "### Site internet\n",
    "Vous pouvez consulter le lien suivant pour plus d'information: https://www.kaggle.com/shebrahimi/financial-distress"
   ]
  },
  {
   "cell_type": "markdown",
   "metadata": {},
   "source": [
    "### Données du projet\n",
    "* Pour télécharger les données du projet suivre le lien suivant:https://www.kaggle.com/shebrahimi/financial-distress \n",
    "* Pour télécharger les données du projet suivre le lien suivant: https://1drv.ms/u/s!Am09h0q2OIX0gQanjTqry31dVu3j?e=LHoNY9  "
   ]
  },
  {
   "cell_type": "markdown",
   "metadata": {},
   "source": [
    "# Projet 11: Bank_Loan_modelling, Personal Loan classification problem"
   ]
  },
  {
   "cell_type": "markdown",
   "metadata": {},
   "source": [
    "The data set includes 5000 observations with fourteen variables divided into four different measurement\n",
    "categories. The binary category has five variables, including the target variable personal loan, also securities\n",
    "account, CD account, online banking and credit card. The interval category contains five variables:\n",
    "age, experience, income, CC avg and mortgage. The ordinal category includes the variables family and\n",
    "education. The last category is nominal with ID and Zip code. The variable ID does not add any interesting\n",
    "information e.g. individual association between a person (indicated by ID) and loan does not provide any\n",
    "general conclusion for future potential loan customers. Therefore, it will be neglected in the examination."
   ]
  },
  {
   "cell_type": "markdown",
   "metadata": {},
   "source": [
    "### Site internet\n",
    "Vous pouvez consulter le lien suivant pour plus d'information:https://www.kaggle.com/itsmesunil/bank-loan-modelling "
   ]
  },
  {
   "cell_type": "markdown",
   "metadata": {},
   "source": [
    "### Données du projet\n",
    "* Pour télécharger les données du projet suivre le lien suivant:https://www.kaggle.com/itsmesunil/bank-loan-modelling\n",
    "* Pour télécharger les données du projet suivre le lien suivant:https://1drv.ms/u/s!Am09h0q2OIX0gQeztzzF4eQEbStz?e=ZJofYZ   "
   ]
  },
  {
   "cell_type": "markdown",
   "metadata": {},
   "source": [
    "# Projet 12: Metacritic Video Game Comment"
   ]
  },
  {
   "cell_type": "markdown",
   "metadata": {},
   "source": [
    "All data was collected from Metacritic.com. This data is only limited to video games. Collected data on\n",
    "from the top 3000-5000 games from Metacritic’s Best of All Times.\n",
    "There are general information for 5000 games. There are user comments for 3420 games."
   ]
  },
  {
   "cell_type": "markdown",
   "metadata": {},
   "source": [
    "### Site internet\n",
    "Vous pouvez consulter le lien suivant pour plus d'information:https://www.kaggle.com/dahlia25/metacritic-video-game-comments#metacritic_game_user_comments.csv"
   ]
  },
  {
   "cell_type": "markdown",
   "metadata": {},
   "source": [
    "### Données du projet\n",
    "* Pour télécharger les données du projet suivre le lien suivant:https://www.kaggle.com/dahlia25/metacritic-video-game-comments#metacritic_game_user_comments.csv\n",
    "* Pour télécharger les données du projet suivre le lien suivant: https://1drv.ms/u/s!Am09h0q2OIX0gQiICZtpIh65SFXs?e=aRgELv  "
   ]
  }
 ],
 "metadata": {
  "kernelspec": {
   "display_name": "Python 3",
   "language": "python",
   "name": "python3"
  },
  "language_info": {
   "codemirror_mode": {
    "name": "ipython",
    "version": 3
   },
   "file_extension": ".py",
   "mimetype": "text/x-python",
   "name": "python",
   "nbconvert_exporter": "python",
   "pygments_lexer": "ipython3",
   "version": "3.8.3"
  }
 },
 "nbformat": 4,
 "nbformat_minor": 4
}
