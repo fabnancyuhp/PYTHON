{
 "cells": [
  {
   "cell_type": "markdown",
   "metadata": {},
   "source": [
    "<p class=\"rubric\"><font size=\"6\">Loi normale</font><hr color=\"black\" size=\"200\"></p>"
   ]
  },
  {
   "cell_type": "markdown",
   "metadata": {},
   "source": [
    "Nous donnons dans le tableau ci-dessous les méthodes de scipy.stats traitant d'une loi normale. <br><br>\n",
    "<table border=\"1\" width=\"900\">\n",
    "<tr>\n",
    " <td>scipy.stats.norm </td> <td>appelle un objet va aléatoire</td>\n",
    "</tr> \n",
    "<tr>\n",
    " <td>scipy.stats.norm.rvs(loc=mean, scale=$\\sigma$, size=(a,b), random_state=None)</td> <td>variable aléatoire de moyenne mean et d'écart type $\\sigma$ </td>\n",
    "</tr>\n",
    "<tr>\n",
    " <td>scipy.stats.norm.pdf(x, loc=$\\mu$, scale=$\\sigma$) </td> <td>denstité de la loi $N(\\mu,\\sigma)$   </td>\n",
    "</tr>\n",
    "<tr>\n",
    " <td>scipy.stats.norm.cdf(x, loc=$\\mu$, scale=$\\sigma$)</td>  <td> fonction de répartition de la loi $N(\\mu,\\sigma)$  </td>\n",
    "</tr>\n",
    "<tr>\n",
    " <td>scipy.stats.norm.ppf(q, loc=$\\mu$, scale=$\\sigma$)</td> <td>Percent point function (inverse of cdf — percentiles).  </td>\n",
    "</tr>\n",
    "</table>"
   ]
  },
  {
   "cell_type": "markdown",
   "metadata": {},
   "source": [
    "### Exemple\n",
    "1) Simuler un vecteur aléatoire de loi $N(4,2)$ de taille 100 avec le paramètre random_state=1998.<br>\n",
    "2) Trouver les quantiles d'ordre 0.1,0.2,0.5 et 0.9 d'une loi $N(4,2)$.<br>\n",
    "3) Quelles sont les valeurs de la fonction de répartition en x=0,4,6 et 10. <br>"
   ]
  },
  {
   "cell_type": "markdown",
   "metadata": {},
   "source": [
    "1) Pour simuler un vecteur aléatoire de loi $N(4,2)$ de taille 100, on utilise scipy.stats.norm.rvs"
   ]
  },
  {
   "cell_type": "code",
   "execution_count": 14,
   "metadata": {},
   "outputs": [
    {
     "data": {
      "text/plain": [
       "array([[ 5.4964257 ,  4.44204936,  5.43345695],\n",
       "       [ 3.86009569,  6.20889469,  3.34474548],\n",
       "       [ 6.32204293,  4.93303242,  1.06360263],\n",
       "       [ 1.8377904 ,  5.02717412,  2.32716504],\n",
       "       [ 3.54589112,  5.84808659,  5.54814228]])"
      ]
     },
     "execution_count": 14,
     "metadata": {},
     "output_type": "execute_result"
    }
   ],
   "source": [
    "from scipy.stats import norm\n",
    "\n",
    "simu = norm.rvs(loc=4,scale=2,size=100)\n",
    "simu\n",
    "simu = norm.rvs(loc=4,scale=2,size=(5,3))"
   ]
  },
  {
   "cell_type": "markdown",
   "metadata": {},
   "source": [
    "2) Pour trouver les quantiles d'ordre 0.1,0.2,0.5 et 0.9 d'une loi $N(4,2)$ on utilise scipy.stats.norm.ppf"
   ]
  },
  {
   "cell_type": "code",
   "execution_count": 18,
   "metadata": {},
   "outputs": [
    {
     "data": {
      "text/plain": [
       "array([ 1.43689687,  2.31675753,  4.        ,  6.56310313])"
      ]
     },
     "execution_count": 18,
     "metadata": {},
     "output_type": "execute_result"
    }
   ],
   "source": [
    "from scipy.stats import norm\n",
    "\n",
    "import numpy as np\n",
    "\n",
    "prob = np.array([0.1,0.2,0.5,0.9])\n",
    "quantiles = norm.ppf(prob,4,2)\n",
    "quantiles"
   ]
  },
  {
   "cell_type": "markdown",
   "metadata": {},
   "source": [
    "3) Pour trouver la fonction de répartition en x=0,4,6 et 10 d'une loi $N(4,2)$ on utilise scipy.stats.norm.cdf"
   ]
  },
  {
   "cell_type": "code",
   "execution_count": 21,
   "metadata": {},
   "outputs": [
    {
     "data": {
      "text/plain": [
       "array([ 0.02275013,  0.5       ,  0.84134475,  0.9986501 ])"
      ]
     },
     "execution_count": 21,
     "metadata": {},
     "output_type": "execute_result"
    }
   ],
   "source": [
    "from scipy.stats import norm\n",
    "\n",
    "import numpy as np\n",
    "\n",
    "x = np.array([0,4,6,10])\n",
    "fdr = norm.cdf(x,loc=4,scale=2)\n",
    "fdr"
   ]
  },
  {
   "cell_type": "markdown",
   "metadata": {},
   "source": [
    "### Exercice\n",
    "1) Simuler une matrice aléatoire de loi $N(5,3)$ de taille $5\\times6$ avec le paramètre random_state=1998.<br>\n",
    "2) Trouver les quantiles d'ordre 0.3,0.4,0.5 et 0.8 d'une loi $N(5,3)$.<br>\n",
    "3) Quelles sont les valeurs de la fonction de répartition en x=0,5 et 8. <br>"
   ]
  },
  {
   "cell_type": "markdown",
   "metadata": {},
   "source": [
    "<p class=\"rubric\"><font size=\"6\">Loi de Poisson</font><hr color=\"black\" size=\"200\"></p>"
   ]
  },
  {
   "cell_type": "markdown",
   "metadata": {},
   "source": [
    "Nous donnons dans le tableau ci-dessous les méthodes de scipy.stats traitant d'une loi de Poisson. <br><br>\n",
    "<table border=\"1\" width=\"900\">\n",
    "<tr>\n",
    " <td>scipy.stats.poisson </td> <td>appelle un objet va aléatoire de Poisson</td>\n",
    "</tr> \n",
    "<tr>\n",
    " <td>scipy.stats.poisson.rvs(mu, loc=0, size=(a,b), random_state=None)</td> <td>vecteur/matrice aléatoire de loi de Poisson de paramètre mu</td>\n",
    "</tr>\n",
    "<tr>\n",
    " <td>scipy.stats.poisson.pmf(k, mu, loc=0) </td> <td>denstité/fonction de masse en k de la loi de Poisson: $P(X=k)=\\frac{mu^{k}}{k!}\\exp(-mu)$ </td>\n",
    "</tr>\n",
    "<tr>\n",
    " <td>scipy.stats.poisson.cdf(k, mu, loc=0)</td>  <td> fonction de répartition de la loi de Poisson en k $P(X\\leq k)=\\sum_{i=1}^{k}\\frac{mu^{i}}{i!}\\exp(-mu)$  </td>\n",
    "</tr>\n",
    "<tr>\n",
    " <td>scipy.stats.poisson.ppf(q, mu, loc=0)</td> <td>Percent point function (inverse of cdf — percentiles).</td>\n",
    "</tr>\n",
    "</table>"
   ]
  },
  {
   "cell_type": "markdown",
   "metadata": {},
   "source": [
    "### Exemple\n",
    "1) Simuler une matrice $5\\times 3 $ aléatoire de Poisson de paramêtre 6.<br>\n",
    "2) Trouver les quantiles d'ordre 0.05, 0.3 et 0.7 d'une loi de Poisson de parmêtre 6.<br>\n",
    "3) Trouver la fonction de répartition en k=4,5 et 9.<br>\n",
    "4) Trouver la fonction de masse en k=1, 8 et 15."
   ]
  },
  {
   "cell_type": "markdown",
   "metadata": {},
   "source": [
    "1) Pour simuler une variable de Poisson de paramêtre 6 on utilise scipy.stats.poisson.rvs"
   ]
  },
  {
   "cell_type": "code",
   "execution_count": 7,
   "metadata": {
    "collapsed": true
   },
   "outputs": [],
   "source": [
    "from scipy.stats import poisson\n",
    "\n",
    "import numpy as np\n",
    "proba = poisson.rvs(mu=6,size=(5,3),random_state=1998)"
   ]
  },
  {
   "cell_type": "markdown",
   "metadata": {},
   "source": [
    "2) Pour trouver les quantiles d'odre 0.05, 0.3 et 0.7 on utilise scipy.stats.poisson.ppf"
   ]
  },
  {
   "cell_type": "code",
   "execution_count": 12,
   "metadata": {},
   "outputs": [
    {
     "data": {
      "text/plain": [
       "array([ 2.,  5.,  7.])"
      ]
     },
     "execution_count": 12,
     "metadata": {},
     "output_type": "execute_result"
    }
   ],
   "source": [
    "from scipy.stats import poisson\n",
    "import numpy as np\n",
    "p = np.array([0.05,0.3,0.7])\n",
    "quantile = poisson.ppf(p,mu=6)\n",
    "quantile"
   ]
  },
  {
   "cell_type": "markdown",
   "metadata": {},
   "source": [
    "3) Pour trouver la fonction de répartition d'une loi de Poisson on utilise scipy.stats.cdf"
   ]
  },
  {
   "cell_type": "code",
   "execution_count": 14,
   "metadata": {},
   "outputs": [
    {
     "data": {
      "text/plain": [
       "array([ 0.2850565 ,  0.44567964,  0.91607598])"
      ]
     },
     "execution_count": 14,
     "metadata": {},
     "output_type": "execute_result"
    }
   ],
   "source": [
    "from scipy.stats import poisson\n",
    "\n",
    "import numpy as np\n",
    "point = np.array([4,5,9])\n",
    "fdr = poisson.cdf(point,mu=6)\n",
    "fdr"
   ]
  },
  {
   "cell_type": "markdown",
   "metadata": {},
   "source": [
    "4) Pour la fonction de masse on utilise : scipy.stats.poisson.pmf"
   ]
  },
  {
   "cell_type": "code",
   "execution_count": 23,
   "metadata": {},
   "outputs": [
    {
     "data": {
      "text/plain": [
       "array([ 0.01487251,  0.10325773,  0.00089126])"
      ]
     },
     "execution_count": 23,
     "metadata": {},
     "output_type": "execute_result"
    }
   ],
   "source": [
    "from scipy.stats import poisson\n",
    "import numpy as np\n",
    "\n",
    "point = np.array([1,8,15])\n",
    "mf = poisson.pmf(point,mu=6)\n",
    "mf\n",
    "#import math\n",
    "#from scipy.special import factorial\n",
    "\n"
   ]
  },
  {
   "cell_type": "markdown",
   "metadata": {},
   "source": [
    "### Exercice\n",
    "1) Simuler une matrice $2\\times 4 $ aléatoire de Poisson de paramêtre 3.<br>\n",
    "2) Trouver les quantiles d'ordre $0.05, 0.1, 0.15, 0.2, 0.25, 0.3, 0.35$ d'une loi de Poisson de paramêtre 3.<br>\n",
    "3) Trouver la fonction de répartition en k=3,4 et 6 d'une loi de Poisson de paramêtre 3."
   ]
  },
  {
   "cell_type": "markdown",
   "metadata": {},
   "source": [
    "<p class=\"rubric\"><font size=\"6\">Loi exponentiel</font><hr color=\"black\" size=\"200\"></p>"
   ]
  },
  {
   "cell_type": "markdown",
   "metadata": {},
   "source": [
    "Nous donnons dans le tableau ci-dessous les méthodes de scipy.stats traitant d'une loi exponentiel. <br><br>\n",
    "<table border=\"1\" width=\"900\">\n",
    "<tr>\n",
    " <td>scipy.stats.expon </td> <td>appelle un objet va aléatoire</td>\n",
    "</tr> \n",
    "<tr>\n",
    " <td>scipy.stats.expon.rvs(loc=0, scale=1/$\\lambda$, size=(a,b), random_state=None)</td> <td>variable aléatoire exponentiel de paramêtre $\\lambda$ </td>\n",
    "</tr>\n",
    "<tr>\n",
    " <td>scipy.stats.expon.pdf(x, loc=0, scale=1/$\\lambda$) </td> <td>denstité de la loi exponentiel de paramêtre $\\lambda$  </td>\n",
    "</tr>\n",
    "<tr>\n",
    " <td>scipy.stats.expon.cdf(x, loc=0, scale=1/$\\lambda$)</td>  <td> fonction de répartition de la loi exponentiel de paramêtre $\\lambda$  </td>\n",
    "</tr>\n",
    "<tr>\n",
    " <td>scipy.stats.expon.ppf(q, loc=0, scale=1/$\\lambda$)</td> <td>Percent point function (inverse of cdf — percentiles).  </td>\n",
    "</tr>\n",
    "</table>"
   ]
  },
  {
   "cell_type": "markdown",
   "metadata": {},
   "source": [
    "### Exemple\n",
    "1) Simuler une matrice 2x3 aléatoire de exponentiel de paramêtre $\\lambda=2$. Afficher la moyenne de cette matrice.<br>\n",
    "2) Tracer la densité d'une variable exponentiel de paramêtre $\\lambda=2$.<br>\n",
    "3) Tracer la fonction de répartition d'une VA aléatoire exponentiel de paramêtre $\\lambda=2$."
   ]
  },
  {
   "cell_type": "markdown",
   "metadata": {},
   "source": [
    "1) Pour simuler une loi exponentiel on utilise scipy.stats.rvs"
   ]
  },
  {
   "cell_type": "code",
   "execution_count": 38,
   "metadata": {},
   "outputs": [
    {
     "name": "stdout",
     "output_type": "stream",
     "text": [
      "simu: [[ 0.40986065  0.71667619  0.14020863]\n",
      " [ 0.7385243   0.21884341  0.79652988]]\n",
      "moyenne:0.503440510962\n"
     ]
    }
   ],
   "source": [
    "from scipy.stats import expon\n",
    "import numpy as np\n",
    "\n",
    "simu = expon.rvs(scale=1/2,size=(2,3),random_state=1998)\n",
    "print(\"simu: \" + str(simu))\n",
    "\n",
    "moyenne = np.mean(simu)\n",
    "print(\"moyenne:\"+str(moyenne))"
   ]
  },
  {
   "cell_type": "markdown",
   "metadata": {},
   "source": [
    "2) On va utiliser scipy.stats.expon.pdf pour tracer la densité de cette fonction"
   ]
  },
  {
   "cell_type": "code",
   "execution_count": 56,
   "metadata": {},
   "outputs": [
    {
     "data": {
      "image/png": "[encoded data removed]",
      "text/plain": [
       "<matplotlib.figure.Figure at 0x7f05622c3320>"
      ]
     },
     "metadata": {},
     "output_type": "display_data"
    }
   ],
   "source": [
    "from scipy.stats import expon\n",
    "import numpy as np\n",
    "x= np.linspace(0,8,1000)\n",
    "pdf = expon.pdf(x,scale=1/2)\n",
    "\n",
    "import matplotlib.pyplot as plt\n",
    "plt.plot(x,pdf,color='blue',label=\"densité\")\n",
    "plt.plot([0,8],[0,0],color='blue',alpha=0.5,label=r\"$\\lim_{x\\rightarrow \\infty}2\\exp(-2x)$\")\n",
    "plt.title(r\"représentation de $f(x)=2\\exp(-2x)$\")\n",
    "plt.legend(loc='upper left')\n",
    "plt.show()"
   ]
  },
  {
   "cell_type": "markdown",
   "metadata": {},
   "source": [
    "3) On va utiliser scipy.stats.expon.cdf pour tracer fonction de répartition "
   ]
  },
  {
   "cell_type": "code",
   "execution_count": 62,
   "metadata": {},
   "outputs": [
    {
     "data": {
      "image/png": "[encoded data removed]",
      "text/plain": [
       "<matplotlib.figure.Figure at 0x7f0559ddf940>"
      ]
     },
     "metadata": {},
     "output_type": "display_data"
    }
   ],
   "source": [
    "from scipy.stats import expon\n",
    "import numpy as np\n",
    "x = np.linspace(0,4,1000)\n",
    "cdf = expon.cdf(x,scale=1/2)\n",
    "\n",
    "import matplotlib.pyplot as plt\n",
    "plt.plot(x,cdf,color='red',label=r\"FDR de $X\\sim 2\\exp(-2x) $\")\n",
    "plt.plot([-1,0],[0,0],color='red')\n",
    "plt.title(r\"fonction de répartition d'une loi $\\mathcal{E}(2)$\")\n",
    "plt.show()"
   ]
  },
  {
   "cell_type": "markdown",
   "metadata": {},
   "source": [
    "<p class=\"rubric\"><font size=\"6\">Loi uniforme</font><hr color=\"black\" size=\"200\"></p>"
   ]
  },
  {
   "cell_type": "markdown",
   "metadata": {},
   "source": [
    "Nous donnons dans le tableau ci-dessous les méthodes de scipy.stats traitant d'une loi uniforme. <br><br>\n",
    "<table border=\"1\" width=\"900\">\n",
    "<tr>\n",
    " <td>scipy.stats.uniform </td> <td>appelle un objet va aléatoire</td>\n",
    "</tr> \n",
    "<tr>\n",
    " <td>scipy.stats.uniform.rvs(loc=a, scale=b-a, size=(m,n), random_state=None)</td> <td> variable uniforme sur $[a,b]$ </td>\n",
    "</tr>\n",
    "<tr>\n",
    " <td>scipy.stats.uniform.pdf(x, loc=a, scale=b-a) </td> <td>denstité de la loi uniforme sur $[a,b]$</td>\n",
    "</tr>\n",
    "<tr>\n",
    " <td>scipy.stats.uniform.cdf(x, loc=a, scale=b-a)</td>  <td> fonction de répartition de la loi uniforme sur $[a,b]$ </td>\n",
    "</tr>\n",
    "<tr>\n",
    " <td>scipy.stats.uniform.ppf(q, loc=a, scale=b-a)</td> <td>Percent point function (inverse of cdf — percentiles).  </td>\n",
    "</tr>\n",
    "</table>"
   ]
  },
  {
   "cell_type": "markdown",
   "metadata": {},
   "source": [
    "### Exemple\n",
    "1) Simuler un vecteur aléatoire de loi uniforme sur $[4,9]$ de taille 10. Calculer sa moyenne.<br>\n",
    "2) Trouver les valeurs de la densité d'une VA uniforme sur $[4,9]$ au point 4.1, 5, 6, 7.3.<br>\n",
    "3) Trouver les quantile d'ordre 0.2, 0.4, 0.8, 0.9 d'une VA uniforme sur $[4,9]$.<br>\n",
    "4) Tracer la FDR d'une VA uniforme sur $[4,9]$"
   ]
  },
  {
   "cell_type": "markdown",
   "metadata": {},
   "source": [
    "1) On va utiliser scipy.stats.uniform.rvs pour simuler une VA uniforme"
   ]
  },
  {
   "cell_type": "code",
   "execution_count": 18,
   "metadata": {
    "collapsed": true
   },
   "outputs": [],
   "source": [
    "from scipy.stats import uniform\n",
    "\n",
    "simu = uniform.rvs(loc=4,scale=5,size=10,random_state=1998)\n",
    "moy = np.mean(simu)"
   ]
  },
  {
   "cell_type": "markdown",
   "metadata": {},
   "source": [
    "2) On va utiliser scipy.stats.uniform.pdf pour trouver les valeurs de la densité "
   ]
  },
  {
   "cell_type": "code",
   "execution_count": 21,
   "metadata": {},
   "outputs": [
    {
     "data": {
      "text/plain": [
       "array([ 0.2,  0.2,  0.2,  0.2])"
      ]
     },
     "execution_count": 21,
     "metadata": {},
     "output_type": "execute_result"
    }
   ],
   "source": [
    "from scipy.stats import uniform\n",
    "import numpy as np\n",
    "points = np.array([4.1,5,6,7.3]) \n",
    "pdf = uniform.pdf(points,loc=4,scale=5)\n",
    "pdf"
   ]
  },
  {
   "cell_type": "markdown",
   "metadata": {},
   "source": [
    "3) On va utiliser scipy.stats.uniform.ppf pour les quantiles "
   ]
  },
  {
   "cell_type": "code",
   "execution_count": 23,
   "metadata": {},
   "outputs": [
    {
     "data": {
      "text/plain": [
       "array([ 5. ,  6. ,  8. ,  8.5])"
      ]
     },
     "execution_count": 23,
     "metadata": {},
     "output_type": "execute_result"
    }
   ],
   "source": [
    "from scipy.stats import uniform\n",
    "import numpy as np\n",
    "proba = np.array([0.2,0.4,0.8,0.9])\n",
    "quantile = uniform.ppf(proba,loc=4,scale=5)\n",
    "quantile"
   ]
  },
  {
   "cell_type": "markdown",
   "metadata": {},
   "source": [
    "4) On va utiliser scipy.stats.cdf pour la FDR d'une va uniforme sur [4,9]."
   ]
  },
  {
   "cell_type": "code",
   "execution_count": 34,
   "metadata": {},
   "outputs": [
    {
     "data": {
      "image/png": "[encoded data removed]",
      "text/plain": [
       "<matplotlib.figure.Figure at 0x7f7e972e3588>"
      ]
     },
     "metadata": {},
     "output_type": "display_data"
    }
   ],
   "source": [
    "import numpy as np\n",
    "from scipy.stats import uniform\n",
    "\n",
    "x = np.linspace(4,9,400)\n",
    "FDR = uniform.cdf(x,loc=4,scale=5)\n",
    "\n",
    "import matplotlib.pyplot as plt\n",
    "\n",
    "\n",
    "plt.plot(x,FDR,color='navy',label=\"courbe\")\n",
    "plt.plot([3,4],[0,0],color='blue',alpha=0.5)\n",
    "plt.plot([9,10],[1,1],color='blue',alpha=0.5)\n",
    "plt.title(r\"FDR d'une loi $X \\sim \\mathcal{U}([4,9])$\")\n",
    "plt.show()"
   ]
  },
  {
   "cell_type": "markdown",
   "metadata": {},
   "source": [
    "### Exercice\n",
    "1) Simuler une matrice aléatoire 2x5 de loi uniforme sur [3,10]. Calculer la variance de la matrice.<br>\n",
    "2) Tracer la fonction de répartition d'une VA uniforme sur [3,10]"
   ]
  },
  {
   "cell_type": "markdown",
   "metadata": {},
   "source": [
    "<p class=\"rubric\"><font size=\"6\">Loi binomiale</font><hr color=\"black\" size=\"200\"></p>"
   ]
  },
  {
   "cell_type": "markdown",
   "metadata": {},
   "source": [
    "Nous donnons dans le tableau ci-dessous les méthodes de scipy.stats traitant d'une loi binomiale. <br><br>\n",
    "<table border=\"1\" width=\"900\">\n",
    "<tr>\n",
    " <td>scipy.stats.binom </td> <td>appelle un objet va aléatoire</td>\n",
    "</tr> \n",
    "<tr>\n",
    " <td>scipy.stats.binom.rvs(n, p, loc=0, size=(a,b))</td> <td> variable binomiale de paramêtre n et p </td>\n",
    "</tr>\n",
    "<tr>\n",
    " <td>scipy.stats.binom.pmf(x, n, p, loc=0) </td> <td>fonction de probabilité de masse d'une VA binomiale de paramêtre n et p</td>\n",
    "</tr>\n",
    "<tr>\n",
    " <td>scipy.stats.binom.cdf(x, n, p, loc=0)</td>  <td> fonction de répartition d'une loi binomiale de paramêtre n et p </td>\n",
    "</tr>\n",
    "<tr>\n",
    " <td>scipy.stats.binom.ppf(q, n, p, loc=0)</td> <td>Percent point function (inverse of cdf — percentiles).  </td>\n",
    "</tr>\n",
    "</table>"
   ]
  },
  {
   "cell_type": "markdown",
   "metadata": {},
   "source": [
    "### Exemple\n",
    "1) Simuler un vecteur aléatoire de taille 100 de loi binomiale de paramêtre n=10 et p=0.8. Calculer sa moyenne et sa variance.<br>\n",
    "2) Calculer $P(X=3)$ et $P(X=6)$ si $X\\sim\\mathcal{B}(10,0.8)$"
   ]
  },
  {
   "cell_type": "markdown",
   "metadata": {},
   "source": [
    "1) Pour simuler une variable aléatoire binomiale on utilise scipy.stats.binom.rvs "
   ]
  },
  {
   "cell_type": "code",
   "execution_count": 42,
   "metadata": {},
   "outputs": [
    {
     "name": "stdout",
     "output_type": "stream",
     "text": [
      "mean: 8.06\n",
      "variance: 1.1964\n"
     ]
    }
   ],
   "source": [
    "from scipy.stats import binom\n",
    "simu = binom.rvs(n=10,p=0.8,size=100)\n",
    "print(\"mean: \" +str(np.mean(simu)))\n",
    "print(\"variance: \" +str(np.var(simu)))"
   ]
  },
  {
   "cell_type": "markdown",
   "metadata": {},
   "source": [
    "2) On utilise scipy.stats.binom.pmf pour calculer $P(X=3)$ et $P(X=6)$ "
   ]
  },
  {
   "cell_type": "code",
   "execution_count": 44,
   "metadata": {},
   "outputs": [
    {
     "data": {
      "text/plain": [
       "array([ 0.00078643,  0.08808038])"
      ]
     },
     "execution_count": 44,
     "metadata": {},
     "output_type": "execute_result"
    }
   ],
   "source": [
    "from scipy.stats import binom\n",
    "import numpy as np\n",
    "point = np.array([3,6])\n",
    "binom.pmf(point,10,0.8)"
   ]
  },
  {
   "cell_type": "markdown",
   "metadata": {},
   "source": [
    "<p class=\"rubric\"><font size=\"6\">Racine de fonction</font><hr color=\"black\" size=\"200\"></p>"
   ]
  },
  {
   "cell_type": "markdown",
   "metadata": {},
   "source": [
    "### Exemple\n",
    "On va utiliser fsolve et root du package scipy.optimize pour trouver toutes les racines de $f(x)=2x^{2}-7x+4$ dans l'interval $[0,7]$."
   ]
  },
  {
   "cell_type": "markdown",
   "metadata": {},
   "source": [
    "1/ On fait un graphique de f dans [0,7]"
   ]
  },
  {
   "cell_type": "code",
   "execution_count": 25,
   "metadata": {},
   "outputs": [
    {
     "data": {
      "image/png": "[encoded data removed]",
      "text/plain": [
       "<matplotlib.figure.Figure at 0x7fcfc7e3ee80>"
      ]
     },
     "metadata": {},
     "output_type": "display_data"
    }
   ],
   "source": [
    "import numpy as np\n",
    "x = np.linspace(0,7,300)\n",
    "y = 2*x**2-7*x+3\n",
    "\n",
    "import matplotlib.pyplot as plt\n",
    "plt.plot(x,y)\n",
    "plt.plot([0,10],[0,0])\n",
    "plt.show()"
   ]
  },
  {
   "cell_type": "markdown",
   "metadata": {},
   "source": [
    "2/ On constate qu'il y a 2 racines. On va donc utiliser la fonction fsolve du package scipy.optimize avec point initiale 0 et ensuite avec le point initiale 2.2"
   ]
  },
  {
   "cell_type": "code",
   "execution_count": 32,
   "metadata": {},
   "outputs": [
    {
     "name": "stdout",
     "output_type": "stream",
     "text": [
      "x1: [ 0.5]\n",
      "x2: [ 3.]\n"
     ]
    }
   ],
   "source": [
    "from scipy.optimize import fsolve\n",
    "from scipy.optimize import root\n",
    "#from scipy.optimize import brenth\n",
    "\n",
    "import numpy as np\n",
    "def f(x):\n",
    "    return(2*x**2-7*x+3)\n",
    "\n",
    "x1 = fsolve(f,0)\n",
    "print(\"x1: \"+str(x1)) \n",
    "x2 = fsolve(f,2.2)\n",
    "print(\"x2: \"+str(x2))"
   ]
  },
  {
   "cell_type": "markdown",
   "metadata": {
    "collapsed": true
   },
   "source": [
    "3/ On utilise la fonction root du package scipy.optimize"
   ]
  },
  {
   "cell_type": "code",
   "execution_count": 31,
   "metadata": {},
   "outputs": [
    {
     "data": {
      "text/plain": [
       "array([ 0.5])"
      ]
     },
     "execution_count": 31,
     "metadata": {},
     "output_type": "execute_result"
    }
   ],
   "source": [
    "from scipy.optimize import root\n",
    "import numpy as np\n",
    "def f(x):\n",
    "    return(2*x**2-7*x+3)\n",
    "\n",
    "P = root(f,0)\n",
    "x1 = P.x\n",
    "print(x1)\n",
    "\n",
    "Q = root(f,2.2)\n",
    "x2 = Q.x"
   ]
  },
  {
   "cell_type": "markdown",
   "metadata": {},
   "source": [
    "### Exercice\n",
    "Utiliser fsolve pour trouver toutes les racines de -4200*exp(t) - 40*exp(1.5*t) + 6*exp(2.5*t) + 28000 sur [1,5]."
   ]
  },
  {
   "cell_type": "markdown",
   "metadata": {},
   "source": [
    "### Exemple\n",
    "On va chercher toutes les racines de $f(x)=sin(x^{2})$ dans l'interval $[0,2\\pi]$."
   ]
  },
  {
   "cell_type": "markdown",
   "metadata": {},
   "source": [
    "1/On trace la fonction dans l'interval $[0,2\\pi]$"
   ]
  },
  {
   "cell_type": "code",
   "execution_count": 83,
   "metadata": {},
   "outputs": [
    {
     "data": {
      "image/png": "[encoded data removed]",
      "text/plain": [
       "<matplotlib.figure.Figure at 0x7fcfc7e3d550>"
      ]
     },
     "metadata": {},
     "output_type": "display_data"
    }
   ],
   "source": [
    "import numpy as np\n",
    "import matplotlib.pyplot as plt\n",
    "\n",
    "x = np.linspace(0,2*np.pi,400)\n",
    "y = np.sin(x**2)\n",
    "plt.plot(x,y)\n",
    "plt.plot(x,np.zeros(len(x)))\n",
    "plt.show()"
   ]
  },
  {
   "cell_type": "markdown",
   "metadata": {},
   "source": [
    "2/On détermine les changements de signe"
   ]
  },
  {
   "cell_type": "code",
   "execution_count": 93,
   "metadata": {},
   "outputs": [
    {
     "name": "stdout",
     "output_type": "stream",
     "text": [
      "[ 0.01574733  1.77944847  2.51957306  3.07072966  3.55889694  3.96832756\n",
      "  4.34626352  4.69270482  5.02339878  5.32259808  5.60605005  5.88950202\n",
      "  6.14145932]\n"
     ]
    }
   ],
   "source": [
    "import numpy as np\n",
    "x = np.linspace(0,2*np.pi,400)\n",
    "y = np.sin(x**2)\n",
    "\n",
    "signe = np.sign(y)\n",
    "changesigne = (np.roll(signe,1)-signe)!=0\n",
    "changesigne[0]=False\n",
    "\n",
    "#les points ou le signe change\n",
    "x_change = x[changesigne]\n",
    "print(x_change)"
   ]
  },
  {
   "cell_type": "markdown",
   "metadata": {},
   "source": [
    "3/ On appelle la focntion fsolve avec les valeurs initiales x_change"
   ]
  },
  {
   "cell_type": "code",
   "execution_count": 95,
   "metadata": {},
   "outputs": [
    {
     "data": {
      "text/plain": [
       "array([  1.73440692e-08,   1.77245385e+00,   2.50662827e+00,\n",
       "         3.06998012e+00,   3.54490770e+00,   3.96332730e+00,\n",
       "         4.34160753e+00,   4.68947210e+00,   5.01325655e+00,\n",
       "         5.31736155e+00,   5.60499122e+00,   5.87856438e+00,\n",
       "         6.13996025e+00])"
      ]
     },
     "execution_count": 95,
     "metadata": {},
     "output_type": "execute_result"
    }
   ],
   "source": [
    "import numpy as np\n",
    "from scipy.optimize import fsolve\n",
    "\n",
    "def f(x):\n",
    "    v = np.sin(x**2)\n",
    "    return(v)\n",
    "\n",
    "fsolve(f,x_change)"
   ]
  },
  {
   "cell_type": "markdown",
   "metadata": {},
   "source": [
    "### Exemple\n",
    "Utiliser fsolve pour trouver une solution au 2 équations suivantes:\n",
    "$$\\left\\{\\begin{array}{l}\n",
    "f(x,y) = x^{2}+y^{2}-15\\\\\n",
    "g(x,y) = x+y-5\n",
    "\\end{array}\\right.$$\n",
    "Utiliser un point initiale $x_{0}=2,y_{0}=2$"
   ]
  },
  {
   "cell_type": "code",
   "execution_count": 112,
   "metadata": {},
   "outputs": [
    {
     "data": {
      "text/plain": [
       "array([ 3.61803399,  1.38196601])"
      ]
     },
     "execution_count": 112,
     "metadata": {},
     "output_type": "execute_result"
    }
   ],
   "source": [
    "from scipy.optimize import fsolve\n",
    "import numpy as np\n",
    "\n",
    "def f(z):\n",
    "    x=z[0]\n",
    "    y=z[1]\n",
    "    g = np.zeros(2)\n",
    "    g[0] = x**2+y**2-15\n",
    "    g[1] = x+y-5\n",
    "    return(g)\n",
    "\n",
    "fsolve(f,[2,2])"
   ]
  },
  {
   "cell_type": "code",
   "execution_count": 113,
   "metadata": {},
   "outputs": [
    {
     "name": "stdout",
     "output_type": "stream",
     "text": [
      "[  5.59063906e-09   0.00000000e+00]\n"
     ]
    }
   ],
   "source": [
    "print(f([3.61803399,  1.38196601]))"
   ]
  },
  {
   "cell_type": "markdown",
   "metadata": {},
   "source": [
    "### Exercice\n",
    "Utiliser fsolve pour trouver une solution au 2 équation suivantes:\n",
    "$$\\left\\{\\begin{array}{l}\n",
    "-2x^{2}+9y+z = 4\\\\\n",
    "x+3xy-15z = 10\\\\\n",
    "25x +3y^{2}-2yz=12\n",
    "\\end{array}\n",
    "\\right. $$\n",
    "avec le point initiale $x_{0}=0.5,y_{0}=0.5,z_{0}=0.5$"
   ]
  },
  {
   "cell_type": "markdown",
   "metadata": {},
   "source": [
    "<p class=\"rubric\"><font size=\"6\">Optimisation</font><hr color=\"black\" size=\"200\"></p>"
   ]
  },
  {
   "cell_type": "markdown",
   "metadata": {},
   "source": [
    "### Exemple\n",
    "On va résoudre le problème d'optimisation suivant:\n",
    "$$\\begin{array}{ll}\n",
    "\\mbox{minimize}& x^{2}+y^{2}\\\\\n",
    "\\mbox{subject to}&  x^{2}+8xy+7y^{2}=225\n",
    "\\end{array}$$\n",
    "On va utiliser l'algorithme Sequential Least SQuares Programming (SLSQP). Cet algorithme peut dans le cas d'optimisation sous contrainte. On prend $x_{0}=[1,1]$."
   ]
  },
  {
   "cell_type": "code",
   "execution_count": 132,
   "metadata": {},
   "outputs": [
    {
     "name": "stdout",
     "output_type": "stream",
     "text": [
      "     fun: 24.999999897344903\n",
      "     jac: array([ 4.47041678,  8.94513106])\n",
      " message: 'Optimization terminated successfully.'\n",
      "    nfev: 32\n",
      "     nit: 7\n",
      "    njev: 7\n",
      "  status: 0\n",
      " success: True\n",
      "       x: array([ 2.23606786,  4.472136  ])\n",
      "le minimum est: 24.9999998973\n"
     ]
    }
   ],
   "source": [
    "import numpy as np\n",
    "from scipy.optimize import minimize\n",
    "\n",
    "def objective(z):\n",
    "    x = z[0]\n",
    "    y = z[1]\n",
    "    return(x**2+y**2)\n",
    "\n",
    "def const1(z):\n",
    "    x = z[0]\n",
    "    y = z[1]\n",
    "    return(x**2+8*x*y+7*y**2-225)\n",
    "\n",
    "x0 = np.array([1,1])\n",
    "const = {'type':'eq','fun':const1}\n",
    "\n",
    "opt = minimize(objective,x0,method='SLSQP',constraints=[const])\n",
    "print(str(opt)+\"\\n\")\n",
    "mini = objective(opt.x)\n",
    "print(\"le minimum est: \"+ str(mini))"
   ]
  },
  {
   "cell_type": "markdown",
   "metadata": {},
   "source": [
    "### Exercice\n",
    "Résoudre le problème d'optimisation:\n",
    "$$\\begin{array}{ll}\n",
    "\\mbox{minimize} & x^{2}+y^{2}+z^{2}\\\\\n",
    "\\mbox{subject to} & \\frac{x^{2}}{4}+\\frac{y^{2}}{5}+\\frac{z^{2}}{25}=1\\\\\n",
    "                  & z=x+y\n",
    "\\end{array}$$"
   ]
  },
  {
   "cell_type": "markdown",
   "metadata": {},
   "source": [
    "### Exemple \n",
    "On va résoudre le problème suivant:\n",
    "$$\\begin{array}{ll}\n",
    "\\mbox{min} & xt(x+y+z)+z\\\\\n",
    "\\mbox{subject to} & xyzt\\geq 25\\\\\n",
    "       &x^{2}+y^{2}+z^{2}+t^{2}=40\\\\\n",
    "       &1\\leq x,y,z,t\\leq 5\n",
    "\\end{array}$$\n",
    "$X_{0}=(1,5,5,1)$"
   ]
  },
  {
   "cell_type": "code",
   "execution_count": 9,
   "metadata": {},
   "outputs": [
    {
     "name": "stdout",
     "output_type": "stream",
     "text": [
      "16\n"
     ]
    },
    {
     "data": {
      "text/plain": [
       "     fun: 17.01401724556073\n",
       "     jac: array([ 14.57227039,   1.37940764,   2.37940764,   9.56415081])\n",
       " message: 'Optimization terminated successfully.'\n",
       "    nfev: 30\n",
       "     nit: 5\n",
       "    njev: 5\n",
       "  status: 0\n",
       " success: True\n",
       "       x: array([ 1.        ,  4.74299607,  3.82115466,  1.37940764])"
      ]
     },
     "execution_count": 9,
     "metadata": {},
     "output_type": "execute_result"
    }
   ],
   "source": [
    "import numpy as np\n",
    "from scipy.optimize import minimize\n",
    "\n",
    "def objective(v):\n",
    "    x=v[0]\n",
    "    y=v[1]\n",
    "    z=v[2]\n",
    "    t=v[3]\n",
    "    return(x*t*(x+y+z)+z)\n",
    "\n",
    "def constr1(v):\n",
    "    x=v[0]\n",
    "    y=v[1]\n",
    "    z=v[2]\n",
    "    t=v[3]\n",
    "    return(x*y*z*t-25)\n",
    "\n",
    "def constr2(v):\n",
    "    x=v[0]\n",
    "    y=v[1]\n",
    "    z=v[2]\n",
    "    t=v[3]\n",
    "    return(x**2+y**2+z**2+t**2-40)\n",
    "\n",
    "x0 = np.array([1,5,5,1])\n",
    "print(objective(x0))\n",
    "\n",
    "b = (1.0,5.0)\n",
    "bnds=(b,b,b,b)\n",
    "\n",
    "con1 = {'type':'ineq','fun':constr1}\n",
    "con2 = {'type':'eq','fun':constr2}\n",
    "\n",
    "cons = [con1,con2]\n",
    "\n",
    "sol =minimize(objective,x0,method='SLSQP',bounds=bnds,constraints=cons)\n",
    "sol"
   ]
  },
  {
   "cell_type": "markdown",
   "metadata": {},
   "source": [
    "### Exercice\n",
    "On va résoudre le problème suivant:\n",
    "$$\\begin{array}{ll}\n",
    "\\mbox{min} & x^{2}+y^{2}+xy-3x\\\\\n",
    "\\mbox{subject to} & x,y\\geq 0\n",
    "\\end{array}$$"
   ]
  },
  {
   "cell_type": "markdown",
   "metadata": {},
   "source": [
    "### Exemple\n",
    "On va utiliser de scipy.optimize.minimize pour déterminer les coefficients d'une régression linéaire.<br>\n",
    "Nous avons le modèle suivant:\n",
    "$$\\forall i \\mbox{ }y_{i} = \\beta_{0}+\\beta_{1}x_{i,1}+\\beta_{2}x_{i,2}+\\beta_{3}x_{i,3} .$$\n",
    "On a $\\hat{\\beta}=(\\hat{\\beta_{0}},\\hat{\\beta_{1}},\\hat{\\beta_{2}},\\hat{\\beta_{3}})=\\underset{\\beta}{\\mbox{argmin}}\\sum_{i=1}^{n}(y_{i}-\\beta_{0}-\\beta_{1}x_{i,1}-\\beta_{2}x_{i,2}+\\beta_{3}x_{i,3})^{2}$.<br>\n",
    "<b>Nous somme dans un cas d'optimisation sans contrainte. </b>"
   ]
  },
  {
   "cell_type": "markdown",
   "metadata": {},
   "source": [
    "Création des données: X et Y."
   ]
  },
  {
   "cell_type": "code",
   "execution_count": 66,
   "metadata": {
    "collapsed": true
   },
   "outputs": [],
   "source": [
    "from scipy.stats import norm\n",
    "import numpy as np\n",
    "\n",
    "#création des x\n",
    "X0 = np.ones((50,1))\n",
    "X1 = norm.rvs(loc=2,scale=1,size=(50,1))\n",
    "X2 = norm.rvs(loc=2,scale=1,size=(50,1))\n",
    "X3 = norm.rvs(loc=2,scale=1,size=(50,1))\n",
    "e = norm.rvs(loc=0,scale=1,size=(50,1))\n",
    "beta = np.array([2,3,2,1]).reshape(4,1)\n",
    "\n",
    "X = np.concatenate((X0,X1,X2,X3),axis=1)\n",
    "Y = X@beta + e"
   ]
  },
  {
   "cell_type": "markdown",
   "metadata": {},
   "source": [
    "Ici commence le calcule de $\\hat{\\beta}$"
   ]
  },
  {
   "cell_type": "code",
   "execution_count": 67,
   "metadata": {},
   "outputs": [
    {
     "name": "stdout",
     "output_type": "stream",
     "text": [
      "     fun: 38.766334975358625\n",
      "     jac: array([ -4.76837158e-07,   4.76837158e-07,   7.62939453e-06,\n",
      "        -9.53674316e-07])\n",
      " message: 'Optimization terminated successfully.'\n",
      "    nfev: 90\n",
      "     nit: 7\n",
      "    njev: 15\n",
      "  status: 0\n",
      " success: True\n",
      "       x: array([ 1.33338653,  3.03369773,  2.37716856,  0.98147418])\n",
      "\n",
      "la solution est[ 1.33338653  3.03369773  2.37716856  0.98147418]\n"
     ]
    }
   ],
   "source": [
    "def objective(betaes):\n",
    "    b0 = beta[0]\n",
    "    b1 = beta[1]\n",
    "    b2 = beta[2]\n",
    "    b3 = beta[3]\n",
    "    betaest = betaes.reshape(4,1)\n",
    "    res = (Y-X@betaest)*(Y-X@betaest)\n",
    "    return(res.sum())\n",
    "\n",
    "from scipy.optimize import minimize\n",
    "import numpy as np\n",
    "x0 = np.array([1.0,1.0,1.0,1.0])\n",
    "betashap = minimize(objective,x0,method='CG')\n",
    "print(str(betashap)+\"\\n\")\n",
    "print(\"la solution est\"+ str(betashap.x))"
   ]
  },
  {
   "cell_type": "code",
   "execution_count": 50,
   "metadata": {},
   "outputs": [
    {
     "data": {
      "text/plain": [
       "array([[ 2.06132304],\n",
       "       [ 3.009831  ],\n",
       "       [ 2.21882135],\n",
       "       [ 0.82877184]])"
      ]
     },
     "execution_count": 50,
     "metadata": {},
     "output_type": "execute_result"
    }
   ],
   "source": [
    "from numpy.linalg import inv\n",
    "inv(X.T@X)@X.T@Y"
   ]
  },
  {
   "cell_type": "markdown",
   "metadata": {},
   "source": [
    "<p class=\"rubric\"><font size=\"6\">Integration</font><hr color=\"black\" size=\"200\"></p>"
   ]
  },
  {
   "cell_type": "markdown",
   "metadata": {},
   "source": [
    "Nous donnons dans le tableau ci-dessous les méthodes de scipy.integrate perméttant de faire du calcule intégrale<br>\n",
    "<b>Integrating functions, given function object</b>\n",
    "<table border=\"1\" width=\"900\">\n",
    "<tr>\n",
    " <td>scipy.integrate.quad(func, a, b[, args, full_output, …])</td> <td>Compute a definite integral.</td>\n",
    "</tr>\n",
    "<tr>\n",
    " <td>scipy.integrate.fixed_quad(func, a, b[, args, n])</td> <td>Compute a definite integral using fixed-order Gaussian quadrature.</td>\n",
    "</tr>\n",
    "<tr>\n",
    " <td>scipy.integrate.quadrature(func, a, b[, args, tol, rtol, …])</td>  <td> Compute a definite integral using fixed-tolerance Gaussian quadrature.  </td>\n",
    "</tr>\n",
    "<tr>\n",
    " <td>  scipy.integrate.romberg(function, a, b[, args, tol, rtol, …])</td>  <td>Romberg integration of a callable function or method.  </td>\n",
    "</tr>\n",
    "</table>\n",
    "\n",
    "<br>\n",
    "<b>Integrating functions, given fixed samples</b>\n",
    "<table border=\"1\" width=\"900\">\n",
    "<tr>\n",
    " <td>scipy.integrate.trapz(y[, x, dx, axis]) </td> <td>Integrate along the given axis using the composite trapezoidal rule. </td>\n",
    "</tr>\n",
    "<tr>\n",
    " <td> scipy.integrate.cumtrapz(y[, x, dx, axis, initial])</td> <td> Cumulatively integrate y(x) using the composite trapezoidal rule.    </td>\n",
    "</tr>\n",
    "<tr>\n",
    " <td> scipy.integrate.simps(y[, x, dx, axis, even])</td>  <td>Integrate y(x) using samples along the given axis and the composite Simpson’s rule.     </td>\n",
    "</tr>\n",
    "<tr>\n",
    " <td>scipy.integrate.romb(y[, dx, axis, show]) </td>  <td>Romberg integration using samples of a function.     </td>\n",
    "</tr>\n",
    "</table>"
   ]
  },
  {
   "cell_type": "markdown",
   "metadata": {},
   "source": [
    "### Exemple\n",
    "Calculer $\\int_{-3}^{6}\\exp(sin(x^{2}))dx $ en utilisant scipy.integrate.quad."
   ]
  },
  {
   "cell_type": "code",
   "execution_count": 13,
   "metadata": {},
   "outputs": [
    {
     "name": "stdout",
     "output_type": "stream",
     "text": [
      "(12.735570791875366, 4.730693589104628e-09)\n",
      "\n",
      "l'integrale : 12.735570791875366\n"
     ]
    }
   ],
   "source": [
    "from scipy.integrate import quad\n",
    "import numpy as np\n",
    "\n",
    "\n",
    "def f(x):\n",
    "    v = np.exp(np.sin(x**2))\n",
    "    return(v)\n",
    "\n",
    "integrale = quad(f,-3,6)\n",
    "print(str(integrale)+\"\\n\")\n",
    "print(\"l'integrale : \"+ str(integrale[0]))"
   ]
  },
  {
   "cell_type": "markdown",
   "metadata": {},
   "source": [
    "### Exemple\n",
    "Calculer $\\int_{-3}^{6}\\exp(sin(x^{2}))dx $ en utilisant scipy.integrate.trapz"
   ]
  },
  {
   "cell_type": "code",
   "execution_count": 40,
   "metadata": {},
   "outputs": [
    {
     "data": {
      "text/plain": [
       "12.735196531407819"
      ]
     },
     "execution_count": 40,
     "metadata": {},
     "output_type": "execute_result"
    }
   ],
   "source": [
    "from scipy.integrate import trapz\n",
    "import numpy as np\n",
    "\n",
    "x = np.linspace(-3,6,400)\n",
    "y = np.exp(np.sin(x**2))\n",
    "\n",
    "resultat = trapz(y,x)\n",
    "resultat"
   ]
  },
  {
   "cell_type": "markdown",
   "metadata": {},
   "source": [
    "### Exercice\n",
    "Calculer $\\int_{4}^{21.5}\\frac{\\cos(x)}{1+\\log(x)}dx$ en utilisant:\n",
    "* scipy.integrate.quad\n",
    "* scipy.integrate.trapz\n",
    "\n",
    "Faire les calcules dans 2 cellules différentes."
   ]
  },
  {
   "cell_type": "markdown",
   "metadata": {},
   "source": [
    "### Exemple\n",
    "On va calculer $\\int_{-\\infty}^{+\\infty}\\frac{1}{\\sqrt{2\\pi}}\\exp\\left(-\\frac{x^{2}}{2}\\right)dx$ avec scipy.integrate.quad"
   ]
  },
  {
   "cell_type": "code",
   "execution_count": 48,
   "metadata": {},
   "outputs": [
    {
     "data": {
      "text/plain": [
       "(0.9999999999999997, 1.017819145094224e-08)"
      ]
     },
     "execution_count": 48,
     "metadata": {},
     "output_type": "execute_result"
    }
   ],
   "source": [
    "import numpy as np\n",
    "from scipy.integrate import quad\n",
    "\n",
    "def f(x):\n",
    "    v = (1/np.sqrt(2*np.pi))*np.exp(-(x**2)/2)\n",
    "    return(v)\n",
    "\n",
    "integrale = quad(f,-1*np.inf,np.inf)\n",
    "integrale"
   ]
  },
  {
   "cell_type": "markdown",
   "metadata": {},
   "source": [
    "<p class=\"rubric\"><font size=\"6\">Exercice suplémentaire</font><hr color=\"black\" size=\"200\"></p>"
   ]
  },
  {
   "cell_type": "markdown",
   "metadata": {},
   "source": [
    "### Exercice 1\n",
    "Le poids des hommes suit une loi normal de paramêtre de moyenne 77.4kg et d'écart type 12kg. Le poids des femmes suit une loi normal de paramêtre de moyenne 62.4 et d'écart type 10.9.<br>\n",
    "En France, il y a 32 455 859 hommes pour 34 534 967 femmes au 1er janvier 2017.<br>\n",
    "Une compagnie maritime organise en Corse des expéditions pouvant accueillir 100 personnes\n",
    "par bateau.<br>\n",
    "Selon les normes de sécurité en vigueur, un bateau ne peut accueillir une charge\n",
    "dépassant les 7.2 tonnes.<br>\n",
    "A l'aide d'une simulation, calculer le risque que cette normes ne soient pas\n",
    "respectées ? (On ferra l’hypothèse que les touristessont adultes et voyagent sans bagage)"
   ]
  },
  {
   "cell_type": "markdown",
   "metadata": {
    "collapsed": true
   },
   "source": [
    "### Exercice 2\n",
    "Utiliser scipy.optimize.minimize pour déterminer les coefficients du modèle suivant:\n",
    "$$y_{i}=\\beta_{0}+\\beta_{1}x_{i}+\\beta_{2}x_{i}^{2}, \\forall i.$$\n",
    "Vous devez donc chercher $\\hat{\\beta}=\\underset{\\beta}{\\mbox{argmin}}\\sum_{i=1}^{n}(y_{i}-\\beta_{0}-\\beta_{1}x_{i}-\\beta_{2}x_{i}^{2})^{2}$."
   ]
  },
  {
   "cell_type": "markdown",
   "metadata": {},
   "source": [
    "On créer la matrice $[x_{1},\\dots,x_{n}]^{t}$ et la matrice $y=[y_{1},\\dots,y_{n}]^{t}$"
   ]
  },
  {
   "cell_type": "code",
   "execution_count": 45,
   "metadata": {
    "collapsed": true
   },
   "outputs": [],
   "source": [
    "#vous devez exécuter cette cellule pour la création des données\n",
    "import numpy as np\n",
    "from scipy.stats import norm\n",
    "\n",
    "x = norm.rvs(loc=2,scale=1,size=(100,1))\n",
    "e = norm.rvs(loc=0,scale=2,size=(100,1))\n",
    "un = 2*np.ones((100,1))\n",
    "\n",
    "y = un + 3*x + 2*np.power(x,2) + e"
   ]
  },
  {
   "cell_type": "markdown",
   "metadata": {},
   "source": [
    "Vous devez utiliser y et x"
   ]
  },
  {
   "cell_type": "markdown",
   "metadata": {},
   "source": [
    "### Exercice 3\n",
    "Calculer $\\int_{0}^{\\infty}\\exp(-x^{2})\\cos(x)dx$ avec scipy.integrate.quad"
   ]
  },
  {
   "cell_type": "markdown",
   "metadata": {},
   "source": [
    "### Exercice 4\n",
    "Simuler une variable aléatoire continue X dont la densité est:\n",
    "$$f(x)=\\left\\{\\begin{array}{ll}\n",
    "2(1-x) & \\mbox{ si } 0\\leq x \\leq 1\\\\\n",
    "0 & \\mbox{sinon}\n",
    "\\end{array}\n",
    "\\right. $$\n",
    "Vous devez produire une fonction qui retourne un np.array. La taille du np.array doit être un paramêtre de la fonction. Vous devrez utiliser scipy.optimize.fsolve, scipy.integrate.quad, scipy.stats.uniform.rvs(loc=0,scale=1).<br>\n",
    "La fonction de répartition doit être calculer avec scipy.integrate.quad<br>\n",
    "La réciproque de la FDR doit être calculé avec scipy.optimize.fsolve<br> \n",
    "Ensuite vous devrez calculer scipy.integrate.quad.\n",
    "* l'espérance et la variance théorique de X.\n",
    "* la moyenne et la variance empirique d'un échantillon de taille n=100 (utiliser (np.mean et np.var)"
   ]
  }
 ],
 "metadata": {
  "kernelspec": {
   "display_name": "Python 3",
   "language": "python",
   "name": "python3"
  },
  "language_info": {
   "codemirror_mode": {
    "name": "ipython",
    "version": 3
   },
   "file_extension": ".py",
   "mimetype": "text/x-python",
   "name": "python",
   "nbconvert_exporter": "python",
   "pygments_lexer": "ipython3",
   "version": "3.6.1"
  }
 },
 "nbformat": 4,
 "nbformat_minor": 2
}
