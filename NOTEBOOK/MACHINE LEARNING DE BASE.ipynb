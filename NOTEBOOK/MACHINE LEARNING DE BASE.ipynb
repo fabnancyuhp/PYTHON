{
 "cells": [
  {
   "cell_type": "markdown",
   "metadata": {},
   "source": [
    "Dans ce chapitre on montre des utilisations de la régression logistic et des arbres de décision. On aborde aussi les matrices de confusion, les scores auc ainsi que les courbe ROC."
   ]
  },
  {
   "cell_type": "markdown",
   "metadata": {},
   "source": [
    "https://www.kaggle.com/ronitf/heart-disease-uci<br>\n",
    "https://www.kaggle.com/sonujha090/bank-marketing<br>\n",
    "https://www.kaggle.com/sulianova/cardiovascular-disease-dataset<br>\n",
    "https://archive.ics.uci.edu/ml/datasets/Lung+Cancer"
   ]
  },
  {
   "cell_type": "markdown",
   "metadata": {},
   "source": [
    "# Machine learning sur les données diabete\n",
    "Dans cette section, le but est de montrer l'utilisation du machine learning sur les  données diabéte. Le but est de prédire si la personne est testé positive pour le diabéte (valeur 1) ou non (valeur 0).<br>\n",
    "Les données sont téléchargeable\n",
    "* https://raw.githubusercontent.com/jbrownlee/Datasets/master/pima-indians-diabetes.data.csv\n",
    "* https://1drv.ms/u/s!Am09h0q2OIX0cL4kHlfXInGaJn4?e=QcafFJ"
   ]
  },
  {
   "cell_type": "markdown",
   "metadata": {},
   "source": [
    "On décrit les variables du dataset diabete si-dessous. Toutes les variables sont numériques.\n",
    "   1. Number of times pregnant\n",
    "   2. Plasma glucose concentration a 2 hours in an oral glucose tolerance test\n",
    "   3. Diastolic blood pressure (mm Hg)\n",
    "   4. Triceps skin fold thickness (mm)\n",
    "   5. 2-Hour serum insulin (mu U/ml)\n",
    "   6. Body mass index (weight in kg/(height in m)^2)\n",
    "   7. Diabetes pedigree function\n",
    "   8. Age (years)\n",
    "   9. Class variable (0 or 1)"
   ]
  },
  {
   "cell_type": "markdown",
   "metadata": {},
   "source": [
    "### Préparation des données"
   ]
  },
  {
   "cell_type": "markdown",
   "metadata": {},
   "source": [
    "On commence par importer les données à l'aide du package pandas. Pandas est un package conçu pour manipuler des dataframe."
   ]
  },
  {
   "cell_type": "code",
   "execution_count": 210,
   "metadata": {},
   "outputs": [],
   "source": [
    "import pandas as pd\n",
    "list_col = ['Plas_glucose_conc','Dias_blood_pressure','Triceps_skin_fold_thi','Hour_serum_insulin',\\\n",
    "            'Body_mass_index','Diabet_pedi_func','Age','Class_variable']\n",
    "diabete  = pd.read_csv(\"C:/Users/IFDU1270/Desktop/pima-indians-diabetes.data.csv\",sep=',',header=None,names=list_col)"
   ]
  },
  {
   "cell_type": "code",
   "execution_count": 5,
   "metadata": {},
   "outputs": [
    {
     "data": {
      "text/html": [
       "<div>\n",
       "<style scoped>\n",
       "    .dataframe tbody tr th:only-of-type {\n",
       "        vertical-align: middle;\n",
       "    }\n",
       "\n",
       "    .dataframe tbody tr th {\n",
       "        vertical-align: top;\n",
       "    }\n",
       "\n",
       "    .dataframe thead th {\n",
       "        text-align: right;\n",
       "    }\n",
       "</style>\n",
       "<table border=\"1\" class=\"dataframe\">\n",
       "  <thead>\n",
       "    <tr style=\"text-align: right;\">\n",
       "      <th></th>\n",
       "      <th>Plas_glucose_conc</th>\n",
       "      <th>Dias_blood_pressure</th>\n",
       "      <th>Triceps_skin_fold_thi</th>\n",
       "      <th>Hour_serum_insulin</th>\n",
       "      <th>Body_mass_index</th>\n",
       "      <th>Diabet_pedi_func</th>\n",
       "      <th>Age</th>\n",
       "      <th>Class_variable</th>\n",
       "    </tr>\n",
       "  </thead>\n",
       "  <tbody>\n",
       "    <tr>\n",
       "      <th>6</th>\n",
       "      <td>148</td>\n",
       "      <td>72</td>\n",
       "      <td>35</td>\n",
       "      <td>0</td>\n",
       "      <td>33.6</td>\n",
       "      <td>0.627</td>\n",
       "      <td>50</td>\n",
       "      <td>1</td>\n",
       "    </tr>\n",
       "    <tr>\n",
       "      <th>1</th>\n",
       "      <td>85</td>\n",
       "      <td>66</td>\n",
       "      <td>29</td>\n",
       "      <td>0</td>\n",
       "      <td>26.6</td>\n",
       "      <td>0.351</td>\n",
       "      <td>31</td>\n",
       "      <td>0</td>\n",
       "    </tr>\n",
       "  </tbody>\n",
       "</table>\n",
       "</div>"
      ],
      "text/plain": [
       "   Plas_glucose_conc  Dias_blood_pressure  Triceps_skin_fold_thi  \\\n",
       "6                148                   72                     35   \n",
       "1                 85                   66                     29   \n",
       "\n",
       "   Hour_serum_insulin  Body_mass_index  Diabet_pedi_func  Age  Class_variable  \n",
       "6                   0             33.6             0.627   50               1  \n",
       "1                   0             26.6             0.351   31               0  "
      ]
     },
     "execution_count": 5,
     "metadata": {},
     "output_type": "execute_result"
    }
   ],
   "source": [
    "diabete.head(2)"
   ]
  },
  {
   "cell_type": "markdown",
   "metadata": {},
   "source": [
    "La variable que l'on veut prédire est Class_variable (target_vlaues). Les autres variables sont les features, c'est à dire les variables explicatives. On va donc séparer ce dataframe en 2. X est l'ensemble des features, Y la variable à predire."
   ]
  },
  {
   "cell_type": "code",
   "execution_count": 211,
   "metadata": {},
   "outputs": [],
   "source": [
    "features = [colonne for colonne in diabete.columns if colonne!='Class_variable']\n",
    "X = diabete[features]\n",
    "Y = diabete['Class_variable']"
   ]
  },
  {
   "cell_type": "markdown",
   "metadata": {},
   "source": [
    "On creer un ensemble d'apprentissage et de test. On utilise sklearn.model_selection.train_test_split. "
   ]
  },
  {
   "cell_type": "code",
   "execution_count": 212,
   "metadata": {},
   "outputs": [],
   "source": [
    "from sklearn.model_selection import train_test_split\n",
    "X_train,X_test,Y_train,Y_test = train_test_split(X,Y,random_state=1998,test_size=0.3)"
   ]
  },
  {
   "cell_type": "markdown",
   "metadata": {},
   "source": [
    "On affiche le début de X_train et le début de Y_train:"
   ]
  },
  {
   "cell_type": "code",
   "execution_count": 9,
   "metadata": {},
   "outputs": [
    {
     "data": {
      "text/html": [
       "<div>\n",
       "<style scoped>\n",
       "    .dataframe tbody tr th:only-of-type {\n",
       "        vertical-align: middle;\n",
       "    }\n",
       "\n",
       "    .dataframe tbody tr th {\n",
       "        vertical-align: top;\n",
       "    }\n",
       "\n",
       "    .dataframe thead th {\n",
       "        text-align: right;\n",
       "    }\n",
       "</style>\n",
       "<table border=\"1\" class=\"dataframe\">\n",
       "  <thead>\n",
       "    <tr style=\"text-align: right;\">\n",
       "      <th></th>\n",
       "      <th>Plas_glucose_conc</th>\n",
       "      <th>Dias_blood_pressure</th>\n",
       "      <th>Triceps_skin_fold_thi</th>\n",
       "      <th>Hour_serum_insulin</th>\n",
       "      <th>Body_mass_index</th>\n",
       "      <th>Diabet_pedi_func</th>\n",
       "      <th>Age</th>\n",
       "    </tr>\n",
       "  </thead>\n",
       "  <tbody>\n",
       "    <tr>\n",
       "      <th>3</th>\n",
       "      <td>176</td>\n",
       "      <td>86</td>\n",
       "      <td>27</td>\n",
       "      <td>156</td>\n",
       "      <td>33.3</td>\n",
       "      <td>1.154</td>\n",
       "      <td>52</td>\n",
       "    </tr>\n",
       "    <tr>\n",
       "      <th>8</th>\n",
       "      <td>112</td>\n",
       "      <td>72</td>\n",
       "      <td>0</td>\n",
       "      <td>0</td>\n",
       "      <td>23.6</td>\n",
       "      <td>0.840</td>\n",
       "      <td>58</td>\n",
       "    </tr>\n",
       "  </tbody>\n",
       "</table>\n",
       "</div>"
      ],
      "text/plain": [
       "   Plas_glucose_conc  Dias_blood_pressure  Triceps_skin_fold_thi  \\\n",
       "3                176                   86                     27   \n",
       "8                112                   72                      0   \n",
       "\n",
       "   Hour_serum_insulin  Body_mass_index  Diabet_pedi_func  Age  \n",
       "3                 156             33.3             1.154   52  \n",
       "8                   0             23.6             0.840   58  "
      ]
     },
     "execution_count": 9,
     "metadata": {},
     "output_type": "execute_result"
    }
   ],
   "source": [
    "X_train.head(2)"
   ]
  },
  {
   "cell_type": "code",
   "execution_count": 10,
   "metadata": {},
   "outputs": [
    {
     "data": {
      "text/plain": [
       "3    1\n",
       "8    0\n",
       "Name: Class_variable, dtype: int64"
      ]
     },
     "execution_count": 10,
     "metadata": {},
     "output_type": "execute_result"
    }
   ],
   "source": [
    "Y_train.head(2)"
   ]
  },
  {
   "cell_type": "markdown",
   "metadata": {},
   "source": [
    "### Régression logistique sur les données diabète\n",
    "Voici le lien sur la documentation sklearn en lien avec la régression logistique: \n",
    "https://scikit-learn.org/stable/modules/generated/sklearn.linear_model.LogisticRegression.html <br>\n",
    "On va faire une régression logistique sur les données diabète en plusieurs étapes:\n",
    "* on appelle le modèle de régression logistque\n",
    "* on entraine le modèle avec X_train et Y_train\n",
    "* on "
   ]
  },
  {
   "cell_type": "markdown",
   "metadata": {},
   "source": [
    "1/ On appelle le modèle de régression logistique. On a les paramètres suivants:\n",
    "* penality : Used to specify the norm used in the penalization\n",
    "* solver : Algorithm to use in the optimization problem.\n",
    "* max_iter : Maximum number of iterations taken for the solvers to converge."
   ]
  },
  {
   "cell_type": "code",
   "execution_count": 213,
   "metadata": {},
   "outputs": [],
   "source": [
    "from sklearn.linear_model import LogisticRegression\n",
    "clf  = LogisticRegression(penalty='l2',random_state=1998, solver='liblinear',max_iter=1000, multi_class='auto')"
   ]
  },
  {
   "cell_type": "markdown",
   "metadata": {},
   "source": [
    "2/ Parfois on doit mettre à l'échelle les données. Cela améliore les chance de convergence des algorithmes de type SVM, réseaux de neurones. Dans cet exemple ce scallage est contre productif. Toutefois dans d'autres exemples, ce scallage peut être utile. "
   ]
  },
  {
   "cell_type": "code",
   "execution_count": 214,
   "metadata": {},
   "outputs": [
    {
     "name": "stderr",
     "output_type": "stream",
     "text": [
      "C:\\Users\\IFDU1270\\Desktop\\newwin\\WPy-3710\\python-3.7.1.amd64\\lib\\site-packages\\sklearn\\preprocessing\\data.py:323: DataConversionWarning: Data with input dtype int64, float64 were all converted to float64 by MinMaxScaler.\n",
      "  return self.partial_fit(X, y)\n"
     ]
    }
   ],
   "source": [
    "from sklearn.preprocessing import StandardScaler, MinMaxScaler\n",
    "\n",
    "scall = MinMaxScaler()\n",
    "scall.fit(X_train)\n",
    "X_train_scall = scall.transform(X_train)\n",
    "X_test_scall = scall.transform(X_test)"
   ]
  },
  {
   "cell_type": "markdown",
   "metadata": {},
   "source": [
    "3/ On entraine le modèle avec X_train et Y_train:"
   ]
  },
  {
   "cell_type": "code",
   "execution_count": 215,
   "metadata": {},
   "outputs": [
    {
     "data": {
      "text/plain": [
       "LogisticRegression(C=1.0, class_weight=None, dual=False, fit_intercept=True,\n",
       "          intercept_scaling=1, max_iter=1000, multi_class='auto',\n",
       "          n_jobs=None, penalty='l2', random_state=1998, solver='liblinear',\n",
       "          tol=0.0001, verbose=0, warm_start=False)"
      ]
     },
     "execution_count": 215,
     "metadata": {},
     "output_type": "execute_result"
    }
   ],
   "source": [
    "clf.fit(X_train,Y_train)"
   ]
  },
  {
   "cell_type": "markdown",
   "metadata": {},
   "source": [
    "3/ On calcule les prévisions puis la précision du modèle:"
   ]
  },
  {
   "cell_type": "code",
   "execution_count": 216,
   "metadata": {},
   "outputs": [],
   "source": [
    "Y_pred = clf.predict(X_test)"
   ]
  },
  {
   "cell_type": "code",
   "execution_count": 217,
   "metadata": {},
   "outputs": [
    {
     "data": {
      "text/plain": [
       "0.7922077922077922"
      ]
     },
     "execution_count": 217,
     "metadata": {},
     "output_type": "execute_result"
    }
   ],
   "source": [
    "from sklearn.metrics import accuracy_score\n",
    "accuracy_score(Y_test,Y_pred)"
   ]
  },
  {
   "cell_type": "markdown",
   "metadata": {},
   "source": [
    "On affiche la matrice de confusion:"
   ]
  },
  {
   "cell_type": "code",
   "execution_count": 218,
   "metadata": {},
   "outputs": [
    {
     "data": {
      "text/plain": [
       "array([[129,  21],\n",
       "       [ 27,  54]], dtype=int64)"
      ]
     },
     "execution_count": 218,
     "metadata": {},
     "output_type": "execute_result"
    }
   ],
   "source": [
    "from sklearn.metrics import confusion_matrix\n",
    "confusion_matrix(Y_test,Y_pred)"
   ]
  },
  {
   "cell_type": "code",
   "execution_count": 219,
   "metadata": {},
   "outputs": [
    {
     "data": {
      "image/png": "[encoded data removed]",
      "text/plain": [
       "<Figure size 720x504 with 2 Axes>"
      ]
     },
     "metadata": {
      "needs_background": "light"
     },
     "output_type": "display_data"
    }
   ],
   "source": [
    "import seaborn as sn\n",
    "import pandas as pd\n",
    "import matplotlib.pyplot as plt\n",
    "\n",
    "cfm = pd.DataFrame(confusion_matrix(Y_test,Y_pred))\n",
    "plt.figure(figsize = (10,7))\n",
    "sn.heatmap(cfm, annot=True)\n",
    "plt.show()"
   ]
  },
  {
   "cell_type": "markdown",
   "metadata": {},
   "source": [
    "4/On calcule les prévison en probabilité du modèle"
   ]
  },
  {
   "cell_type": "code",
   "execution_count": 220,
   "metadata": {},
   "outputs": [],
   "source": [
    "Y_pred_prob = clf.predict_proba(X_test)"
   ]
  },
  {
   "cell_type": "markdown",
   "metadata": {},
   "source": [
    "5/On calule le score AUC puis on trace la courbe ROC"
   ]
  },
  {
   "cell_type": "code",
   "execution_count": 221,
   "metadata": {},
   "outputs": [
    {
     "data": {
      "text/plain": [
       "0.8301234567901234"
      ]
     },
     "execution_count": 221,
     "metadata": {},
     "output_type": "execute_result"
    }
   ],
   "source": [
    "from sklearn.metrics import roc_auc_score, auc\n",
    "roc_auc_score(Y_test,clf.predict_proba(X_test)[:,1])"
   ]
  },
  {
   "cell_type": "markdown",
   "metadata": {},
   "source": [
    "6/ On trace la courbe ROC: on utilise la fonction sklearn.metrics.roc_curve qui calcul les taux de faux positive (fpr) et les taux de vrais positif (tpr) ainsi que le seuils threshold"
   ]
  },
  {
   "cell_type": "code",
   "execution_count": 222,
   "metadata": {},
   "outputs": [
    {
     "data": {
      "text/plain": [
       "0.8301234567901234"
      ]
     },
     "execution_count": 222,
     "metadata": {},
     "output_type": "execute_result"
    }
   ],
   "source": [
    "from sklearn.metrics import roc_curve, auc\n",
    "fpr, tpr, threshold = roc_curve(Y_test,clf.predict_proba(X_test)[:,1])\n",
    "auc(fpr,tpr)"
   ]
  },
  {
   "cell_type": "code",
   "execution_count": 223,
   "metadata": {},
   "outputs": [
    {
     "data": {
      "image/png": "[encoded data removed]",
      "text/plain": [
       "<Figure size 432x288 with 1 Axes>"
      ]
     },
     "metadata": {
      "needs_background": "light"
     },
     "output_type": "display_data"
    }
   ],
   "source": [
    "import numpy as np\n",
    "\n",
    "import matplotlib.pyplot as plt\n",
    "plt.plot(fpr,tpr,label = \"SCORE AUC:\"+str(np.round(auc(fpr,tpr),4)))\n",
    "plt.plot([0,1],[0,1],color='blue')\n",
    "plt.ylabel(\"tpr\",fontsize='large')\n",
    "plt.xlabel(\"fpr\",fontsize='large')\n",
    "plt.fill_between(fpr, fpr, tpr,color='grey')\n",
    "plt.legend(loc=4)\n",
    "plt.show()"
   ]
  },
  {
   "cell_type": "markdown",
   "metadata": {},
   "source": [
    "7/ On affiche les valeurs des coéficients et les variables associées:"
   ]
  },
  {
   "cell_type": "code",
   "execution_count": 224,
   "metadata": {},
   "outputs": [
    {
     "data": {
      "text/plain": [
       "array([ 2.42425533e-02, -1.51853686e-02, -5.41700512e-03, -3.72285248e-04,\n",
       "        5.18429771e-02,  5.95563971e-01,  3.09601207e-02])"
      ]
     },
     "execution_count": 224,
     "metadata": {},
     "output_type": "execute_result"
    }
   ],
   "source": [
    "clf.coef_[0]"
   ]
  },
  {
   "cell_type": "code",
   "execution_count": 225,
   "metadata": {},
   "outputs": [
    {
     "data": {
      "text/plain": [
       "Index(['Plas_glucose_conc', 'Dias_blood_pressure', 'Triceps_skin_fold_thi',\n",
       "       'Hour_serum_insulin', 'Body_mass_index', 'Diabet_pedi_func', 'Age'],\n",
       "      dtype='object')"
      ]
     },
     "execution_count": 225,
     "metadata": {},
     "output_type": "execute_result"
    }
   ],
   "source": [
    "X_train.columns"
   ]
  },
  {
   "cell_type": "markdown",
   "metadata": {},
   "source": [
    "### Arbre de décision sur les données diabète"
   ]
  },
  {
   "cell_type": "markdown",
   "metadata": {},
   "source": [
    "1/ On appelle l'objet arbre de décision. On a les paramètres suivants (non exhaustif):\n",
    "* criterion : The function to measure the quality of a split. Supported criteria are “gini” for the Gini impurity and “entropy” for the information gain.\n",
    "* max_depth : The maximum depth of the tree\n",
    "* min_samples_split : The minimum number of samples required to split an internal node\n",
    "* max_features : The number of features to consider when looking for the best split"
   ]
  },
  {
   "cell_type": "code",
   "execution_count": 32,
   "metadata": {},
   "outputs": [],
   "source": [
    "from sklearn.tree import DecisionTreeClassifier\n",
    "dtc = DecisionTreeClassifier(criterion='gini',max_depth=3,min_samples_split=2)"
   ]
  },
  {
   "cell_type": "code",
   "execution_count": null,
   "metadata": {},
   "outputs": [],
   "source": [
    "2/ On entraine le modèle avec X_train et Y_train:"
   ]
  },
  {
   "cell_type": "code",
   "execution_count": 33,
   "metadata": {},
   "outputs": [
    {
     "data": {
      "text/plain": [
       "DecisionTreeClassifier(class_weight=None, criterion='gini', max_depth=3,\n",
       "            max_features=None, max_leaf_nodes=None,\n",
       "            min_impurity_decrease=0.0, min_impurity_split=None,\n",
       "            min_samples_leaf=1, min_samples_split=2,\n",
       "            min_weight_fraction_leaf=0.0, presort=False, random_state=None,\n",
       "            splitter='best')"
      ]
     },
     "execution_count": 33,
     "metadata": {},
     "output_type": "execute_result"
    }
   ],
   "source": [
    "dtc.fit(X_train,Y_train)"
   ]
  },
  {
   "cell_type": "markdown",
   "metadata": {},
   "source": [
    "3/ On calcule les prévisions puis la précision du modèle:"
   ]
  },
  {
   "cell_type": "code",
   "execution_count": 34,
   "metadata": {},
   "outputs": [],
   "source": [
    "Y_pred = dtc.predict(X_test)"
   ]
  },
  {
   "cell_type": "code",
   "execution_count": 35,
   "metadata": {},
   "outputs": [
    {
     "data": {
      "text/plain": [
       "0.7445887445887446"
      ]
     },
     "execution_count": 35,
     "metadata": {},
     "output_type": "execute_result"
    }
   ],
   "source": [
    "from sklearn.metrics import accuracy_score\n",
    "accuracy_score(Y_test,Y_pred)"
   ]
  },
  {
   "cell_type": "markdown",
   "metadata": {},
   "source": [
    "4/ On affiche la matrice de confusion:"
   ]
  },
  {
   "cell_type": "code",
   "execution_count": 37,
   "metadata": {},
   "outputs": [
    {
     "data": {
      "text/plain": [
       "array([[132,  18],\n",
       "       [ 41,  40]], dtype=int64)"
      ]
     },
     "execution_count": 37,
     "metadata": {},
     "output_type": "execute_result"
    }
   ],
   "source": [
    "from sklearn.metrics import confusion_matrix\n",
    "confusion_matrix(Y_test,Y_pred)"
   ]
  },
  {
   "cell_type": "markdown",
   "metadata": {},
   "source": [
    "5/On dessine l'arbre de décision:"
   ]
  },
  {
   "cell_type": "code",
   "execution_count": 52,
   "metadata": {},
   "outputs": [],
   "source": [
    "from sklearn.tree import export_graphviz\n",
    "import graphviz\n",
    "\n",
    "dot_data = export_graphviz(dtc, out_file=None, feature_names=list(X_train),class_names=['neg','pos'],\\\n",
    "                           filled=True, rounded=True,special_characters=True) \n",
    "#graph = graphviz.Source(dot_data)  \n",
    "#graph "
   ]
  },
  {
   "cell_type": "code",
   "execution_count": null,
   "metadata": {},
   "outputs": [],
   "source": [
    "6/On calcule les prévisons en probabilité du modèle"
   ]
  },
  {
   "cell_type": "code",
   "execution_count": 53,
   "metadata": {},
   "outputs": [],
   "source": [
    "Y_pred_prob = dtc.predict_proba(X_test)"
   ]
  },
  {
   "cell_type": "markdown",
   "metadata": {},
   "source": [
    "7/ On calcule le score auc"
   ]
  },
  {
   "cell_type": "code",
   "execution_count": 55,
   "metadata": {},
   "outputs": [
    {
     "data": {
      "text/plain": [
       "0.7664609053497942"
      ]
     },
     "execution_count": 55,
     "metadata": {},
     "output_type": "execute_result"
    }
   ],
   "source": [
    "from sklearn.metrics import roc_auc_score\n",
    "roc_auc_score(Y_test,dtc.predict_proba(X_test)[:,1])"
   ]
  },
  {
   "cell_type": "markdown",
   "metadata": {},
   "source": [
    "8/ On trace la courbe ROC: on utilise la fonction sklearn.metrics.roc_curve qui calcul les taux de faux positive (fpr) et les taux de vrais positif (tpr) ainsi que le seuils threshold"
   ]
  },
  {
   "cell_type": "code",
   "execution_count": 58,
   "metadata": {},
   "outputs": [
    {
     "data": {
      "text/plain": [
       "0.7664609053497942"
      ]
     },
     "execution_count": 58,
     "metadata": {},
     "output_type": "execute_result"
    }
   ],
   "source": [
    "from sklearn.metrics import roc_curve, auc\n",
    "fpr, tpr, thresholds = roc_curve(Y_test,dtc.predict_proba(X_test)[:,1])\n",
    "auc(fpr,tpr)"
   ]
  },
  {
   "cell_type": "code",
   "execution_count": 60,
   "metadata": {},
   "outputs": [
    {
     "data": {
      "text/plain": [
       "<function matplotlib.pyplot.show(*args, **kw)>"
      ]
     },
     "execution_count": 60,
     "metadata": {},
     "output_type": "execute_result"
    },
    {
     "data": {
      "image/png": "[encoded data removed]",
      "text/plain": [
       "<Figure size 432x288 with 1 Axes>"
      ]
     },
     "metadata": {
      "needs_background": "light"
     },
     "output_type": "display_data"
    }
   ],
   "source": [
    "import numpy as np\n",
    "\n",
    "import matplotlib.pyplot as plt\n",
    "plt.plot(fpr,tpr,label = \"SCORE AUC ARBRE:\"+str(np.round(auc(fpr,tpr),4)))\n",
    "plt.plot([0,1],[0,1],color='blue')\n",
    "plt.ylabel(\"tpr\",fontsize='large')\n",
    "plt.xlabel(\"fpr\",fontsize='large')\n",
    "plt.fill_between(fpr, fpr, tpr,color='grey')\n",
    "plt.legend(loc=4)\n",
    "plt.show"
   ]
  },
  {
   "cell_type": "markdown",
   "metadata": {},
   "source": [
    "9/On étudie l'importance des features:"
   ]
  },
  {
   "cell_type": "code",
   "execution_count": 71,
   "metadata": {},
   "outputs": [
    {
     "data": {
      "text/plain": [
       "array([56.54, 23.77, 19.69,  0.  ,  0.  ,  0.  ,  0.  ])"
      ]
     },
     "execution_count": 71,
     "metadata": {},
     "output_type": "execute_result"
    }
   ],
   "source": [
    "import numpy as np\n",
    "importance = dtc.feature_importances_\n",
    "nom_feature = X_train.columns \n",
    "\n",
    "index = np.argsort(importance)[::-1]\n",
    "\n",
    "nom_feature_ord = nom_feature[index]\n",
    "importance_ord = np.round(100*importance[index],2)"
   ]
  },
  {
   "cell_type": "code",
   "execution_count": 72,
   "metadata": {},
   "outputs": [
    {
     "data": {
      "image/png": "[encoded data removed]",
      "text/plain": [
       "<Figure size 432x288 with 1 Axes>"
      ]
     },
     "metadata": {
      "needs_background": "light"
     },
     "output_type": "display_data"
    }
   ],
   "source": [
    "import numpy as np\n",
    "import matplotlib.pyplot as plt\n",
    "\n",
    "y_pos = np.arange(len(nom_feature_ord))\n",
    "\n",
    "\n",
    "\n",
    "plt.bar(y_pos,importance_ord,edgecolor='navy',color='blue')\n",
    "plt.xticks(y_pos,nom_feature_ord,color='black',rotation=80)\n",
    "plt.box(False)\n",
    "plt.yticks([])\n",
    "for i in range(0,len(nom_feature_ord)):\n",
    "    plt.text(y_pos[i]-0.25,importance_ord[i]+0.5,str(importance_ord[i]))\n",
    "plt.show()"
   ]
  },
  {
   "cell_type": "markdown",
   "metadata": {},
   "source": [
    "### Random forest sur les données diabète"
   ]
  },
  {
   "cell_type": "markdown",
   "metadata": {},
   "source": [
    "Le principe d'une forest aléatoire est de construire un plusieurs arbres de décision indépendant (bagging) et d'assembler leurs prédiction. Chaque arbre peut être vue comme un individue qui vote. C'est le vote majoritaire qui est la prédiction."
   ]
  },
  {
   "cell_type": "markdown",
   "metadata": {},
   "source": [
    "1/ On va construire un arbre de décision rdf avec les paramètres suivants:\n",
    "* n_estimators=300 (nombre d'arbre est 300)\n",
    "* criterion='gini': The function to measure the quality of a split.\n",
    "* max_depth=7 : The maximum depth of the tree.\n",
    "* min_samples_split=3 : The minimum number of samples required to split an internal node"
   ]
  },
  {
   "cell_type": "code",
   "execution_count": 142,
   "metadata": {},
   "outputs": [
    {
     "data": {
      "text/plain": [
       "RandomForestClassifier(bootstrap=True, class_weight=None, criterion='gini',\n",
       "            max_depth=7, max_features='auto', max_leaf_nodes=None,\n",
       "            min_impurity_decrease=0.0, min_impurity_split=None,\n",
       "            min_samples_leaf=2, min_samples_split=3,\n",
       "            min_weight_fraction_leaf=0.0, n_estimators=300, n_jobs=None,\n",
       "            oob_score=False, random_state=1998, verbose=0,\n",
       "            warm_start=False)"
      ]
     },
     "execution_count": 142,
     "metadata": {},
     "output_type": "execute_result"
    }
   ],
   "source": [
    "from sklearn.ensemble import RandomForestClassifier\n",
    "rdf = RandomForestClassifier(n_estimators=300, criterion='gini',\\\n",
    "                             random_state=1998,max_depth=7, min_samples_split=3,min_samples_leaf=2)\n",
    "rdf.fit(X_train,Y_train)"
   ]
  },
  {
   "cell_type": "markdown",
   "metadata": {},
   "source": [
    "2/ On calcule la précision du modèle"
   ]
  },
  {
   "cell_type": "code",
   "execution_count": 143,
   "metadata": {},
   "outputs": [
    {
     "data": {
      "text/plain": [
       "0.7705627705627706"
      ]
     },
     "execution_count": 143,
     "metadata": {},
     "output_type": "execute_result"
    }
   ],
   "source": [
    "from sklearn.metrics import accuracy_score\n",
    "accuracy_score(Y_test,rdf.predict(X_test))"
   ]
  },
  {
   "cell_type": "markdown",
   "metadata": {},
   "source": [
    "3/ On calcule le score AUC"
   ]
  },
  {
   "cell_type": "code",
   "execution_count": 144,
   "metadata": {},
   "outputs": [
    {
     "data": {
      "text/plain": [
       "0.8411522633744857"
      ]
     },
     "execution_count": 144,
     "metadata": {},
     "output_type": "execute_result"
    }
   ],
   "source": [
    "from sklearn.metrics import roc_auc_score\n",
    "roc_auc_score(Y_test,rdf.predict_proba(X_test)[:,1])"
   ]
  },
  {
   "cell_type": "markdown",
   "metadata": {},
   "source": [
    "4/ On construit la courbe ROC avec X_test et Y_test:"
   ]
  },
  {
   "cell_type": "code",
   "execution_count": 145,
   "metadata": {},
   "outputs": [
    {
     "data": {
      "text/plain": [
       "0.8411522633744857"
      ]
     },
     "execution_count": 145,
     "metadata": {},
     "output_type": "execute_result"
    }
   ],
   "source": [
    "from sklearn.metrics import roc_curve, auc\n",
    "fpr, tpr, thresholds = roc_curve(Y_test,rdf.predict_proba(X_test)[:,1])\n",
    "auc(fpr,tpr)"
   ]
  },
  {
   "cell_type": "code",
   "execution_count": 146,
   "metadata": {},
   "outputs": [
    {
     "data": {
      "text/plain": [
       "<function matplotlib.pyplot.show(*args, **kw)>"
      ]
     },
     "execution_count": 146,
     "metadata": {},
     "output_type": "execute_result"
    },
    {
     "data": {
      "image/png": "[encoded data removed]",
      "text/plain": [
       "<Figure size 432x288 with 1 Axes>"
      ]
     },
     "metadata": {
      "needs_background": "light"
     },
     "output_type": "display_data"
    }
   ],
   "source": [
    "import numpy as np\n",
    "\n",
    "import matplotlib.pyplot as plt\n",
    "plt.plot(fpr,tpr,label = \"SCORE AUC RDF:\"+str(np.round(auc(fpr,tpr),4)))\n",
    "plt.plot([0,1],[0,1],color='blue')\n",
    "plt.ylabel(\"tpr\",fontsize='large')\n",
    "plt.xlabel(\"fpr\",fontsize='large')\n",
    "plt.fill_between(fpr, fpr, tpr,color='grey')\n",
    "plt.legend(loc=4)\n",
    "plt.show"
   ]
  },
  {
   "cell_type": "markdown",
   "metadata": {},
   "source": [
    "# Exercice : Machine learning sur le le dataset contraceptive-method-choice"
   ]
  },
  {
   "cell_type": "markdown",
   "metadata": {},
   "source": [
    "Dans cette section on applique la régression logistique et l'arbre aléatoire au dataset travel insurance. Dans une premiere partie on manipile les données. Vous devez executer les cellule tout en lisant attentivement cette partie. Il faudrat comprendre cette dernière pour pouvoir fair le projet.<br>\n",
    "Le dataset vient du site kaggle : https://www.kaggle.com/faizunnabi/contraceptive-method-choice.<br> \n",
    "Vous pouvez charger les données en suivant ce lien: https://1drv.ms/t/s!Am09h0q2OIX0ccOvloeR-pTUI1Y?e=y2pPgL"
   ]
  },
  {
   "cell_type": "markdown",
   "metadata": {},
   "source": [
    "### Manipulation des données \n",
    "Dans ce dataset nous avons les variables suivantes:\n",
    " 1. Wife's age (numerical)\n",
    " 2. Wife's education (categorical) 1=low, 2, 3, 4=high\n",
    " 3. Husband's education (categorical) 1=low, 2, 3, 4=high\n",
    " 4. Number of children ever born (numerical)\n",
    " 5. Wife's religion (binary) 0=Non-Islam, 1=Islam\n",
    " 6. Wife's now working? (binary) 0=Yes, 1=No\n",
    " 7. Husband's occupation (categorical) 1, 2, 3, 4\n",
    " 8. Standard-of-living index (categorical) 1=low, 2, 3, 4=high\n",
    " 9. Media exposure (binary) 0=Good, 1=Not good\n",
    " 10. Contraceptive method used (class attribute) 1=No-use ,2=Long-term,3=Short-term\n",
    " \n",
    "La variable Contraceptive method used est la variable que l'on veut prédire  "
   ]
  },
  {
   "cell_type": "markdown",
   "metadata": {},
   "source": [
    "On importe les données:"
   ]
  },
  {
   "cell_type": "code",
   "execution_count": 148,
   "metadata": {},
   "outputs": [],
   "source": [
    "import pandas as pd\n",
    "#remplacer le chemin\n",
    "NON_VAR = ['WIFE_AGE','WIFE_EDU','HUSB_EDU','NUM_OF_CHILD',\\\n",
    "           'WIFE_RELI','WIFE_WORK','HUSB_OCUP','STA_OF_LIV','MEDIA_EXP','CONTRACEPTIVE']\n",
    "donnee = pd.read_csv(\"C:/Users/IFDU1270/Desktop/donneecours/cmc.data.txt\",sep=',',header=None,names=NON_VAR)"
   ]
  },
  {
   "cell_type": "markdown",
   "metadata": {},
   "source": [
    "On regarde la répartition de la variable cible"
   ]
  },
  {
   "cell_type": "code",
   "execution_count": 2,
   "metadata": {},
   "outputs": [
    {
     "data": {
      "text/plain": [
       "1    629\n",
       "3    511\n",
       "2    333\n",
       "Name: CONTRACEPTIVE, dtype: int64"
      ]
     },
     "execution_count": 2,
     "metadata": {},
     "output_type": "execute_result"
    }
   ],
   "source": [
    "donnee['CONTRACEPTIVE'].value_counts()"
   ]
  },
  {
   "cell_type": "markdown",
   "metadata": {},
   "source": [
    "On affiche les colonnes du dataset:"
   ]
  },
  {
   "cell_type": "code",
   "execution_count": 3,
   "metadata": {},
   "outputs": [
    {
     "data": {
      "text/plain": [
       "Index(['WIFE_AGE', 'WIFE_EDU', 'HUSB_EDU', 'NUM_OF_CHILD', 'WIFE_RELI',\n",
       "       'WIFE_WORK', 'HUSB_OCUP', 'STA_OF_LIV', 'MEDIA_EXP', 'CONTRACEPTIVE'],\n",
       "      dtype='object')"
      ]
     },
     "execution_count": 3,
     "metadata": {},
     "output_type": "execute_result"
    }
   ],
   "source": [
    "donnee.columns"
   ]
  },
  {
   "cell_type": "markdown",
   "metadata": {},
   "source": [
    "On sépare la colonne Claim que l'on veut prédire des autres:"
   ]
  },
  {
   "cell_type": "code",
   "execution_count": 149,
   "metadata": {},
   "outputs": [],
   "source": [
    "features = [o for o in donnee.columns if o !='CONTRACEPTIVE']\n",
    "X = donnee[features]\n",
    "Y = donnee['CONTRACEPTIVE']"
   ]
  },
  {
   "cell_type": "markdown",
   "metadata": {},
   "source": [
    "On réduit le problème à 2 classes : 0 n'utilise pas la contraception, 1 utilise la contraception:"
   ]
  },
  {
   "cell_type": "code",
   "execution_count": 150,
   "metadata": {},
   "outputs": [],
   "source": [
    "import numpy as np\n",
    "Y_red = np.where(Y==1,0,1)"
   ]
  },
  {
   "cell_type": "markdown",
   "metadata": {},
   "source": [
    "* On dummifie certaine variables catégorielles : 'WIFE_EDU','HUSB_EDU','HUSB_OCUP','STA_OF_LIV'.\n",
    "* Les varaibles catégorielles 'WIFE_RELI', 'WIFE_WORK', MEDIA_EXP sont déja dummifiés\n"
   ]
  },
  {
   "cell_type": "markdown",
   "metadata": {},
   "source": [
    "On convertie les variables a dummifier en caractère/string"
   ]
  },
  {
   "cell_type": "code",
   "execution_count": 151,
   "metadata": {},
   "outputs": [
    {
     "name": "stderr",
     "output_type": "stream",
     "text": [
      "C:\\Users\\IFDU1270\\Desktop\\newwin\\WPy-3710\\python-3.7.1.amd64\\lib\\site-packages\\pandas\\core\\indexing.py:543: SettingWithCopyWarning: \n",
      "A value is trying to be set on a copy of a slice from a DataFrame.\n",
      "Try using .loc[row_indexer,col_indexer] = value instead\n",
      "\n",
      "See the caveats in the documentation: http://pandas.pydata.org/pandas-docs/stable/indexing.html#indexing-view-versus-copy\n",
      "  self.obj[item] = s\n"
     ]
    }
   ],
   "source": [
    "import pandas as pd\n",
    "a_dummies = ['WIFE_EDU','HUSB_EDU','HUSB_OCUP','STA_OF_LIV']\n",
    "\n",
    "for var in a_dummies:\n",
    "    X.loc[:,var] = X.loc[:,var].copy().astype(str)\n",
    "\n",
    "X_dum = pd.get_dummies(X[a_dummies])   "
   ]
  },
  {
   "cell_type": "markdown",
   "metadata": {},
   "source": [
    "Ensuite on enlève les varaibles ['WIFE_EDU','HUSB_EDU','HUSB_OCUP','STA_OF_LIV'] et on concatène avec X_dum:"
   ]
  },
  {
   "cell_type": "code",
   "execution_count": 152,
   "metadata": {},
   "outputs": [],
   "source": [
    "A_garder = [var for var in list(X) if var not in a_dummies]\n",
    "X = X[A_garder]\n",
    "\n",
    "X = pd.concat([X,X_dum],axis=1)"
   ]
  },
  {
   "cell_type": "code",
   "execution_count": 12,
   "metadata": {},
   "outputs": [
    {
     "data": {
      "text/html": [
       "<div>\n",
       "<style scoped>\n",
       "    .dataframe tbody tr th:only-of-type {\n",
       "        vertical-align: middle;\n",
       "    }\n",
       "\n",
       "    .dataframe tbody tr th {\n",
       "        vertical-align: top;\n",
       "    }\n",
       "\n",
       "    .dataframe thead th {\n",
       "        text-align: right;\n",
       "    }\n",
       "</style>\n",
       "<table border=\"1\" class=\"dataframe\">\n",
       "  <thead>\n",
       "    <tr style=\"text-align: right;\">\n",
       "      <th></th>\n",
       "      <th>WIFE_AGE</th>\n",
       "      <th>NUM_OF_CHILD</th>\n",
       "      <th>WIFE_RELI</th>\n",
       "      <th>WIFE_WORK</th>\n",
       "      <th>MEDIA_EXP</th>\n",
       "      <th>WIFE_EDU_1</th>\n",
       "      <th>WIFE_EDU_2</th>\n",
       "      <th>WIFE_EDU_3</th>\n",
       "      <th>WIFE_EDU_4</th>\n",
       "      <th>HUSB_EDU_1</th>\n",
       "      <th>...</th>\n",
       "      <th>HUSB_EDU_3</th>\n",
       "      <th>HUSB_EDU_4</th>\n",
       "      <th>HUSB_OCUP_1</th>\n",
       "      <th>HUSB_OCUP_2</th>\n",
       "      <th>HUSB_OCUP_3</th>\n",
       "      <th>HUSB_OCUP_4</th>\n",
       "      <th>STA_OF_LIV_1</th>\n",
       "      <th>STA_OF_LIV_2</th>\n",
       "      <th>STA_OF_LIV_3</th>\n",
       "      <th>STA_OF_LIV_4</th>\n",
       "    </tr>\n",
       "  </thead>\n",
       "  <tbody>\n",
       "    <tr>\n",
       "      <th>0</th>\n",
       "      <td>24</td>\n",
       "      <td>3</td>\n",
       "      <td>1</td>\n",
       "      <td>1</td>\n",
       "      <td>0</td>\n",
       "      <td>0</td>\n",
       "      <td>1</td>\n",
       "      <td>0</td>\n",
       "      <td>0</td>\n",
       "      <td>0</td>\n",
       "      <td>...</td>\n",
       "      <td>1</td>\n",
       "      <td>0</td>\n",
       "      <td>0</td>\n",
       "      <td>1</td>\n",
       "      <td>0</td>\n",
       "      <td>0</td>\n",
       "      <td>0</td>\n",
       "      <td>0</td>\n",
       "      <td>1</td>\n",
       "      <td>0</td>\n",
       "    </tr>\n",
       "  </tbody>\n",
       "</table>\n",
       "<p>1 rows × 21 columns</p>\n",
       "</div>"
      ],
      "text/plain": [
       "   WIFE_AGE  NUM_OF_CHILD  WIFE_RELI  WIFE_WORK  MEDIA_EXP  WIFE_EDU_1  \\\n",
       "0        24             3          1          1          0           0   \n",
       "\n",
       "   WIFE_EDU_2  WIFE_EDU_3  WIFE_EDU_4  HUSB_EDU_1      ...       HUSB_EDU_3  \\\n",
       "0           1           0           0           0      ...                1   \n",
       "\n",
       "   HUSB_EDU_4  HUSB_OCUP_1  HUSB_OCUP_2  HUSB_OCUP_3  HUSB_OCUP_4  \\\n",
       "0           0            0            1            0            0   \n",
       "\n",
       "   STA_OF_LIV_1  STA_OF_LIV_2  STA_OF_LIV_3  STA_OF_LIV_4  \n",
       "0             0             0             1             0  \n",
       "\n",
       "[1 rows x 21 columns]"
      ]
     },
     "execution_count": 12,
     "metadata": {},
     "output_type": "execute_result"
    }
   ],
   "source": [
    "X.head(1)"
   ]
  },
  {
   "cell_type": "markdown",
   "metadata": {},
   "source": [
    "### Exercice 1 : régression logistique sur les données contraceptive-method-choice\n",
    "On utilise X et Y_red: X est l'ensembles des features (variables explicatives). Y_red est la target value, c'est à dire la variable que l'on veut prédire"
   ]
  },
  {
   "cell_type": "markdown",
   "metadata": {},
   "source": [
    "1/ Diviser en échantillon d'apprentissage et de test. On utilisera train_test_split comme dans l'exemple ci-dessus. On prendra l'option random_state=1998. L'échantillon dapprentissage s'appelle X_train, Y_train et celui de test s'appelle X_test, Y_test."
   ]
  },
  {
   "cell_type": "code",
   "execution_count": 153,
   "metadata": {},
   "outputs": [],
   "source": [
    "from sklearn.model_selection import train_test_split\n",
    "X_train, X_test,Y_train, Y_test = train_test_split(X,Y_red,test_size=0.33,random_state=1998)"
   ]
  },
  {
   "cell_type": "markdown",
   "metadata": {},
   "source": [
    "2/ Appeler un modèle de régression logistique, avec les parametre suivants:\n",
    "* penalty='l2'\n",
    "* solver='lbfgs'\n",
    "* C=1/2\n",
    "* max_iter=1000\n",
    "\n",
    "Ce medèle s'appelle logit1"
   ]
  },
  {
   "cell_type": "code",
   "execution_count": 55,
   "metadata": {},
   "outputs": [],
   "source": [
    "from sklearn.linear_model import LogisticRegression\n",
    "logit1 = LogisticRegression(penalty='l2',solver='lbfgs',C=1,max_iter=1000, multi_class='auto')"
   ]
  },
  {
   "cell_type": "markdown",
   "metadata": {},
   "source": [
    "3/Entrainer le moèle logit1 avec les données X_train et Y_train."
   ]
  },
  {
   "cell_type": "code",
   "execution_count": 56,
   "metadata": {},
   "outputs": [
    {
     "data": {
      "text/plain": [
       "LogisticRegression(C=1, class_weight=None, dual=False, fit_intercept=True,\n",
       "          intercept_scaling=1, max_iter=1000, multi_class='auto',\n",
       "          n_jobs=None, penalty='l2', random_state=None, solver='lbfgs',\n",
       "          tol=0.0001, verbose=0, warm_start=False)"
      ]
     },
     "execution_count": 56,
     "metadata": {},
     "output_type": "execute_result"
    }
   ],
   "source": [
    "logit1.fit(X_train,Y_train)"
   ]
  },
  {
   "cell_type": "markdown",
   "metadata": {},
   "source": [
    "4/ Faite la prévision Y_pred que logit1 produit avec X_test. "
   ]
  },
  {
   "cell_type": "code",
   "execution_count": 53,
   "metadata": {},
   "outputs": [],
   "source": [
    "Y_pred = logit1.predict(X_test)"
   ]
  },
  {
   "cell_type": "markdown",
   "metadata": {},
   "source": [
    "5/ Calculer la précision du modèle logit1 sur les données de test."
   ]
  },
  {
   "cell_type": "code",
   "execution_count": 57,
   "metadata": {},
   "outputs": [
    {
     "data": {
      "text/plain": [
       "0.6632443531827515"
      ]
     },
     "execution_count": 57,
     "metadata": {},
     "output_type": "execute_result"
    }
   ],
   "source": [
    "from sklearn.metrics import accuracy_score\n",
    "accuracy_score(Y_test,Y_pred)"
   ]
  },
  {
   "cell_type": "markdown",
   "metadata": {},
   "source": [
    "6/Calculer la matrice de confusion de logit1 sur les donnée X_test, Y_test."
   ]
  },
  {
   "cell_type": "code",
   "execution_count": 58,
   "metadata": {},
   "outputs": [
    {
     "data": {
      "text/plain": [
       "array([[ 98, 113],\n",
       "       [ 51, 225]], dtype=int64)"
      ]
     },
     "execution_count": 58,
     "metadata": {},
     "output_type": "execute_result"
    }
   ],
   "source": [
    "from sklearn.metrics import confusion_matrix\n",
    "confusion_matrix(Y_test,Y_pred)"
   ]
  },
  {
   "cell_type": "markdown",
   "metadata": {},
   "source": [
    "7/Calculer les prévisions en probabilité du modèle sur les données X_test."
   ]
  },
  {
   "cell_type": "code",
   "execution_count": 59,
   "metadata": {},
   "outputs": [],
   "source": [
    "Y_prob = logit1.predict_proba(X_test)"
   ]
  },
  {
   "cell_type": "markdown",
   "metadata": {},
   "source": [
    "8/Calculer le score AUC du modèle logit1 sur les données."
   ]
  },
  {
   "cell_type": "code",
   "execution_count": 60,
   "metadata": {},
   "outputs": [
    {
     "data": {
      "text/plain": [
       "0.7070368844014012"
      ]
     },
     "execution_count": 60,
     "metadata": {},
     "output_type": "execute_result"
    }
   ],
   "source": [
    "from sklearn.metrics import roc_auc_score\n",
    "roc_auc_score(Y_test,logit1.predict_proba(X_test)[:,1])"
   ]
  },
  {
   "cell_type": "markdown",
   "metadata": {},
   "source": [
    "9/ tracer la cource ROC de logit1 sur les données X_test, Y_test"
   ]
  },
  {
   "cell_type": "code",
   "execution_count": 63,
   "metadata": {},
   "outputs": [],
   "source": [
    "import numpy as np\n",
    "import matplotlib.pyplot as plt\n",
    "\n",
    "from sklearn.metrics import roc_curve, auc\n",
    "\n",
    "fpr, tpr, thresholds = roc_curve(Y_test,logit1.predict_proba(X_test)[:,1])\n",
    "score_AUC = np.round(auc(fpr,tpr),2)"
   ]
  },
  {
   "cell_type": "code",
   "execution_count": 71,
   "metadata": {},
   "outputs": [
    {
     "data": {
      "text/plain": [
       "<function matplotlib.pyplot.show(*args, **kw)>"
      ]
     },
     "execution_count": 71,
     "metadata": {},
     "output_type": "execute_result"
    },
    {
     "data": {
      "image/png": "[encoded data removed]",
      "text/plain": [
       "<Figure size 432x288 with 1 Axes>"
      ]
     },
     "metadata": {
      "needs_background": "light"
     },
     "output_type": "display_data"
    }
   ],
   "source": [
    "plt.plot(fpr,tpr,color='navy',label='Courbe ROC, AUC='+str(score_AUC))\n",
    "plt.xlabel(\"fpr\")\n",
    "plt.ylabel(\"tpr\")\n",
    "plt.legend(loc=0)\n",
    "plt.plot([0,1],[0,1],color='navy')\n",
    "plt.fill_between(fpr,fpr,tpr,color='grey',alpha=0.5)\n",
    "plt.show"
   ]
  },
  {
   "cell_type": "markdown",
   "metadata": {},
   "source": [
    "### Exercice 2 : arbre de décision"
   ]
  },
  {
   "cell_type": "markdown",
   "metadata": {},
   "source": [
    "1/ Diviser en échantillon d'apprentissage et de test. On utilisera train_test_split comme dans l'exemple ci-dessus. On prendra l'option random_state=1998. L'échantillon dapprentissage s'appelle X_train, Y_train et celui de test s'appelle X_test, Y_test."
   ]
  },
  {
   "cell_type": "code",
   "execution_count": 7,
   "metadata": {},
   "outputs": [],
   "source": [
    "from sklearn.model_selection import train_test_split\n",
    "X_train, X_test,Y_train, Y_test = train_test_split(X,Y_red,test_size=0.33,random_state=1998)"
   ]
  },
  {
   "cell_type": "markdown",
   "metadata": {},
   "source": [
    "2/ Faire un modele d'arbre de décision sklearn.tree.DecisionTreeClassifier. Ce modele s'appelle arbre."
   ]
  },
  {
   "cell_type": "code",
   "execution_count": 8,
   "metadata": {},
   "outputs": [],
   "source": [
    "from sklearn.tree import DecisionTreeClassifier\n",
    "arbre = DecisionTreeClassifier(random_state=1998,criterion='gini')"
   ]
  },
  {
   "cell_type": "markdown",
   "metadata": {},
   "source": [
    "3/ Entrainer le modèle arbre avec les données X_train et Y_train "
   ]
  },
  {
   "cell_type": "code",
   "execution_count": 10,
   "metadata": {},
   "outputs": [
    {
     "data": {
      "text/plain": [
       "DecisionTreeClassifier(class_weight=None, criterion='gini', max_depth=None,\n",
       "            max_features=None, max_leaf_nodes=None,\n",
       "            min_impurity_decrease=0.0, min_impurity_split=None,\n",
       "            min_samples_leaf=1, min_samples_split=2,\n",
       "            min_weight_fraction_leaf=0.0, presort=False, random_state=1998,\n",
       "            splitter='best')"
      ]
     },
     "execution_count": 10,
     "metadata": {},
     "output_type": "execute_result"
    }
   ],
   "source": [
    "arbre.fit(X_train,Y_train)"
   ]
  },
  {
   "cell_type": "markdown",
   "metadata": {},
   "source": [
    "4/ Calculer les prédictions Y_pred du modèle arbre sur les données X_test. "
   ]
  },
  {
   "cell_type": "code",
   "execution_count": 11,
   "metadata": {},
   "outputs": [],
   "source": [
    "Y_pred = arbre.predict(X_test)"
   ]
  },
  {
   "cell_type": "markdown",
   "metadata": {},
   "source": [
    "5/ Calculer la précision du modèle arbre sur les données X_test et Y_test"
   ]
  },
  {
   "cell_type": "code",
   "execution_count": 12,
   "metadata": {},
   "outputs": [
    {
     "data": {
      "text/plain": [
       "0.6632443531827515"
      ]
     },
     "execution_count": 12,
     "metadata": {},
     "output_type": "execute_result"
    }
   ],
   "source": [
    "from sklearn.metrics import accuracy_score\n",
    "accuracy_score(Y_test,arbre.predict(X_test))"
   ]
  },
  {
   "cell_type": "markdown",
   "metadata": {},
   "source": [
    "6/ Faire un modèle d'arbre de décision arbrebis avec les paramètre suivants\n",
    "* random_state=1998\n",
    "* criterion='gini'\n",
    "* max_depth=9\n",
    "* min_samples_split=4\n",
    "* min_samples_leaf=3\n",
    "En trainer ce modèle"
   ]
  },
  {
   "cell_type": "code",
   "execution_count": 13,
   "metadata": {},
   "outputs": [
    {
     "data": {
      "text/plain": [
       "DecisionTreeClassifier(class_weight=None, criterion='gini', max_depth=9,\n",
       "            max_features=None, max_leaf_nodes=None,\n",
       "            min_impurity_decrease=0.0, min_impurity_split=None,\n",
       "            min_samples_leaf=3, min_samples_split=4,\n",
       "            min_weight_fraction_leaf=0.0, presort=False, random_state=1998,\n",
       "            splitter='best')"
      ]
     },
     "execution_count": 13,
     "metadata": {},
     "output_type": "execute_result"
    }
   ],
   "source": [
    "from sklearn.tree import DecisionTreeClassifier\n",
    "arbrebis = DecisionTreeClassifier(random_state=1998,criterion='gini',max_depth=9,min_samples_split=4,min_samples_leaf=3)\n",
    "arbrebis.fit(X_train,Y_train)"
   ]
  },
  {
   "cell_type": "markdown",
   "metadata": {},
   "source": [
    "7/Calculer la précision du modèle sur les données X_test et Y_test."
   ]
  },
  {
   "cell_type": "code",
   "execution_count": 14,
   "metadata": {},
   "outputs": [
    {
     "data": {
      "text/plain": [
       "0.702258726899384"
      ]
     },
     "execution_count": 14,
     "metadata": {},
     "output_type": "execute_result"
    }
   ],
   "source": [
    "from sklearn.metrics import accuracy_score\n",
    "accuracy_score(Y_test,arbrebis.predict(X_test))\n",
    "#0.6878850102669405"
   ]
  },
  {
   "cell_type": "markdown",
   "metadata": {},
   "source": [
    "8/ Calculer la prédiction en probabilité du modèle arbrebis sur X_test, Y_test."
   ]
  },
  {
   "cell_type": "code",
   "execution_count": 15,
   "metadata": {},
   "outputs": [],
   "source": [
    "Y_pred_prob = arbrebis.predict_proba(X_test)"
   ]
  },
  {
   "cell_type": "markdown",
   "metadata": {},
   "source": [
    "9/ Caluler le score AUC du modèle arbrebis sur les données X_test et Y_test."
   ]
  },
  {
   "cell_type": "code",
   "execution_count": 16,
   "metadata": {},
   "outputs": [
    {
     "data": {
      "text/plain": [
       "0.7134332715159009"
      ]
     },
     "execution_count": 16,
     "metadata": {},
     "output_type": "execute_result"
    }
   ],
   "source": [
    "from sklearn.metrics import roc_auc_score\n",
    "accuracy_score(Y_test,arbrebis.predict(X_test))\n",
    "roc_auc_score(Y_test,arbrebis.predict_proba(X_test)[:,1])"
   ]
  },
  {
   "cell_type": "markdown",
   "metadata": {},
   "source": [
    "10/ Faire la courbe roc du modèle arbrebis"
   ]
  },
  {
   "cell_type": "code",
   "execution_count": 25,
   "metadata": {},
   "outputs": [
    {
     "data": {
      "text/plain": [
       "<function matplotlib.pyplot.show(*args, **kw)>"
      ]
     },
     "execution_count": 25,
     "metadata": {},
     "output_type": "execute_result"
    },
    {
     "data": {
      "image/png": "[encoded data removed]",
      "text/plain": [
       "<Figure size 432x288 with 1 Axes>"
      ]
     },
     "metadata": {
      "needs_background": "light"
     },
     "output_type": "display_data"
    }
   ],
   "source": [
    "from sklearn.metrics import roc_curve, auc\n",
    "import numpy as np\n",
    "import matplotlib.pyplot as plt\n",
    "\n",
    "fpr, tpr, thresholds = roc_curve(Y_test,arbrebis.predict_proba(X_test)[:,1])\n",
    "score_auc = np.round(auc(fpr,tpr),3)\n",
    "\n",
    "plt.plot(fpr,tpr,color='red',label=\"COURBE ROC, AUC=\"+str(score_auc))\n",
    "plt.xlabel(\"fpr\")\n",
    "plt.ylabel(\"tpr\")\n",
    "plt.plot([0,1],[0,1],color='red')\n",
    "plt.legend(loc=3)\n",
    "plt.fill_between(fpr,fpr,tpr,color='grey')\n",
    "plt.text(0.4,0.6,\"0.713\")\n",
    "plt.show"
   ]
  },
  {
   "cell_type": "markdown",
   "metadata": {},
   "source": [
    "11/Ilustrer l'importance des features par un diagramme en baton. On gardera les 15 features les plus importants."
   ]
  },
  {
   "cell_type": "code",
   "execution_count": 41,
   "metadata": {},
   "outputs": [
    {
     "data": {
      "text/plain": [
       "<function matplotlib.pyplot.show(*args, **kw)>"
      ]
     },
     "execution_count": 41,
     "metadata": {},
     "output_type": "execute_result"
    },
    {
     "data": {
      "image/png": "[encoded data removed]",
      "text/plain": [
       "<Figure size 432x288 with 1 Axes>"
      ]
     },
     "metadata": {
      "needs_background": "light"
     },
     "output_type": "display_data"
    }
   ],
   "source": [
    "NON_FEATURES = X_train.columns\n",
    "\n",
    "import numpy as np\n",
    "IMPORTANCE_FEATURES = 100*np.round(arbrebis.feature_importances_,2)\n",
    "loca = np.arange(len(IMPORTANCE_FEATURES))\n",
    "\n",
    "index = np.argsort(IMPORTANCE_FEATURES)[::-1]\n",
    "\n",
    "#on ordonne \n",
    "IMPORTANCE_FEATURES = IMPORTANCE_FEATURES[index][0:15]\n",
    "NON_FEATURES = NON_FEATURES[index][0:15]\n",
    "loca  = loca[0:15]\n",
    "\n",
    "import matplotlib.pyplot as plt\n",
    "plt.bar(loca,IMPORTANCE_FEATURES,edgecolor='red',color='red')\n",
    "plt.yticks([])\n",
    "plt.xticks(loca,NON_FEATURES,color='black',rotation=80)\n",
    "plt.box(False)\n",
    "for i in range(0,len(NON_FEATURES)):\n",
    "    plt.text(loca[i]-0.3,IMPORTANCE_FEATURES[i],str(np.round(IMPORTANCE_FEATURES[i],1)))\n",
    "plt.show"
   ]
  },
  {
   "cell_type": "markdown",
   "metadata": {},
   "source": [
    "### Exercice 3 : random forest sur les données contraceptive-method-choice"
   ]
  },
  {
   "cell_type": "markdown",
   "metadata": {},
   "source": [
    "1/ Faire un modèle de random forest randfo de la manière suivante:\n",
    "* criterion='gini'\n",
    "* random_state=1998\n",
    "* la profondeur de chaques arbre est 9\n",
    "* min_samples_split=3\n",
    "* min_samples_leaf=2\n",
    "* max_features=0.7\n",
    "Entrainer le modèle randfo avec les données X_train et Y_train"
   ]
  },
  {
   "cell_type": "code",
   "execution_count": 207,
   "metadata": {},
   "outputs": [
    {
     "data": {
      "text/plain": [
       "RandomForestClassifier(bootstrap=True, class_weight=None, criterion='gini',\n",
       "            max_depth=9, max_features=0.7, max_leaf_nodes=None,\n",
       "            min_impurity_decrease=0.0, min_impurity_split=None,\n",
       "            min_samples_leaf=2, min_samples_split=3,\n",
       "            min_weight_fraction_leaf=0.0, n_estimators=200, n_jobs=None,\n",
       "            oob_score=False, random_state=1998, verbose=0,\n",
       "            warm_start=False)"
      ]
     },
     "execution_count": 207,
     "metadata": {},
     "output_type": "execute_result"
    }
   ],
   "source": [
    "from sklearn.ensemble import RandomForestClassifier\n",
    "randfo = RandomForestClassifier(n_estimators=200,criterion='gini',random_state=1998,\\\n",
    "                                max_depth=9, min_samples_split=3,min_samples_leaf=2,max_features=0.7)\n",
    "\n",
    "randfo.fit(X_train,Y_train)"
   ]
  },
  {
   "cell_type": "markdown",
   "metadata": {},
   "source": [
    "2/Donner une interpretation du paramètre max_features."
   ]
  },
  {
   "cell_type": "markdown",
   "metadata": {},
   "source": [
    "3/ Calculer la précision randfo sur X_test et Y_test."
   ]
  },
  {
   "cell_type": "code",
   "execution_count": 208,
   "metadata": {},
   "outputs": [
    {
     "data": {
      "text/plain": [
       "0.7268993839835729"
      ]
     },
     "execution_count": 208,
     "metadata": {},
     "output_type": "execute_result"
    }
   ],
   "source": [
    "from sklearn.metrics import accuracy_score\n",
    "accuracy_score(Y_test,randfo.predict(X_test))"
   ]
  },
  {
   "cell_type": "markdown",
   "metadata": {},
   "source": [
    "4/ Calculer le score AUC de randfo sur X_test et Y_test."
   ]
  },
  {
   "cell_type": "code",
   "execution_count": 209,
   "metadata": {},
   "outputs": [
    {
     "data": {
      "text/plain": [
       "0.7676351397760834"
      ]
     },
     "execution_count": 209,
     "metadata": {},
     "output_type": "execute_result"
    }
   ],
   "source": [
    "from sklearn.metrics import roc_auc_score\n",
    "roc_auc_score(Y_test,randfo.predict_proba(X_test)[:,1])"
   ]
  },
  {
   "cell_type": "code",
   "execution_count": null,
   "metadata": {},
   "outputs": [],
   "source": []
  }
 ],
 "metadata": {
  "kernelspec": {
   "display_name": "Python 3",
   "language": "python",
   "name": "python3"
  },
  "language_info": {
   "codemirror_mode": {
    "name": "ipython",
    "version": 3
   },
   "file_extension": ".py",
   "mimetype": "text/x-python",
   "name": "python",
   "nbconvert_exporter": "python",
   "pygments_lexer": "ipython3",
   "version": "3.7.1"
  }
 },
 "nbformat": 4,
 "nbformat_minor": 2
}
